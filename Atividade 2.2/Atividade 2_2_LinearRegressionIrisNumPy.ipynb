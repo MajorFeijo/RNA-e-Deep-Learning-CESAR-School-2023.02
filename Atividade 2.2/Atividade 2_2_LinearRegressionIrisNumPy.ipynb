{
  "cells": [
    {
      "cell_type": "markdown",
      "metadata": {
        "id": "5yQgzdjbf9RT"
      },
      "source": [
        "# Regressão Linear com NumPy"
      ]
    },
    {
      "cell_type": "markdown",
      "metadata": {
        "heading_collapsed": true,
        "id": "p5HfrYM3f9RU"
      },
      "source": [
        "## Objetivos deste experimento"
      ]
    },
    {
      "cell_type": "markdown",
      "metadata": {
        "hidden": true,
        "id": "IIYC2db7f9RW"
      },
      "source": [
        "Este exemplo utiliza regressão linear para estimar o comprimento das sépalas da íris a partir do seu comprimento das pétalas.\n",
        "Utiliza-se programação totalmente NumPy com:\n",
        "- o **cálculo do gradiente**,\n",
        "- a **função de perda** e\n",
        "- a atualização dos parâmetros são feitos de forma explícita.\n",
        "- A rede é criada com uma camada como uma classe"
      ]
    },
    {
      "cell_type": "markdown",
      "metadata": {
        "hidden": true,
        "id": "ImJOZIiNf9RW"
      },
      "source": [
        "![alt text](https://raw.githubusercontent.com/vcasadei/images/master/RegressaoLinear_Otimizacao.png)"
      ]
    },
    {
      "cell_type": "markdown",
      "metadata": {
        "heading_collapsed": true,
        "id": "EeTHWCuMf9RX"
      },
      "source": [
        "## Importação dos pacotes"
      ]
    },
    {
      "cell_type": "code",
      "execution_count": 23,
      "metadata": {
        "ExecuteTime": {
          "end_time": "2017-10-08T11:19:38.728936Z",
          "start_time": "2017-10-08T11:19:36.888541Z"
        },
        "hidden": true,
        "id": "5yPytaCLf9RY"
      },
      "outputs": [],
      "source": [
        "%matplotlib inline\n",
        "import matplotlib.pyplot as plt   # para plotting\n",
        "\n",
        "from sklearn.datasets import load_iris  # para carregar dataset\n",
        "\n",
        "import numpy as np  # processamento matricial\n",
        "\n",
        "np.random.seed(1234)"
      ]
    },
    {
      "cell_type": "markdown",
      "metadata": {
        "heading_collapsed": true,
        "id": "wDkSLSnmf9Rc"
      },
      "source": [
        "## Dataset"
      ]
    },
    {
      "cell_type": "markdown",
      "metadata": {
        "heading_collapsed": true,
        "hidden": true,
        "id": "ldcOnrBvf9Rd"
      },
      "source": [
        "### Leitura dos dados"
      ]
    },
    {
      "cell_type": "code",
      "execution_count": 2,
      "metadata": {
        "ExecuteTime": {
          "end_time": "2017-10-08T11:19:38.747769Z",
          "start_time": "2017-10-08T11:19:38.730907Z"
        },
        "colab": {
          "base_uri": "https://localhost:8080/"
        },
        "hidden": true,
        "id": "l3t1qaa0f9Re",
        "outputId": "2cc5590e-4fa8-4248-d77f-a0c9c75631c0"
      },
      "outputs": [
        {
          "output_type": "stream",
          "name": "stdout",
          "text": [
            "x_train.shape: (50, 1) float64\n",
            "y_train.shape: (50, 1) float64\n",
            "x_train[:5]:\n",
            " [[7. ]\n",
            " [6.4]\n",
            " [6.9]\n",
            " [5.5]\n",
            " [6.5]]\n",
            "y_train[:5]:\n",
            " [[4.7]\n",
            " [4.5]\n",
            " [4.9]\n",
            " [4. ]\n",
            " [4.6]]\n"
          ]
        }
      ],
      "source": [
        "iris = load_iris()\n",
        "data = iris.data[iris.target==1,::2]  # comprimento das sépalas e pétalas, indices 0 e 2\n",
        "\n",
        "x_train = data[:,0:1]\n",
        "y_train = data[:,1:2]\n",
        "\n",
        "n_samples = x_train.shape[0]\n",
        "print('x_train.shape:',x_train.shape, x_train.dtype)\n",
        "print('y_train.shape:',y_train.shape, y_train.dtype)\n",
        "\n",
        "print('x_train[:5]:\\n', x_train[:5])\n",
        "print('y_train[:5]:\\n', y_train[:5])"
      ]
    },
    {
      "cell_type": "markdown",
      "metadata": {
        "hidden": true,
        "id": "aPQ-L6FVf9Rk"
      },
      "source": [
        "### Normalização dos dados"
      ]
    },
    {
      "cell_type": "code",
      "execution_count": 3,
      "metadata": {
        "ExecuteTime": {
          "end_time": "2017-10-08T11:19:38.756343Z",
          "start_time": "2017-10-08T11:19:38.750395Z"
        },
        "hidden": true,
        "id": "POM323GEf9Rl"
      },
      "outputs": [],
      "source": [
        "x_train -= x_train.min()\n",
        "x_train /= x_train.max()\n",
        "y_train -= y_train.min()\n",
        "y_train /= y_train.max()"
      ]
    },
    {
      "cell_type": "code",
      "execution_count": 4,
      "metadata": {
        "ExecuteTime": {
          "end_time": "2017-10-08T11:19:39.127199Z",
          "start_time": "2017-10-08T11:19:38.759104Z"
        },
        "colab": {
          "base_uri": "https://localhost:8080/",
          "height": 466
        },
        "hidden": true,
        "id": "dx5AO9Qxf9Rn",
        "outputId": "b456bb2e-74d5-423a-c514-cb8471ddb091"
      },
      "outputs": [
        {
          "output_type": "execute_result",
          "data": {
            "text/plain": [
              "Text(0, 0.5, 'Comprimento petalas')"
            ]
          },
          "metadata": {},
          "execution_count": 4
        },
        {
          "output_type": "display_data",
          "data": {
            "text/plain": [
              "<Figure size 640x480 with 1 Axes>"
            ],
            "image/png": "[encoded data removed]"
          },
          "metadata": {}
        }
      ],
      "source": [
        "plt.scatter(x_train,y_train)\n",
        "plt.xlabel('Comprimento sepalas')\n",
        "plt.ylabel('Comprimento petalas')"
      ]
    },
    {
      "cell_type": "markdown",
      "metadata": {
        "heading_collapsed": true,
        "id": "poW81teqf9Rr"
      },
      "source": [
        "## Modelo da rede"
      ]
    },
    {
      "cell_type": "markdown",
      "metadata": {
        "hidden": true,
        "id": "QXFLlJ0_f9Rt"
      },
      "source": [
        "### Reta de ajuste"
      ]
    },
    {
      "cell_type": "markdown",
      "metadata": {
        "hidden": true,
        "id": "s7JuPXysf9Rt"
      },
      "source": [
        "A equação da reta no plano necessita de dois parâmetros, aqui denominados $w_0$ (*bias*) e inclinação $w_1$. Veja figura:\n",
        "\n",
        "![alt text](https://raw.githubusercontent.com/vcasadei/images/master/linhareta.png)\n",
        "\n",
        "A reta de ajuste será dada por:\n",
        "\n",
        "$$ \\hat{y} = w_0 + w_1 x $$\n",
        "\n",
        "onde\n",
        "* $w_1$ é o coeficiente angular da reta e\n",
        "* $w_0$ é a interseção do eixo vertical quando x é igual a zero, também denominado de *bias*.\n",
        "* $x$ é a variável de entrada (comprimento das sépalas) e\n",
        "* $\\hat{y}$ é a predição (comprimento estimado das pétalas)."
      ]
    },
    {
      "cell_type": "markdown",
      "metadata": {
        "hidden": true,
        "id": "hwin_xPff9Ru"
      },
      "source": [
        "### Linear Regression Model"
      ]
    },
    {
      "cell_type": "markdown",
      "metadata": {
        "hidden": true,
        "id": "c7ilOLnkf9Rw"
      },
      "source": [
        "![alt text](https://raw.githubusercontent.com/vcasadei/images/master/RegressaoLinearNeuronio.png)"
      ]
    },
    {
      "cell_type": "markdown",
      "metadata": {
        "hidden": true,
        "id": "H0CzMB91f9Rx"
      },
      "source": [
        "### Formulação matricial do neurônio"
      ]
    },
    {
      "cell_type": "markdown",
      "metadata": {
        "hidden": true,
        "id": "-wWz_wpYf9Ry"
      },
      "source": [
        "* $\\mathbf{w} = [w_0 \\ w_1]$ é vetor linha de parâmetros e\n",
        "* $\\mathbf{x} = [1 \\ x_0] $ é vetor linha de uma amostra (com *bias*).\n",
        "\n",
        "$$ \\hat{y} = 1 w_0 + x_0 w_1 $$\n",
        "\n",
        "$$ [\\hat{y}] = [1 \\ x_0] \\begin{bmatrix} w_0 \\\\ w_1 \\end{bmatrix} $$\n",
        "\n",
        "$$ \\mathbf{\\hat{y}} = \\mathbf{x} \\mathbf{w^T} $$"
      ]
    },
    {
      "cell_type": "markdown",
      "metadata": {
        "hidden": true,
        "id": "rQ1lc-dYf9Rz"
      },
      "source": [
        "### Fazendo o predict de várias amostras"
      ]
    },
    {
      "cell_type": "markdown",
      "metadata": {
        "hidden": true,
        "id": "fh068Clrf9R0"
      },
      "source": [
        "$$ \\begin{matrix}\n",
        "\\begin{bmatrix}\n",
        "\\hat{y}_0\\\\\n",
        "\\hat{y}_1\\\\\n",
        "\\\\\n",
        "\\hat{y}_{M-1}\n",
        "\\end{bmatrix} &=& \\begin{bmatrix}\n",
        "1 & x_0 \\\\\n",
        "1 & x_1\\\\\n",
        "\\\\\n",
        "1 & x_{M-1} \\\\\n",
        "\\end{bmatrix}\n",
        "&\n",
        "\\begin{bmatrix}\n",
        "w_0\\\\\n",
        "w_1\n",
        "\\end{bmatrix} \\\\\n",
        "(M,1) & & (M,2) & (2,1) \\\\\n",
        "\\end{matrix} $$"
      ]
    },
    {
      "cell_type": "markdown",
      "metadata": {
        "hidden": true,
        "id": "jjSchAsZf9R2"
      },
      "source": [
        "### Preenchendo x com coluna de 1's para bias"
      ]
    },
    {
      "cell_type": "code",
      "execution_count": 5,
      "metadata": {
        "ExecuteTime": {
          "end_time": "2017-10-08T11:19:39.135089Z",
          "start_time": "2017-10-08T11:19:39.129385Z"
        },
        "hidden": true,
        "id": "plZEY5-tf9R2"
      },
      "outputs": [],
      "source": [
        "x_train_bias = np.hstack([np.ones(shape=(n_samples,1)), x_train])"
      ]
    },
    {
      "cell_type": "code",
      "execution_count": 6,
      "metadata": {
        "colab": {
          "base_uri": "https://localhost:8080/"
        },
        "id": "tXYx3JdMf9R6",
        "outputId": "ef83bf53-ead0-434b-9dbc-e876ff906b34"
      },
      "outputs": [
        {
          "output_type": "execute_result",
          "data": {
            "text/plain": [
              "array([[1.        , 1.        ],\n",
              "       [1.        , 0.71428571],\n",
              "       [1.        , 0.95238095],\n",
              "       [1.        , 0.28571429],\n",
              "       [1.        , 0.76190476],\n",
              "       [1.        , 0.38095238],\n",
              "       [1.        , 0.66666667],\n",
              "       [1.        , 0.        ],\n",
              "       [1.        , 0.80952381],\n",
              "       [1.        , 0.14285714],\n",
              "       [1.        , 0.04761905],\n",
              "       [1.        , 0.47619048],\n",
              "       [1.        , 0.52380952],\n",
              "       [1.        , 0.57142857],\n",
              "       [1.        , 0.33333333],\n",
              "       [1.        , 0.85714286],\n",
              "       [1.        , 0.33333333],\n",
              "       [1.        , 0.42857143],\n",
              "       [1.        , 0.61904762],\n",
              "       [1.        , 0.33333333],\n",
              "       [1.        , 0.47619048],\n",
              "       [1.        , 0.57142857],\n",
              "       [1.        , 0.66666667],\n",
              "       [1.        , 0.57142857],\n",
              "       [1.        , 0.71428571],\n",
              "       [1.        , 0.80952381],\n",
              "       [1.        , 0.9047619 ],\n",
              "       [1.        , 0.85714286],\n",
              "       [1.        , 0.52380952],\n",
              "       [1.        , 0.38095238],\n",
              "       [1.        , 0.28571429],\n",
              "       [1.        , 0.28571429],\n",
              "       [1.        , 0.42857143],\n",
              "       [1.        , 0.52380952],\n",
              "       [1.        , 0.23809524],\n",
              "       [1.        , 0.52380952],\n",
              "       [1.        , 0.85714286],\n",
              "       [1.        , 0.66666667],\n",
              "       [1.        , 0.33333333],\n",
              "       [1.        , 0.28571429],\n",
              "       [1.        , 0.28571429],\n",
              "       [1.        , 0.57142857],\n",
              "       [1.        , 0.42857143],\n",
              "       [1.        , 0.04761905],\n",
              "       [1.        , 0.33333333],\n",
              "       [1.        , 0.38095238],\n",
              "       [1.        , 0.38095238],\n",
              "       [1.        , 0.61904762],\n",
              "       [1.        , 0.0952381 ],\n",
              "       [1.        , 0.38095238]])"
            ]
          },
          "metadata": {},
          "execution_count": 6
        }
      ],
      "source": [
        "x_train_bias"
      ]
    },
    {
      "cell_type": "markdown",
      "metadata": {
        "hidden": true,
        "id": "GOtS_8OSf9SC"
      },
      "source": [
        "### Classe com o modelo da rede"
      ]
    },
    {
      "cell_type": "code",
      "execution_count": 7,
      "metadata": {
        "ExecuteTime": {
          "end_time": "2017-10-08T11:19:39.143879Z",
          "start_time": "2017-10-08T11:19:39.137134Z"
        },
        "hidden": true,
        "id": "aKLVIQUtf9SD"
      },
      "outputs": [],
      "source": [
        "class Net():\n",
        "    def __init__(self, n_in, n_out):\n",
        "        self.w = np.random.uniform(-0.1,0.1,(n_out,n_in)) #inicialização dos parâmetros\n",
        "\n",
        "    def forward(self, x_bias):\n",
        "        return x_bias.dot(self.w.T)"
      ]
    },
    {
      "cell_type": "markdown",
      "metadata": {
        "hidden": true,
        "id": "0j0hN9l_f9SH"
      },
      "source": [
        "### Criando a rede, instanciando o objeto model"
      ]
    },
    {
      "cell_type": "code",
      "execution_count": 8,
      "metadata": {
        "ExecuteTime": {
          "end_time": "2017-10-08T11:19:39.151717Z",
          "start_time": "2017-10-08T11:19:39.146858Z"
        },
        "hidden": true,
        "id": "5o5Zkqn5f9SI"
      },
      "outputs": [],
      "source": [
        "model = Net(2,1) # duas entradas (1 + x0) e uma saída y_pred"
      ]
    },
    {
      "cell_type": "markdown",
      "metadata": {
        "hidden": true,
        "id": "F3yolUOGf9SL"
      },
      "source": [
        "### Testando o predict da rede (mesmo sem treiná-la)"
      ]
    },
    {
      "cell_type": "code",
      "execution_count": 9,
      "metadata": {
        "ExecuteTime": {
          "end_time": "2017-10-08T11:19:39.162189Z",
          "start_time": "2017-10-08T11:19:39.156018Z"
        },
        "colab": {
          "base_uri": "https://localhost:8080/"
        },
        "hidden": true,
        "id": "BzkEurfof9SN",
        "outputId": "ebb00742-3840-4ebf-902f-653dc7180f67"
      },
      "outputs": [
        {
          "output_type": "execute_result",
          "data": {
            "text/plain": [
              "array([[-0.09602795],\n",
              "       [ 0.0661236 ],\n",
              "       [-0.06857828],\n",
              "       [-0.05573871]])"
            ]
          },
          "metadata": {},
          "execution_count": 9
        }
      ],
      "source": [
        "xin = np.random.randn(4,2) # 4 amostras, 2 entradas (1 + x0)\n",
        "ypred = model.forward(xin)\n",
        "ypred"
      ]
    },
    {
      "cell_type": "markdown",
      "metadata": {
        "heading_collapsed": true,
        "id": "edoSiy--f9SS"
      },
      "source": [
        "## Treinamento via gradiente descendente"
      ]
    },
    {
      "cell_type": "markdown",
      "metadata": {
        "hidden": true,
        "id": "SnkXXFref9ST"
      },
      "source": [
        "Função de perda:\n",
        "$$ J(\\hat{y_i},y_i) = \\frac{1}{M} \\sum_{i=0}^{M-1} (\\hat{y_i} - y_i)^2 $$"
      ]
    },
    {
      "cell_type": "markdown",
      "metadata": {
        "ExecuteTime": {
          "end_time": "2017-10-05T14:05:06.244776",
          "start_time": "2017-10-05T14:05:06.240743"
        },
        "hidden": true,
        "id": "6W5QcPwUf9SU"
      },
      "source": [
        "Gradiente:\n",
        "$$  \\mathbf{\\nabla{J_w}} = \\frac{2}{M}\\mathbf{x^T}(\\mathbf{x w^T} - \\mathbf{y}) $$"
      ]
    },
    {
      "cell_type": "markdown",
      "metadata": {
        "ExecuteTime": {
          "end_time": "2017-10-05T14:06:17.929718",
          "start_time": "2017-10-05T14:06:17.925519"
        },
        "hidden": true,
        "id": "6OoQuuvAf9SU"
      },
      "source": [
        "Atualização dos parâmetros pelo gradiente descendente:\n",
        "$$ \\mathbf{w} = \\mathbf{w} − \\eta (\\mathbf{\\nabla J_w})^T $$"
      ]
    },
    {
      "cell_type": "markdown",
      "metadata": {
        "hidden": true,
        "id": "YM0fEnAdf9SW"
      },
      "source": [
        "### Laço de treinamento"
      ]
    },
    {
      "cell_type": "code",
      "execution_count": null,
      "metadata": {
        "ExecuteTime": {
          "end_time": "2017-10-08T11:19:39.183784Z",
          "start_time": "2017-10-08T11:19:39.165347Z"
        },
        "colab": {
          "base_uri": "https://localhost:8080/"
        },
        "hidden": true,
        "id": "BiCGgqp6f9SX",
        "outputId": "cd9f147c-e324-470f-bf66-830d0bdcaa06",
        "scrolled": false,
        "collapsed": true
      },
      "outputs": [
        {
          "output_type": "stream",
          "name": "stdout",
          "text": [
            "Epoch[1/100], loss: 0.021170\n",
            "Epoch[2/100], loss: 0.021170\n",
            "Epoch[3/100], loss: 0.021170\n",
            "Epoch[4/100], loss: 0.021170\n",
            "Epoch[5/100], loss: 0.021170\n",
            "Epoch[6/100], loss: 0.021170\n",
            "Epoch[7/100], loss: 0.021170\n",
            "Epoch[8/100], loss: 0.021170\n",
            "Epoch[9/100], loss: 0.021170\n",
            "Epoch[10/100], loss: 0.021170\n",
            "Epoch[11/100], loss: 0.021170\n",
            "Epoch[12/100], loss: 0.021170\n",
            "Epoch[13/100], loss: 0.021170\n",
            "Epoch[14/100], loss: 0.021170\n",
            "Epoch[15/100], loss: 0.021170\n",
            "Epoch[16/100], loss: 0.021170\n",
            "Epoch[17/100], loss: 0.021170\n",
            "Epoch[18/100], loss: 0.021170\n",
            "Epoch[19/100], loss: 0.021170\n",
            "Epoch[20/100], loss: 0.021170\n",
            "Epoch[21/100], loss: 0.021170\n",
            "Epoch[22/100], loss: 0.021170\n",
            "Epoch[23/100], loss: 0.021169\n",
            "Epoch[24/100], loss: 0.021169\n",
            "Epoch[25/100], loss: 0.021169\n",
            "Epoch[26/100], loss: 0.021169\n",
            "Epoch[27/100], loss: 0.021169\n",
            "Epoch[28/100], loss: 0.021169\n",
            "Epoch[29/100], loss: 0.021169\n",
            "Epoch[30/100], loss: 0.021169\n",
            "Epoch[31/100], loss: 0.021169\n",
            "Epoch[32/100], loss: 0.021169\n",
            "Epoch[33/100], loss: 0.021169\n",
            "Epoch[34/100], loss: 0.021169\n",
            "Epoch[35/100], loss: 0.021169\n",
            "Epoch[36/100], loss: 0.021169\n",
            "Epoch[37/100], loss: 0.021169\n",
            "Epoch[38/100], loss: 0.021169\n",
            "Epoch[39/100], loss: 0.021169\n",
            "Epoch[40/100], loss: 0.021169\n",
            "Epoch[41/100], loss: 0.021169\n",
            "Epoch[42/100], loss: 0.021169\n",
            "Epoch[43/100], loss: 0.021169\n",
            "Epoch[44/100], loss: 0.021169\n",
            "Epoch[45/100], loss: 0.021169\n",
            "Epoch[46/100], loss: 0.021169\n",
            "Epoch[47/100], loss: 0.021169\n",
            "Epoch[48/100], loss: 0.021169\n",
            "Epoch[49/100], loss: 0.021169\n",
            "Epoch[50/100], loss: 0.021169\n",
            "Epoch[51/100], loss: 0.021169\n",
            "Epoch[52/100], loss: 0.021169\n",
            "Epoch[53/100], loss: 0.021169\n",
            "Epoch[54/100], loss: 0.021169\n",
            "Epoch[55/100], loss: 0.021169\n",
            "Epoch[56/100], loss: 0.021169\n",
            "Epoch[57/100], loss: 0.021169\n",
            "Epoch[58/100], loss: 0.021169\n",
            "Epoch[59/100], loss: 0.021169\n",
            "Epoch[60/100], loss: 0.021169\n",
            "Epoch[61/100], loss: 0.021169\n",
            "Epoch[62/100], loss: 0.021169\n",
            "Epoch[63/100], loss: 0.021169\n",
            "Epoch[64/100], loss: 0.021169\n",
            "Epoch[65/100], loss: 0.021169\n",
            "Epoch[66/100], loss: 0.021169\n",
            "Epoch[67/100], loss: 0.021169\n",
            "Epoch[68/100], loss: 0.021169\n",
            "Epoch[69/100], loss: 0.021169\n",
            "Epoch[70/100], loss: 0.021169\n",
            "Epoch[71/100], loss: 0.021169\n",
            "Epoch[72/100], loss: 0.021169\n",
            "Epoch[73/100], loss: 0.021169\n",
            "Epoch[74/100], loss: 0.021169\n",
            "Epoch[75/100], loss: 0.021169\n",
            "Epoch[76/100], loss: 0.021169\n",
            "Epoch[77/100], loss: 0.021169\n",
            "Epoch[78/100], loss: 0.021169\n",
            "Epoch[79/100], loss: 0.021169\n",
            "Epoch[80/100], loss: 0.021169\n",
            "Epoch[81/100], loss: 0.021169\n",
            "Epoch[82/100], loss: 0.021169\n",
            "Epoch[83/100], loss: 0.021169\n",
            "Epoch[84/100], loss: 0.021169\n",
            "Epoch[85/100], loss: 0.021169\n",
            "Epoch[86/100], loss: 0.021169\n",
            "Epoch[87/100], loss: 0.021169\n",
            "Epoch[88/100], loss: 0.021169\n",
            "Epoch[89/100], loss: 0.021169\n",
            "Epoch[90/100], loss: 0.021169\n",
            "Epoch[91/100], loss: 0.021169\n",
            "Epoch[92/100], loss: 0.021169\n",
            "Epoch[93/100], loss: 0.021169\n",
            "Epoch[94/100], loss: 0.021169\n",
            "Epoch[95/100], loss: 0.021169\n",
            "Epoch[96/100], loss: 0.021169\n",
            "Epoch[97/100], loss: 0.021169\n",
            "Epoch[98/100], loss: 0.021169\n",
            "Epoch[99/100], loss: 0.021169\n",
            "Epoch[100/100], loss: 0.021169\n"
          ]
        }
      ],
      "source": [
        "num_epochs = 100\n",
        "learning_rate = 0.5\n",
        "for epoch in range(num_epochs):\n",
        "\n",
        "    # forward - predict\n",
        "    y_pred = model.forward(x_train_bias)\n",
        "\n",
        "    #loss cálculo da função de perda\n",
        "    loss = np.square(y_pred - y_train).mean()\n",
        "\n",
        "    # cálculo do gradiente pelas derivadas parciais\n",
        "    w_grad = (2.0/n_samples) * (x_train_bias.T).dot(x_train_bias.dot(model.w.T) - y_train)\n",
        "\n",
        "    # gradiente descendente\n",
        "    model.w = model.w - learning_rate * w_grad.T\n",
        "\n",
        "    # verbose\n",
        "    if (epoch+1) % 1 == 0:\n",
        "        print('Epoch[{}/{}], loss: {:.6f}'\n",
        "              .format(epoch+1, num_epochs, loss))"
      ]
    },
    {
      "cell_type": "markdown",
      "metadata": {
        "heading_collapsed": true,
        "id": "1QGlDZABf9Sd"
      },
      "source": [
        "## Avaliação"
      ]
    },
    {
      "cell_type": "markdown",
      "metadata": {
        "hidden": true,
        "id": "6TIimlCmf9Si"
      },
      "source": [
        "### Predict"
      ]
    },
    {
      "cell_type": "code",
      "execution_count": null,
      "metadata": {
        "ExecuteTime": {
          "end_time": "2017-10-08T11:19:39.408412Z",
          "start_time": "2017-10-08T11:19:39.186021Z"
        },
        "colab": {
          "base_uri": "https://localhost:8080/",
          "height": 447
        },
        "hidden": true,
        "id": "ToXwbrlsf9Sk",
        "outputId": "f9281eef-da90-418e-ca57-9ca4285e7424"
      },
      "outputs": [
        {
          "output_type": "execute_result",
          "data": {
            "text/plain": [
              "[<matplotlib.lines.Line2D at 0x7c78d172a650>]"
            ]
          },
          "metadata": {},
          "execution_count": 12
        },
        {
          "output_type": "display_data",
          "data": {
            "text/plain": [
              "<Figure size 640x480 with 1 Axes>"
            ],
            "image/png": "[encoded data removed]"
          },
          "metadata": {}
        }
      ],
      "source": [
        "y_pred = model.forward(x_train_bias)\n",
        "plt.plot(x_train, y_train, 'ro', label='Original data')\n",
        "plt.plot(x_train, y_pred, 'kx-', label='Fitting Line')"
      ]
    },
    {
      "cell_type": "markdown",
      "metadata": {
        "hidden": true,
        "id": "kQ1hGdItf9So"
      },
      "source": [
        "### Parâmetros treinados"
      ]
    },
    {
      "cell_type": "code",
      "execution_count": null,
      "metadata": {
        "ExecuteTime": {
          "end_time": "2017-10-08T11:19:39.417569Z",
          "start_time": "2017-10-08T11:19:39.411060Z"
        },
        "colab": {
          "base_uri": "https://localhost:8080/"
        },
        "hidden": true,
        "id": "IcEOxTg9f9Sp",
        "outputId": "e45ebb6b-6f28-42b3-871a-d23c49be0914"
      },
      "outputs": [
        {
          "output_type": "stream",
          "name": "stdout",
          "text": [
            "[[0.26295353 0.68335641]]\n"
          ]
        }
      ],
      "source": [
        "print(model.w)"
      ]
    },
    {
      "cell_type": "markdown",
      "metadata": {
        "hidden": true,
        "id": "73n0qSOMf9Sr"
      },
      "source": [
        "### Avaliação do modelo"
      ]
    },
    {
      "cell_type": "code",
      "execution_count": null,
      "metadata": {
        "colab": {
          "base_uri": "https://localhost:8080/"
        },
        "hidden": true,
        "id": "dI2TE8W6f9Ss",
        "outputId": "20347125-ebb9-49be-9e88-90784cd9ecb7"
      },
      "outputs": [
        {
          "output_type": "execute_result",
          "data": {
            "text/plain": [
              "0.02117000379151052"
            ]
          },
          "metadata": {},
          "execution_count": 14
        }
      ],
      "source": [
        "loss = np.square(y_pred - y_train).mean()\n",
        "loss"
      ]
    },
    {
      "cell_type": "markdown",
      "metadata": {
        "hidden": true,
        "id": "cv6q3ElSf9Sv"
      },
      "source": [
        "### Valor ótimo, solução analítica"
      ]
    },
    {
      "cell_type": "markdown",
      "metadata": {
        "hidden": true,
        "id": "qYgHOaNmf9Sv"
      },
      "source": [
        "$$  \\mathbf{w} =(\\mathbf{x^T} \\mathbf{x})^{−1}\\mathbf{x^T} \\mathbf{y} $$"
      ]
    },
    {
      "cell_type": "code",
      "execution_count": null,
      "metadata": {
        "ExecuteTime": {
          "end_time": "2017-10-08T11:19:39.432480Z",
          "start_time": "2017-10-08T11:19:39.420006Z"
        },
        "colab": {
          "base_uri": "https://localhost:8080/"
        },
        "hidden": true,
        "id": "OmrggYvmf9Sw",
        "outputId": "77ff543a-a8ab-4a75-cb1f-0756edd8b0a4"
      },
      "outputs": [
        {
          "output_type": "stream",
          "name": "stdout",
          "text": [
            "[[0.26134159 0.68646976]]\n"
          ]
        }
      ],
      "source": [
        "x = x_train_bias\n",
        "y = y_train\n",
        "w_opt = (np.linalg.inv((x.T).dot(x)).dot(x.T)).dot(y)\n",
        "print(w_opt.T)"
      ]
    },
    {
      "cell_type": "markdown",
      "metadata": {
        "heading_collapsed": true,
        "id": "2eMOcW8Ff9Sz"
      },
      "source": [
        "# Exercícios"
      ]
    },
    {
      "cell_type": "markdown",
      "metadata": {
        "hidden": true,
        "id": "tCKeOB1-f9S1"
      },
      "source": [
        "## Questões"
      ]
    },
    {
      "cell_type": "markdown",
      "metadata": {
        "hidden": true,
        "id": "c-KyP13vf9S2"
      },
      "source": [
        "1. Quantos parâmetros são treinados nesse modelo?\n",
        "\n",
        "    Resp: 2, w0 e w1\n",
        "\n",
        "2. Qual é o número de atributos de entrada para a rede?\n",
        "\n",
        "    Resp: 2 (bias + X)\n",
        "\n",
        "3. Qual é o número de saídas da rede?\n",
        "\n",
        "    Resp: 1\n",
        "\n",
        "4. Suponha que eu tenha agora 5 mil amostras para fazer a predição. Qual é o shape da matriz de entrada?\n",
        "\n",
        "    Resp: [5000, 2]\n",
        "\n",
        "5. Qual é o shape do matriz de saída?\n",
        "   \n",
        "    Resp: [5000, 1]\n"
      ]
    },
    {
      "cell_type": "markdown",
      "metadata": {
        "hidden": true,
        "id": "oaj0t2gpf9S3"
      },
      "source": [
        "## Atividades"
      ]
    },
    {
      "cell_type": "markdown",
      "metadata": {
        "hidden": true,
        "id": "pR_fNYurf9S3"
      },
      "source": [
        "1. Modifique o laço do treinamento via gradiente descendente para guardar em uma lista, o valor da perda no final\n",
        "   de cada época. Após o treinamento, plote o valor da perda em função da época."
      ]
    },
    {
      "cell_type": "code",
      "source": [
        "model = Net(2,1)\n",
        "\n",
        "perdas = []\n",
        "num_epochs = 100\n",
        "learning_rate = 0.5\n",
        "for epoch in range(num_epochs):\n",
        "\n",
        "# forward - predict\n",
        "    y_pred = model.forward(x_train_bias)\n",
        "\n",
        "    #loss cálculo da função de perda\n",
        "    loss = np.square(y_pred - y_train).mean()\n",
        "    perdas.append(loss)\n",
        "\n",
        "    # cálculo do gradiente pelas derivadas parciais\n",
        "    w_grad = (2.0/n_samples) * (x_train_bias.T).dot(x_train_bias.dot(model.w.T) - y_train)\n",
        "\n",
        "    # gradiente descendente\n",
        "    model.w = model.w - learning_rate * w_grad.T\n",
        "\n",
        "    # verbose\n",
        "    if (epoch+1) % 1 == 0:\n",
        "        print('Epoch[{}/{}], loss: {:.6f}'\n",
        "              .format(epoch+1, num_epochs, loss))\n",
        "    loss100 = loss"
      ],
      "metadata": {
        "colab": {
          "base_uri": "https://localhost:8080/"
        },
        "id": "0OL1ZWjeLQlf",
        "outputId": "14293e9f-0d29-44eb-ce6a-a4c04ca836e6",
        "collapsed": true
      },
      "execution_count": 21,
      "outputs": [
        {
          "output_type": "stream",
          "name": "stdout",
          "text": [
            "Epoch[1/100], loss: 0.444765\n",
            "Epoch[2/100], loss: 0.057233\n",
            "Epoch[3/100], loss: 0.031174\n",
            "Epoch[4/100], loss: 0.028769\n",
            "Epoch[5/100], loss: 0.027972\n",
            "Epoch[6/100], loss: 0.027340\n",
            "Epoch[7/100], loss: 0.026771\n",
            "Epoch[8/100], loss: 0.026255\n",
            "Epoch[9/100], loss: 0.025787\n",
            "Epoch[10/100], loss: 0.025361\n",
            "Epoch[11/100], loss: 0.024975\n",
            "Epoch[12/100], loss: 0.024625\n",
            "Epoch[13/100], loss: 0.024307\n",
            "Epoch[14/100], loss: 0.024018\n",
            "Epoch[15/100], loss: 0.023755\n",
            "Epoch[16/100], loss: 0.023517\n",
            "Epoch[17/100], loss: 0.023301\n",
            "Epoch[18/100], loss: 0.023105\n",
            "Epoch[19/100], loss: 0.022926\n",
            "Epoch[20/100], loss: 0.022765\n",
            "Epoch[21/100], loss: 0.022618\n",
            "Epoch[22/100], loss: 0.022484\n",
            "Epoch[23/100], loss: 0.022363\n",
            "Epoch[24/100], loss: 0.022253\n",
            "Epoch[25/100], loss: 0.022153\n",
            "Epoch[26/100], loss: 0.022063\n",
            "Epoch[27/100], loss: 0.021981\n",
            "Epoch[28/100], loss: 0.021906\n",
            "Epoch[29/100], loss: 0.021838\n",
            "Epoch[30/100], loss: 0.021776\n",
            "Epoch[31/100], loss: 0.021721\n",
            "Epoch[32/100], loss: 0.021670\n",
            "Epoch[33/100], loss: 0.021624\n",
            "Epoch[34/100], loss: 0.021582\n",
            "Epoch[35/100], loss: 0.021544\n",
            "Epoch[36/100], loss: 0.021509\n",
            "Epoch[37/100], loss: 0.021478\n",
            "Epoch[38/100], loss: 0.021450\n",
            "Epoch[39/100], loss: 0.021424\n",
            "Epoch[40/100], loss: 0.021400\n",
            "Epoch[41/100], loss: 0.021379\n",
            "Epoch[42/100], loss: 0.021360\n",
            "Epoch[43/100], loss: 0.021342\n",
            "Epoch[44/100], loss: 0.021326\n",
            "Epoch[45/100], loss: 0.021312\n",
            "Epoch[46/100], loss: 0.021299\n",
            "Epoch[47/100], loss: 0.021287\n",
            "Epoch[48/100], loss: 0.021276\n",
            "Epoch[49/100], loss: 0.021266\n",
            "Epoch[50/100], loss: 0.021257\n",
            "Epoch[51/100], loss: 0.021249\n",
            "Epoch[52/100], loss: 0.021242\n",
            "Epoch[53/100], loss: 0.021235\n",
            "Epoch[54/100], loss: 0.021229\n",
            "Epoch[55/100], loss: 0.021224\n",
            "Epoch[56/100], loss: 0.021219\n",
            "Epoch[57/100], loss: 0.021214\n",
            "Epoch[58/100], loss: 0.021210\n",
            "Epoch[59/100], loss: 0.021206\n",
            "Epoch[60/100], loss: 0.021203\n",
            "Epoch[61/100], loss: 0.021200\n",
            "Epoch[62/100], loss: 0.021197\n",
            "Epoch[63/100], loss: 0.021194\n",
            "Epoch[64/100], loss: 0.021192\n",
            "Epoch[65/100], loss: 0.021190\n",
            "Epoch[66/100], loss: 0.021188\n",
            "Epoch[67/100], loss: 0.021186\n",
            "Epoch[68/100], loss: 0.021185\n",
            "Epoch[69/100], loss: 0.021183\n",
            "Epoch[70/100], loss: 0.021182\n",
            "Epoch[71/100], loss: 0.021181\n",
            "Epoch[72/100], loss: 0.021180\n",
            "Epoch[73/100], loss: 0.021179\n",
            "Epoch[74/100], loss: 0.021178\n",
            "Epoch[75/100], loss: 0.021177\n",
            "Epoch[76/100], loss: 0.021177\n",
            "Epoch[77/100], loss: 0.021176\n",
            "Epoch[78/100], loss: 0.021175\n",
            "Epoch[79/100], loss: 0.021175\n",
            "Epoch[80/100], loss: 0.021174\n",
            "Epoch[81/100], loss: 0.021174\n",
            "Epoch[82/100], loss: 0.021173\n",
            "Epoch[83/100], loss: 0.021173\n",
            "Epoch[84/100], loss: 0.021173\n",
            "Epoch[85/100], loss: 0.021172\n",
            "Epoch[86/100], loss: 0.021172\n",
            "Epoch[87/100], loss: 0.021172\n",
            "Epoch[88/100], loss: 0.021172\n",
            "Epoch[89/100], loss: 0.021171\n",
            "Epoch[90/100], loss: 0.021171\n",
            "Epoch[91/100], loss: 0.021171\n",
            "Epoch[92/100], loss: 0.021171\n",
            "Epoch[93/100], loss: 0.021171\n",
            "Epoch[94/100], loss: 0.021171\n",
            "Epoch[95/100], loss: 0.021171\n",
            "Epoch[96/100], loss: 0.021170\n",
            "Epoch[97/100], loss: 0.021170\n",
            "Epoch[98/100], loss: 0.021170\n",
            "Epoch[99/100], loss: 0.021170\n",
            "Epoch[100/100], loss: 0.021170\n"
          ]
        }
      ]
    },
    {
      "cell_type": "code",
      "source": [
        "# Plot do valor da perda em função da época\n",
        "plt.plot(range(num_epochs), perdas, 'b-', label='Loss per epoch')\n",
        "plt.xlabel('Época')\n",
        "plt.ylabel('Perda')\n",
        "plt.title('Perda em função da época')\n",
        "plt.legend()\n",
        "plt.show()"
      ],
      "metadata": {
        "colab": {
          "base_uri": "https://localhost:8080/",
          "height": 474
        },
        "id": "eVXWCv6abHF1",
        "outputId": "cedef8b4-fafb-4dc9-ffd6-3aec4402304e"
      },
      "execution_count": 24,
      "outputs": [
        {
          "output_type": "display_data",
          "data": {
            "text/plain": [
              "<Figure size 640x480 with 1 Axes>"
            ],
            "image/png": "[encoded data removed]"
          },
          "metadata": {}
        }
      ]
    },
    {
      "cell_type": "markdown",
      "source": [
        "2. Calcule o valor da perda (MSE) da rede com os parâmetros inicializados, sem serem treinados.\n"
      ],
      "metadata": {
        "id": "W6SsCMHWMQ68"
      }
    },
    {
      "cell_type": "code",
      "source": [
        "model = Net(2,1)\n",
        "model.w\n",
        "pred = model.forward(x_train_bias)\n",
        "loss = np.square(pred - y_train).mean()\n",
        "loss"
      ],
      "metadata": {
        "id": "ERPjG5jQOXmy",
        "colab": {
          "base_uri": "https://localhost:8080/"
        },
        "outputId": "72598a5e-403a-4f19-91fe-36c408c98ece"
      },
      "execution_count": 17,
      "outputs": [
        {
          "output_type": "execute_result",
          "data": {
            "text/plain": [
              "0.39512226382971893"
            ]
          },
          "metadata": {},
          "execution_count": 17
        }
      ]
    },
    {
      "cell_type": "markdown",
      "source": [
        "3. Coloque os valores dos pesos da solução ótima analítica no modelo da rede e calcule o valor da perda (MSE) e\n",
        "   compare com o valor da perda obtida pelo método da otimização via gradiente descendente."
      ],
      "metadata": {
        "id": "XiUlxUlSMTn6"
      }
    },
    {
      "cell_type": "code",
      "source": [
        "# Solução Ótima:\n",
        "\n",
        "x = x_train_bias\n",
        "y = y_train\n",
        "w_opt = (np.linalg.inv((x.T).dot(x)).dot(x.T)).dot(y)\n",
        "\n",
        "model.w = w_opt.T\n",
        "\n",
        "pred = model.forward(x_train_bias)\n",
        "loss = np.square(pred - y_train).mean()\n",
        "print('Solução ótima: {} x {} Solução Otimizada'\n",
        "              .format(loss100, loss))"
      ],
      "metadata": {
        "id": "dqnv5Ku2MWiu",
        "colab": {
          "base_uri": "https://localhost:8080/"
        },
        "outputId": "8a903dd7-b11c-4dc3-87c6-1f1b085ce448"
      },
      "execution_count": 22,
      "outputs": [
        {
          "output_type": "stream",
          "name": "stdout",
          "text": [
            "Solução ótima: 0.021170125435400488 x 0.021169424119097165 Solução Otimizada\n"
          ]
        }
      ]
    },
    {
      "cell_type": "markdown",
      "metadata": {
        "collapsed": true,
        "id": "tgmMhSm2f9S4"
      },
      "source": [
        "# Aprendizados\n",
        "\n",
        "A perda inicial, que é uma medida de erro, foi bastante alta antes de treinar o modelo. Isso significa que, no início, o modelo não estava bom em prever o comprimento das pétalas com base no comprimento das sépalas.\n",
        "\n",
        "Gráfico da Perda por Época:\n",
        "No gráfico, cada ponto representa o erro do modelo ao final de cada ciclo de treinamento (época). No início, o erro é maior e diminui à medida que o modelo aprende. Isso é um sinal de que o modelo está melhorando suas previsões com o tempo.\n",
        "\n",
        "A solução ótima analítica calculada dá a menor perda possível para um modelo criado a partir da regressão linear\n",
        "\n",
        "Ao treinar o modelo usando o método do gradiente descendente, que ajusta os parâmetros do modelo para minimizar o erro, ao final do treinamento, a perda do modelo treinado foi quase igual à da solução ótima.\n",
        "\n",
        "Isso mostra que o treinamento funcionou bem, convergindo para a solução ótima. Ensinando ao modelo a fazer boas previsões, assim como a solução matemática ideal, a solução ótima. desta forma, conclui-se que o gradiente descendente é uma ferramenta poderosa para ajustar modelos e melhorar suas previsões.\n",
        "\n",
        "A técnicas do gradiente descendente permite que ajustar os modelos para fazer previsões mais precisas a partir dos dados disponíveis."
      ]
    }
  ],
  "metadata": {
    "accelerator": "TPU",
    "colab": {
      "provenance": [],
      "collapsed_sections": [
        "YM0fEnAdf9SW",
        "1QGlDZABf9Sd",
        "kQ1hGdItf9So"
      ]
    },
    "kernelspec": {
      "display_name": "Python 3.10.2 64-bit",
      "language": "python",
      "name": "python3"
    },
    "language_info": {
      "name": "python",
      "version": "3.10.2"
    },
    "vscode": {
      "interpreter": {
        "hash": "5fe3e6f0cdaab8afdc61c52912fda83f7c0a71baaea1897dd7498e2df01e69ec"
      }
    }
  },
  "nbformat": 4,
  "nbformat_minor": 0
}