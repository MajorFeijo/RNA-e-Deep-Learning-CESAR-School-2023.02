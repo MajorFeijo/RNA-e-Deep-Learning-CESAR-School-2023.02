{
  "cells": [
    {
      "cell_type": "markdown",
      "metadata": {
        "id": "view-in-github",
        "colab_type": "text"
      },
      "source": [
        "<a href=\"https://colab.research.google.com/github/MajorFeijo/RNA-e-Deep-Learning-CESAR-School-2023.02/blob/main/Atividade%20aula%203.2/3_2_LogisticRegressionMNIST.ipynb\" target=\"_parent\"><img src=\"https://colab.research.google.com/assets/colab-badge.svg\" alt=\"Open In Colab\"/></a>"
      ]
    },
    {
      "cell_type": "markdown",
      "metadata": {
        "id": "Ot79tGiPOl08"
      },
      "source": [
        "# Regressão Softmax com dados do MNIST"
      ]
    },
    {
      "cell_type": "markdown",
      "metadata": {
        "id": "21fecJPyOl0-"
      },
      "source": [
        "## Objetivo"
      ]
    },
    {
      "cell_type": "markdown",
      "metadata": {
        "id": "z8SxRSoLOl1I"
      },
      "source": [
        "O objetivo deste notebook é ilustrar o uso de praticamente a mesma rede desenvolvida para a classificação das flores Íris, porém agora com o problema de classificação de dígitos manuscritos utilizando o dataset MNIST.\n",
        "As principais diferenças são:\n",
        "- tipo do dado, agora imagem com muito atributos: 28 x 28 pixels\n",
        "- número de amostras, muito maior, 60 mil\n",
        "Neste exercício será possível a interpretação do significado dos parâmetros treinados"
      ]
    },
    {
      "cell_type": "markdown",
      "metadata": {
        "id": "RKVT1A6zOl1J"
      },
      "source": [
        "## Importação das bibliotecas"
      ]
    },
    {
      "cell_type": "code",
      "execution_count": null,
      "metadata": {
        "colab": {
          "base_uri": "https://localhost:8080/"
        },
        "id": "EVN-NfMTNk73",
        "outputId": "d980c06d-5e98-47e1-ab99-a7c0a9ac88c4"
      },
      "outputs": [
        {
          "output_type": "stream",
          "name": "stdout",
          "text": [
            "Requirement already satisfied: torchvision in /usr/local/lib/python3.10/dist-packages (0.2.1)\n",
            "Requirement already satisfied: numpy in /usr/local/lib/python3.10/dist-packages (from torchvision) (1.23.5)\n",
            "Requirement already satisfied: pillow>=4.1.1 in /usr/local/lib/python3.10/dist-packages (from torchvision) (9.4.0)\n",
            "Requirement already satisfied: six in /usr/local/lib/python3.10/dist-packages (from torchvision) (1.16.0)\n",
            "Requirement already satisfied: torch in /usr/local/lib/python3.10/dist-packages (from torchvision) (2.3.0+cu121)\n",
            "Requirement already satisfied: filelock in /usr/local/lib/python3.10/dist-packages (from torch->torchvision) (3.14.0)\n",
            "Requirement already satisfied: typing-extensions>=4.8.0 in /usr/local/lib/python3.10/dist-packages (from torch->torchvision) (4.11.0)\n",
            "Requirement already satisfied: sympy in /usr/local/lib/python3.10/dist-packages (from torch->torchvision) (1.12)\n",
            "Requirement already satisfied: networkx in /usr/local/lib/python3.10/dist-packages (from torch->torchvision) (3.3)\n",
            "Requirement already satisfied: jinja2 in /usr/local/lib/python3.10/dist-packages (from torch->torchvision) (3.1.4)\n",
            "Requirement already satisfied: fsspec in /usr/local/lib/python3.10/dist-packages (from torch->torchvision) (2023.6.0)\n",
            "Requirement already satisfied: nvidia-cuda-nvrtc-cu12==12.1.105 in /usr/local/lib/python3.10/dist-packages (from torch->torchvision) (12.1.105)\n",
            "Requirement already satisfied: nvidia-cuda-runtime-cu12==12.1.105 in /usr/local/lib/python3.10/dist-packages (from torch->torchvision) (12.1.105)\n",
            "Requirement already satisfied: nvidia-cuda-cupti-cu12==12.1.105 in /usr/local/lib/python3.10/dist-packages (from torch->torchvision) (12.1.105)\n",
            "Requirement already satisfied: nvidia-cudnn-cu12==8.9.2.26 in /usr/local/lib/python3.10/dist-packages (from torch->torchvision) (8.9.2.26)\n",
            "Requirement already satisfied: nvidia-cublas-cu12==12.1.3.1 in /usr/local/lib/python3.10/dist-packages (from torch->torchvision) (12.1.3.1)\n",
            "Requirement already satisfied: nvidia-cufft-cu12==11.0.2.54 in /usr/local/lib/python3.10/dist-packages (from torch->torchvision) (11.0.2.54)\n",
            "Requirement already satisfied: nvidia-curand-cu12==10.3.2.106 in /usr/local/lib/python3.10/dist-packages (from torch->torchvision) (10.3.2.106)\n",
            "Requirement already satisfied: nvidia-cusolver-cu12==11.4.5.107 in /usr/local/lib/python3.10/dist-packages (from torch->torchvision) (11.4.5.107)\n",
            "Requirement already satisfied: nvidia-cusparse-cu12==12.1.0.106 in /usr/local/lib/python3.10/dist-packages (from torch->torchvision) (12.1.0.106)\n",
            "Requirement already satisfied: nvidia-nccl-cu12==2.20.5 in /usr/local/lib/python3.10/dist-packages (from torch->torchvision) (2.20.5)\n",
            "Requirement already satisfied: nvidia-nvtx-cu12==12.1.105 in /usr/local/lib/python3.10/dist-packages (from torch->torchvision) (12.1.105)\n",
            "Requirement already satisfied: triton==2.3.0 in /usr/local/lib/python3.10/dist-packages (from torch->torchvision) (2.3.0)\n",
            "Requirement already satisfied: nvidia-nvjitlink-cu12 in /usr/local/lib/python3.10/dist-packages (from nvidia-cusolver-cu12==11.4.5.107->torch->torchvision) (12.5.40)\n",
            "Requirement already satisfied: MarkupSafe>=2.0 in /usr/local/lib/python3.10/dist-packages (from jinja2->torch->torchvision) (2.1.5)\n",
            "Requirement already satisfied: mpmath>=0.19 in /usr/local/lib/python3.10/dist-packages (from sympy->torch->torchvision) (1.3.0)\n"
          ]
        }
      ],
      "source": [
        "! pip install Pillow"
      ]
    },
    {
      "cell_type": "code",
      "execution_count": 1,
      "metadata": {
        "ExecuteTime": {
          "end_time": "2017-11-24T15:44:50.097111",
          "start_time": "2017-11-24T15:44:48.915046"
        },
        "id": "2oKVJHVNOl1k"
      },
      "outputs": [],
      "source": [
        "%matplotlib inline\n",
        "import numpy as np\n",
        "import matplotlib.pyplot as plt\n",
        "import pandas as pd\n",
        "\n",
        "import torch\n",
        "from torch.autograd import Variable\n",
        "\n",
        "import torchvision"
      ]
    },
    {
      "cell_type": "markdown",
      "metadata": {
        "id": "BmeldMPaOl1p"
      },
      "source": [
        "## Carregamento dos dados do MNIST"
      ]
    },
    {
      "cell_type": "code",
      "execution_count": 56,
      "metadata": {
        "colab": {
          "base_uri": "https://localhost:8080/"
        },
        "id": "vzrUS_xbgvry",
        "outputId": "094a8791-61d3-42b6-8ba5-b40db376aa4e"
      },
      "outputs": [
        {
          "output_type": "stream",
          "name": "stdout",
          "text": [
            "fatal: destination path 'MNIST' already exists and is not an empty directory.\n"
          ]
        }
      ],
      "source": [
        "! git clone https://github.com/vcasadei/MNIST.git"
      ]
    },
    {
      "cell_type": "code",
      "execution_count": 57,
      "metadata": {
        "colab": {
          "base_uri": "https://localhost:8080/"
        },
        "id": "f6tbsAECg5JB",
        "outputId": "44922bc5-6c12-4d67-cfb4-bdcc95094cd8"
      },
      "outputs": [
        {
          "output_type": "stream",
          "name": "stdout",
          "text": [
            "processed  raw\n"
          ]
        }
      ],
      "source": [
        "!ls MNIST"
      ]
    },
    {
      "cell_type": "code",
      "execution_count": 58,
      "metadata": {
        "ExecuteTime": {
          "end_time": "2017-11-24T15:44:50.638218",
          "start_time": "2017-11-24T15:44:50.098808"
        },
        "colab": {
          "base_uri": "https://localhost:8080/"
        },
        "id": "q0KuxPGVOl1q",
        "outputId": "456fb1a4-347c-4c5e-d8b4-0317582a850a"
      },
      "outputs": [
        {
          "output_type": "stream",
          "name": "stdout",
          "text": [
            "Amostras de treinamento: 60000\n",
            "\n",
            "Dimensões dos dados das imagens:    torch.Size([60000, 28, 28])\n",
            "Valores mínimo e máximo dos pixels: tensor(0, dtype=torch.uint8) tensor(255, dtype=torch.uint8)\n",
            "Tipo dos dados das imagens:         <class 'torch.Tensor'>\n",
            "Tipo das classes das imagens:       <class 'torch.Tensor'>\n"
          ]
        }
      ],
      "source": [
        "dataset_dir = 'MNIST/'\n",
        "\n",
        "x_train, y_train = torch.load(dataset_dir + 'processed/training.pt')\n",
        "\n",
        "print(\"Amostras de treinamento:\", x_train.size(0))\n",
        "\n",
        "print(\"\\nDimensões dos dados das imagens:   \", x_train.size())\n",
        "print(\"Valores mínimo e máximo dos pixels:\", torch.min(x_train), torch.max(x_train))\n",
        "print(\"Tipo dos dados das imagens:        \", type(x_train))\n",
        "print(\"Tipo das classes das imagens:      \", type(y_train))"
      ]
    },
    {
      "cell_type": "markdown",
      "metadata": {
        "id": "DccnsPRCOl1y"
      },
      "source": [
        "### Carregamento, normalização e seleção dos dados do MNIST\n",
        "\n",
        "Neste exemplo utilizaremos apenas 1000 amostras de treinamento."
      ]
    },
    {
      "cell_type": "code",
      "execution_count": 59,
      "metadata": {
        "ExecuteTime": {
          "end_time": "2017-11-24T15:44:50.895668",
          "start_time": "2017-11-24T15:44:50.640110"
        },
        "colab": {
          "base_uri": "https://localhost:8080/"
        },
        "id": "jRfSlVpnOl10",
        "outputId": "0df84da0-f66f-4054-a59a-92f5f1913149"
      },
      "outputs": [
        {
          "output_type": "stream",
          "name": "stdout",
          "text": [
            "Amostras de treinamento: 1000\n",
            "\n",
            "Dimensões dos dados das imagens:    torch.Size([1000, 28, 28])\n",
            "Valores mínimo e máximo dos pixels: tensor(0.) tensor(1.)\n",
            "Tipo dos dados das imagens:         <class 'torch.Tensor'>\n",
            "Tipo das classes das imagens:       <class 'torch.Tensor'>\n"
          ]
        }
      ],
      "source": [
        "x_train = x_train.float()\n",
        "\n",
        "x_train = x_train / 255.\n",
        "\n",
        "if True:\n",
        "    n_samples_train = 1000\n",
        "\n",
        "    x_train = x_train[:n_samples_train]\n",
        "    y_train = y_train[:n_samples_train]\n",
        "\n",
        "print(\"Amostras de treinamento:\", x_train.size(0))\n",
        "\n",
        "print(\"\\nDimensões dos dados das imagens:   \", x_train.size())\n",
        "print(\"Valores mínimo e máximo dos pixels:\", torch.min(x_train), torch.max(x_train))\n",
        "print(\"Tipo dos dados das imagens:        \", type(x_train))\n",
        "print(\"Tipo das classes das imagens:      \", type(y_train))"
      ]
    },
    {
      "cell_type": "markdown",
      "metadata": {
        "id": "0tXHwvS_Ol13"
      },
      "source": [
        "### Visualizando os dados"
      ]
    },
    {
      "cell_type": "code",
      "execution_count": 60,
      "metadata": {
        "ExecuteTime": {
          "end_time": "2017-11-24T16:32:19.474568",
          "start_time": "2017-11-24T16:32:19.207270"
        },
        "colab": {
          "base_uri": "https://localhost:8080/",
          "height": 409
        },
        "id": "zV7-8V9UOl15",
        "outputId": "57146efa-c03f-4270-e593-8e7ac91ce1b6"
      },
      "outputs": [
        {
          "output_type": "execute_result",
          "data": {
            "text/plain": [
              "(-0.5, 232.5, 87.5, -0.5)"
            ]
          },
          "metadata": {},
          "execution_count": 60
        },
        {
          "output_type": "display_data",
          "data": {
            "text/plain": [
              "<Figure size 1500x1000 with 1 Axes>"
            ],
            "image/png": "[encoded data removed]"
          },
          "metadata": {}
        }
      ],
      "source": [
        "n_samples = 24\n",
        "\n",
        "# cria um grid com as imagens\n",
        "grid = torchvision.utils.make_grid(x_train[:n_samples].unsqueeze(dim=1), pad_value=1.0, padding=1)\n",
        "\n",
        "plt.figure(figsize=(15, 10))\n",
        "plt.imshow(grid.numpy().transpose(1, 2, 0))\n",
        "plt.axis('off')"
      ]
    },
    {
      "cell_type": "markdown",
      "metadata": {
        "id": "biPfk_htOl2H"
      },
      "source": [
        "### Visualizando uma imagem com o matplotlib"
      ]
    },
    {
      "cell_type": "code",
      "execution_count": 61,
      "metadata": {
        "ExecuteTime": {
          "end_time": "2017-11-24T15:44:51.413232",
          "start_time": "2017-11-24T15:44:51.251376"
        },
        "colab": {
          "base_uri": "https://localhost:8080/",
          "height": 448
        },
        "id": "tAs2Zy28Ol2I",
        "outputId": "f89bfa14-87ae-4e90-cc8c-42fa99619850",
        "scrolled": true
      },
      "outputs": [
        {
          "output_type": "stream",
          "name": "stdout",
          "text": [
            "class: tensor(5)\n"
          ]
        },
        {
          "output_type": "display_data",
          "data": {
            "text/plain": [
              "<Figure size 640x480 with 1 Axes>"
            ],
            "image/png": "[encoded data removed]"
          },
          "metadata": {}
        }
      ],
      "source": [
        "image  = x_train[0]\n",
        "target = y_train[0]\n",
        "\n",
        "plt.imshow(image.numpy(), cmap='gray')\n",
        "print('class:', target)"
      ]
    },
    {
      "cell_type": "markdown",
      "metadata": {
        "id": "jWlWHjOvOl2R"
      },
      "source": [
        "## Modelo"
      ]
    },
    {
      "cell_type": "code",
      "execution_count": 62,
      "metadata": {
        "ExecuteTime": {
          "end_time": "2017-11-24T15:44:51.419287",
          "start_time": "2017-11-24T15:44:51.415065"
        },
        "id": "8OeUJnUqOl2T"
      },
      "outputs": [],
      "source": [
        "model = torch.nn.Linear(28*28, 10) # 28*28 atributos de entrada e 10 neurônios na sáida"
      ]
    },
    {
      "cell_type": "markdown",
      "metadata": {
        "id": "COKUqRSGOl2d"
      },
      "source": [
        "### Testando um predict com poucas amostras"
      ]
    },
    {
      "cell_type": "code",
      "execution_count": 63,
      "metadata": {
        "colab": {
          "base_uri": "https://localhost:8080/"
        },
        "id": "Rxf7FUZOOl2g",
        "outputId": "44f485df-5fe8-470b-96aa-683e21126f38"
      },
      "outputs": [
        {
          "output_type": "execute_result",
          "data": {
            "text/plain": [
              "tensor([[-0.0715, -0.1915, -0.2995, -0.2919,  0.1301,  0.0131,  0.5896,  0.2112,\n",
              "         -0.0083,  0.1043],\n",
              "        [-0.1508, -0.2861, -0.0567, -0.4709, -0.1277, -0.1034,  0.0640, -0.0394,\n",
              "          0.0957,  0.2038],\n",
              "        [-0.1797, -0.0068, -0.1430,  0.2598,  0.1845,  0.0537,  0.0925,  0.1992,\n",
              "         -0.1221, -0.0058],\n",
              "        [ 0.0498,  0.0854,  0.1204, -0.0164,  0.1604, -0.0303, -0.1451,  0.0983,\n",
              "          0.1613,  0.0341],\n",
              "        [-0.0579, -0.4089, -0.0100, -0.0575,  0.0847,  0.1052, -0.0028,  0.3224,\n",
              "          0.1291,  0.1664]], grad_fn=<AddmmBackward0>)"
            ]
          },
          "metadata": {},
          "execution_count": 63
        }
      ],
      "source": [
        "xin = x_train[:5].view(-1,28*28)\n",
        "score = model(Variable(xin))\n",
        "score"
      ]
    },
    {
      "cell_type": "markdown",
      "metadata": {
        "id": "JsyINWhBOl2m"
      },
      "source": [
        "## Treinamento"
      ]
    },
    {
      "cell_type": "markdown",
      "metadata": {
        "id": "Cj7WB9NzOl2n"
      },
      "source": [
        "### Inicialização dos parâmetros"
      ]
    },
    {
      "cell_type": "code",
      "execution_count": 64,
      "metadata": {
        "ExecuteTime": {
          "end_time": "2017-11-24T15:44:51.425768",
          "start_time": "2017-11-24T15:44:51.420825"
        },
        "id": "xgTvQXGCOl2o"
      },
      "outputs": [],
      "source": [
        "epochs = 100\n",
        "learningRate = 0.5\n",
        "\n",
        "# Utilizaremos CrossEntropyLoss como função de perda\n",
        "criterion = torch.nn.CrossEntropyLoss()\n",
        "\n",
        "# Gradiente descendente\n",
        "optimizer = torch.optim.SGD(model.parameters(), lr=learningRate)"
      ]
    },
    {
      "cell_type": "markdown",
      "metadata": {
        "id": "fK50bgRzOl2z"
      },
      "source": [
        "### Visualização do grafo computacional da perda (loss)"
      ]
    },
    {
      "cell_type": "code",
      "execution_count": 65,
      "metadata": {
        "colab": {
          "base_uri": "https://localhost:8080/"
        },
        "id": "sLuv_VgNENQf",
        "outputId": "fa0674b4-4d5f-411b-e8d2-580e66eec081"
      },
      "outputs": [
        {
          "output_type": "stream",
          "name": "stdout",
          "text": [
            "Requirement already satisfied: graphviz in /usr/local/lib/python3.10/dist-packages (0.20.3)\n",
            "Collecting git+https://github.com/szagoruyko/pytorchviz\n",
            "  Cloning https://github.com/szagoruyko/pytorchviz to /tmp/pip-req-build-jcjgv7_w\n",
            "  Running command git clone --filter=blob:none --quiet https://github.com/szagoruyko/pytorchviz /tmp/pip-req-build-jcjgv7_w\n",
            "  Resolved https://github.com/szagoruyko/pytorchviz to commit 0adcd83af8aa7ab36d6afd139cabbd9df598edb7\n",
            "  Preparing metadata (setup.py) ... \u001b[?25l\u001b[?25hdone\n",
            "Requirement already satisfied: torch in /usr/local/lib/python3.10/dist-packages (from torchviz==0.0.2) (2.3.0+cu121)\n",
            "Requirement already satisfied: graphviz in /usr/local/lib/python3.10/dist-packages (from torchviz==0.0.2) (0.20.3)\n",
            "Requirement already satisfied: filelock in /usr/local/lib/python3.10/dist-packages (from torch->torchviz==0.0.2) (3.14.0)\n",
            "Requirement already satisfied: typing-extensions>=4.8.0 in /usr/local/lib/python3.10/dist-packages (from torch->torchviz==0.0.2) (4.12.1)\n",
            "Requirement already satisfied: sympy in /usr/local/lib/python3.10/dist-packages (from torch->torchviz==0.0.2) (1.12.1)\n",
            "Requirement already satisfied: networkx in /usr/local/lib/python3.10/dist-packages (from torch->torchviz==0.0.2) (3.3)\n",
            "Requirement already satisfied: jinja2 in /usr/local/lib/python3.10/dist-packages (from torch->torchviz==0.0.2) (3.1.4)\n",
            "Requirement already satisfied: fsspec in /usr/local/lib/python3.10/dist-packages (from torch->torchviz==0.0.2) (2023.6.0)\n",
            "Requirement already satisfied: nvidia-cuda-nvrtc-cu12==12.1.105 in /usr/local/lib/python3.10/dist-packages (from torch->torchviz==0.0.2) (12.1.105)\n",
            "Requirement already satisfied: nvidia-cuda-runtime-cu12==12.1.105 in /usr/local/lib/python3.10/dist-packages (from torch->torchviz==0.0.2) (12.1.105)\n",
            "Requirement already satisfied: nvidia-cuda-cupti-cu12==12.1.105 in /usr/local/lib/python3.10/dist-packages (from torch->torchviz==0.0.2) (12.1.105)\n",
            "Requirement already satisfied: nvidia-cudnn-cu12==8.9.2.26 in /usr/local/lib/python3.10/dist-packages (from torch->torchviz==0.0.2) (8.9.2.26)\n",
            "Requirement already satisfied: nvidia-cublas-cu12==12.1.3.1 in /usr/local/lib/python3.10/dist-packages (from torch->torchviz==0.0.2) (12.1.3.1)\n",
            "Requirement already satisfied: nvidia-cufft-cu12==11.0.2.54 in /usr/local/lib/python3.10/dist-packages (from torch->torchviz==0.0.2) (11.0.2.54)\n",
            "Requirement already satisfied: nvidia-curand-cu12==10.3.2.106 in /usr/local/lib/python3.10/dist-packages (from torch->torchviz==0.0.2) (10.3.2.106)\n",
            "Requirement already satisfied: nvidia-cusolver-cu12==11.4.5.107 in /usr/local/lib/python3.10/dist-packages (from torch->torchviz==0.0.2) (11.4.5.107)\n",
            "Requirement already satisfied: nvidia-cusparse-cu12==12.1.0.106 in /usr/local/lib/python3.10/dist-packages (from torch->torchviz==0.0.2) (12.1.0.106)\n",
            "Requirement already satisfied: nvidia-nccl-cu12==2.20.5 in /usr/local/lib/python3.10/dist-packages (from torch->torchviz==0.0.2) (2.20.5)\n",
            "Requirement already satisfied: nvidia-nvtx-cu12==12.1.105 in /usr/local/lib/python3.10/dist-packages (from torch->torchviz==0.0.2) (12.1.105)\n",
            "Requirement already satisfied: triton==2.3.0 in /usr/local/lib/python3.10/dist-packages (from torch->torchviz==0.0.2) (2.3.0)\n",
            "Requirement already satisfied: nvidia-nvjitlink-cu12 in /usr/local/lib/python3.10/dist-packages (from nvidia-cusolver-cu12==11.4.5.107->torch->torchviz==0.0.2) (12.5.40)\n",
            "Requirement already satisfied: MarkupSafe>=2.0 in /usr/local/lib/python3.10/dist-packages (from jinja2->torch->torchviz==0.0.2) (2.1.5)\n",
            "Requirement already satisfied: mpmath<1.4.0,>=1.1.0 in /usr/local/lib/python3.10/dist-packages (from sympy->torch->torchviz==0.0.2) (1.3.0)\n"
          ]
        }
      ],
      "source": [
        "!pip install graphviz\n",
        "!pip install git+https://github.com/szagoruyko/pytorchviz"
      ]
    },
    {
      "cell_type": "code",
      "execution_count": 66,
      "metadata": {
        "ExecuteTime": {
          "end_time": "2017-11-24T16:28:18.101867",
          "start_time": "2017-11-24T16:28:18.062312"
        },
        "colab": {
          "base_uri": "https://localhost:8080/"
        },
        "id": "icZLveYLOl20",
        "outputId": "74dfad3b-5960-44ba-8baf-30fdb043cffd"
      },
      "outputs": [
        {
          "output_type": "execute_result",
          "data": {
            "text/plain": [
              "tensor(2.3138, grad_fn=<NllLossBackward0>)"
            ]
          },
          "metadata": {},
          "execution_count": 66
        }
      ],
      "source": [
        "from torchviz import make_dot, make_dot_from_trace\n",
        "y_pred = model(Variable(x_train.view(-1,28*28)))\n",
        "loss = criterion(y_pred, Variable(y_train))\n",
        "loss\n"
      ]
    },
    {
      "cell_type": "code",
      "source": [
        "p = make_dot(loss, dict(model.named_parameters()))\n",
        "p"
      ],
      "metadata": {
        "id": "U15ie_7ni0JE",
        "outputId": "b9531d5a-33a4-40a4-eb65-9f32779435a8",
        "colab": {
          "base_uri": "https://localhost:8080/",
          "height": 542
        }
      },
      "execution_count": 67,
      "outputs": [
        {
          "output_type": "execute_result",
          "data": {
            "image/svg+xml": "<?xml version=\"1.0\" encoding=\"UTF-8\" standalone=\"no\"?>\n<!DOCTYPE svg PUBLIC \"-//W3C//DTD SVG 1.1//EN\"\n \"http://www.w3.org/Graphics/SVG/1.1/DTD/svg11.dtd\">\n<!-- Generated by graphviz version 2.43.0 (0)\n -->\n<!-- Title: %3 Pages: 1 -->\n<svg width=\"216pt\" height=\"391pt\"\n viewBox=\"0.00 0.00 216.00 391.00\" xmlns=\"http://www.w3.org/2000/svg\" xmlns:xlink=\"http://www.w3.org/1999/xlink\">\n<g id=\"graph0\" class=\"graph\" transform=\"scale(1 1) rotate(0) translate(4 387)\">\n<title>%3</title>\n<polygon fill=\"white\" stroke=\"transparent\" points=\"-4,4 -4,-387 212,-387 212,4 -4,4\"/>\n<!-- 140699189796656 -->\n<g id=\"node1\" class=\"node\">\n<title>140699189796656</title>\n<polygon fill=\"#caff70\" stroke=\"black\" points=\"130.5,-31 76.5,-31 76.5,0 130.5,0 130.5,-31\"/>\n<text text-anchor=\"middle\" x=\"103.5\" y=\"-7\" font-family=\"monospace\" font-size=\"10.00\"> ()</text>\n</g>\n<!-- 140699194603120 -->\n<g id=\"node2\" class=\"node\">\n<title>140699194603120</title>\n<polygon fill=\"lightgrey\" stroke=\"black\" points=\"160,-86 47,-86 47,-67 160,-67 160,-86\"/>\n<text text-anchor=\"middle\" x=\"103.5\" y=\"-74\" font-family=\"monospace\" font-size=\"10.00\">NllLossBackward0</text>\n</g>\n<!-- 140699194603120&#45;&gt;140699189796656 -->\n<g id=\"edge8\" class=\"edge\">\n<title>140699194603120&#45;&gt;140699189796656</title>\n<path fill=\"none\" stroke=\"black\" d=\"M103.5,-66.79C103.5,-60.07 103.5,-50.4 103.5,-41.34\"/>\n<polygon fill=\"black\" stroke=\"black\" points=\"107,-41.19 103.5,-31.19 100,-41.19 107,-41.19\"/>\n</g>\n<!-- 140699194600048 -->\n<g id=\"node3\" class=\"node\">\n<title>140699194600048</title>\n<polygon fill=\"lightgrey\" stroke=\"black\" points=\"169,-141 38,-141 38,-122 169,-122 169,-141\"/>\n<text text-anchor=\"middle\" x=\"103.5\" y=\"-129\" font-family=\"monospace\" font-size=\"10.00\">LogSoftmaxBackward0</text>\n</g>\n<!-- 140699194600048&#45;&gt;140699194603120 -->\n<g id=\"edge1\" class=\"edge\">\n<title>140699194600048&#45;&gt;140699194603120</title>\n<path fill=\"none\" stroke=\"black\" d=\"M103.5,-121.75C103.5,-114.8 103.5,-104.85 103.5,-96.13\"/>\n<polygon fill=\"black\" stroke=\"black\" points=\"107,-96.09 103.5,-86.09 100,-96.09 107,-96.09\"/>\n</g>\n<!-- 140699194596976 -->\n<g id=\"node4\" class=\"node\">\n<title>140699194596976</title>\n<polygon fill=\"lightgrey\" stroke=\"black\" points=\"154,-196 53,-196 53,-177 154,-177 154,-196\"/>\n<text text-anchor=\"middle\" x=\"103.5\" y=\"-184\" font-family=\"monospace\" font-size=\"10.00\">AddmmBackward0</text>\n</g>\n<!-- 140699194596976&#45;&gt;140699194600048 -->\n<g id=\"edge2\" class=\"edge\">\n<title>140699194596976&#45;&gt;140699194600048</title>\n<path fill=\"none\" stroke=\"black\" d=\"M103.5,-176.75C103.5,-169.8 103.5,-159.85 103.5,-151.13\"/>\n<polygon fill=\"black\" stroke=\"black\" points=\"107,-151.09 103.5,-141.09 100,-151.09 107,-151.09\"/>\n</g>\n<!-- 140699194020896 -->\n<g id=\"node5\" class=\"node\">\n<title>140699194020896</title>\n<polygon fill=\"lightgrey\" stroke=\"black\" points=\"101,-251 0,-251 0,-232 101,-232 101,-251\"/>\n<text text-anchor=\"middle\" x=\"50.5\" y=\"-239\" font-family=\"monospace\" font-size=\"10.00\">AccumulateGrad</text>\n</g>\n<!-- 140699194020896&#45;&gt;140699194596976 -->\n<g id=\"edge3\" class=\"edge\">\n<title>140699194020896&#45;&gt;140699194596976</title>\n<path fill=\"none\" stroke=\"black\" d=\"M59.25,-231.75C66.97,-224.03 78.4,-212.6 87.72,-203.28\"/>\n<polygon fill=\"black\" stroke=\"black\" points=\"90.31,-205.64 94.91,-196.09 85.36,-200.69 90.31,-205.64\"/>\n</g>\n<!-- 140699190268272 -->\n<g id=\"node6\" class=\"node\">\n<title>140699190268272</title>\n<polygon fill=\"lightblue\" stroke=\"black\" points=\"77.5,-317 23.5,-317 23.5,-287 77.5,-287 77.5,-317\"/>\n<text text-anchor=\"middle\" x=\"50.5\" y=\"-305\" font-family=\"monospace\" font-size=\"10.00\">bias</text>\n<text text-anchor=\"middle\" x=\"50.5\" y=\"-294\" font-family=\"monospace\" font-size=\"10.00\"> (10)</text>\n</g>\n<!-- 140699190268272&#45;&gt;140699194020896 -->\n<g id=\"edge4\" class=\"edge\">\n<title>140699190268272&#45;&gt;140699194020896</title>\n<path fill=\"none\" stroke=\"black\" d=\"M50.5,-286.84C50.5,-279.21 50.5,-269.7 50.5,-261.45\"/>\n<polygon fill=\"black\" stroke=\"black\" points=\"54,-261.27 50.5,-251.27 47,-261.27 54,-261.27\"/>\n</g>\n<!-- 140699194018976 -->\n<g id=\"node7\" class=\"node\">\n<title>140699194018976</title>\n<polygon fill=\"lightgrey\" stroke=\"black\" points=\"196,-251 119,-251 119,-232 196,-232 196,-251\"/>\n<text text-anchor=\"middle\" x=\"157.5\" y=\"-239\" font-family=\"monospace\" font-size=\"10.00\">TBackward0</text>\n</g>\n<!-- 140699194018976&#45;&gt;140699194596976 -->\n<g id=\"edge5\" class=\"edge\">\n<title>140699194018976&#45;&gt;140699194596976</title>\n<path fill=\"none\" stroke=\"black\" d=\"M148.58,-231.75C140.72,-224.03 129.07,-212.6 119.58,-203.28\"/>\n<polygon fill=\"black\" stroke=\"black\" points=\"121.84,-200.6 112.25,-196.09 116.94,-205.59 121.84,-200.6\"/>\n</g>\n<!-- 140699194016000 -->\n<g id=\"node8\" class=\"node\">\n<title>140699194016000</title>\n<polygon fill=\"lightgrey\" stroke=\"black\" points=\"208,-311.5 107,-311.5 107,-292.5 208,-292.5 208,-311.5\"/>\n<text text-anchor=\"middle\" x=\"157.5\" y=\"-299.5\" font-family=\"monospace\" font-size=\"10.00\">AccumulateGrad</text>\n</g>\n<!-- 140699194016000&#45;&gt;140699194018976 -->\n<g id=\"edge6\" class=\"edge\">\n<title>140699194016000&#45;&gt;140699194018976</title>\n<path fill=\"none\" stroke=\"black\" d=\"M157.5,-292.37C157.5,-284.25 157.5,-271.81 157.5,-261.39\"/>\n<polygon fill=\"black\" stroke=\"black\" points=\"161,-261.17 157.5,-251.17 154,-261.17 161,-261.17\"/>\n</g>\n<!-- 140699192601040 -->\n<g id=\"node9\" class=\"node\">\n<title>140699192601040</title>\n<polygon fill=\"lightblue\" stroke=\"black\" points=\"196,-383 119,-383 119,-353 196,-353 196,-383\"/>\n<text text-anchor=\"middle\" x=\"157.5\" y=\"-371\" font-family=\"monospace\" font-size=\"10.00\">weight</text>\n<text text-anchor=\"middle\" x=\"157.5\" y=\"-360\" font-family=\"monospace\" font-size=\"10.00\"> (10, 784)</text>\n</g>\n<!-- 140699192601040&#45;&gt;140699194016000 -->\n<g id=\"edge7\" class=\"edge\">\n<title>140699192601040&#45;&gt;140699194016000</title>\n<path fill=\"none\" stroke=\"black\" d=\"M157.5,-352.8C157.5,-343.7 157.5,-331.79 157.5,-321.9\"/>\n<polygon fill=\"black\" stroke=\"black\" points=\"161,-321.84 157.5,-311.84 154,-321.84 161,-321.84\"/>\n</g>\n</g>\n</svg>\n",
            "text/plain": [
              "<graphviz.graphs.Digraph at 0x7ff71583a0e0>"
            ]
          },
          "metadata": {},
          "execution_count": 67
        }
      ]
    },
    {
      "cell_type": "markdown",
      "metadata": {
        "id": "jnUCb6j_Ol23"
      },
      "source": [
        "### Laço de treinamento dos pesos"
      ]
    },
    {
      "cell_type": "code",
      "execution_count": 48,
      "metadata": {
        "ExecuteTime": {
          "end_time": "2017-11-24T15:44:51.678678",
          "start_time": "2017-11-24T15:44:51.427695"
        },
        "id": "g5aavLLTOl24"
      },
      "outputs": [],
      "source": [
        "import numpy\n",
        "losses = []\n",
        "zs = []\n",
        "\n",
        "for i in range(epochs):\n",
        "    # Transforma a entrada para uma dimensão\n",
        "    inputs = Variable(x_train.view(-1, 28 * 28))\n",
        "    # Predict da rede\n",
        "    outputs = model(inputs)\n",
        "\n",
        "    # z0 a z9\n",
        "    zs.append(outputs[1].detach().numpy())\n",
        "\n",
        "    # calcula a perda\n",
        "    loss = criterion(outputs, Variable(y_train))\n",
        "\n",
        "    # zero, backpropagation, ajusta parâmetros pelo gradiente descendente\n",
        "    optimizer.zero_grad()\n",
        "    loss.backward()\n",
        "    optimizer.step()\n",
        "\n",
        "    losses.append(loss.item())\n",
        "\n",
        "    _, predicts = torch.max(outputs, 1)\n",
        "\n",
        "    y_pred = predicts.data\n",
        "    accuracy = (y_pred.numpy() == y_train.numpy()).mean()\n"
      ]
    },
    {
      "cell_type": "code",
      "execution_count": 49,
      "metadata": {
        "ExecuteTime": {
          "end_time": "2017-11-24T15:44:51.685301",
          "start_time": "2017-11-24T15:44:51.680419"
        },
        "colab": {
          "base_uri": "https://localhost:8080/"
        },
        "id": "menkKvteOl27",
        "outputId": "b5bbb5c1-0bb9-4a58-e943-bd5234558153"
      },
      "outputs": [
        {
          "output_type": "stream",
          "name": "stdout",
          "text": [
            "Final loss: 0.2653034031391144\n"
          ]
        }
      ],
      "source": [
        "print('Final loss:', loss.item())"
      ]
    },
    {
      "cell_type": "markdown",
      "metadata": {
        "id": "j1pLKxlqOl3F"
      },
      "source": [
        "### Visualizando gráfico de perda durante o treinamento"
      ]
    },
    {
      "cell_type": "code",
      "execution_count": 50,
      "metadata": {
        "ExecuteTime": {
          "end_time": "2017-11-24T15:44:56.787741",
          "start_time": "2017-11-24T15:44:56.627754"
        },
        "colab": {
          "base_uri": "https://localhost:8080/",
          "height": 448
        },
        "id": "UlivLNgcOl3G",
        "outputId": "82e3088f-7496-46fe-f581-df801c54f792"
      },
      "outputs": [
        {
          "output_type": "execute_result",
          "data": {
            "text/plain": [
              "[<matplotlib.lines.Line2D at 0x7ff715933e80>]"
            ]
          },
          "metadata": {},
          "execution_count": 50
        },
        {
          "output_type": "display_data",
          "data": {
            "text/plain": [
              "<Figure size 640x480 with 1 Axes>"
            ],
            "image/png": "[encoded data removed]"
          },
          "metadata": {}
        }
      ],
      "source": [
        "plt.plot(losses)"
      ]
    },
    {
      "cell_type": "markdown",
      "metadata": {
        "id": "zUTfdh5VOl3N"
      },
      "source": [
        "## Avaliação"
      ]
    },
    {
      "cell_type": "markdown",
      "metadata": {
        "id": "XgFPZ9hNOl3O"
      },
      "source": [
        "### Acurácia tanto no conjunto de treinamento como no conjunto de testes"
      ]
    },
    {
      "cell_type": "code",
      "execution_count": 51,
      "metadata": {
        "ExecuteTime": {
          "end_time": "2017-11-24T15:50:29.922115",
          "start_time": "2017-11-24T15:50:29.914004"
        },
        "colab": {
          "base_uri": "https://localhost:8080/"
        },
        "id": "JMo5hSBhOl3P",
        "outputId": "4939541d-1ae9-4740-e5fd-863352061e2e"
      },
      "outputs": [
        {
          "output_type": "stream",
          "name": "stdout",
          "text": [
            "Accuracy: 0.939\n"
          ]
        }
      ],
      "source": [
        "def predict(model, input_data):\n",
        "    outputs = model(Variable(input_data))\n",
        "    _, predicts = torch.max(outputs, 1)\n",
        "\n",
        "    return predicts.data\n",
        "\n",
        "y_pred = predict(model, x_train.view(-1, 28*28))\n",
        "accuracy = (y_pred.numpy() == y_train.numpy()).mean()\n",
        "print('Accuracy:', accuracy)"
      ]
    },
    {
      "cell_type": "markdown",
      "metadata": {
        "id": "Po0mlGpCOl3W"
      },
      "source": [
        "### Matriz de confusão com dados de treinamento e teste"
      ]
    },
    {
      "cell_type": "code",
      "execution_count": 52,
      "metadata": {
        "ExecuteTime": {
          "end_time": "2017-11-24T15:51:40.706177",
          "start_time": "2017-11-24T15:51:40.679474"
        },
        "colab": {
          "base_uri": "https://localhost:8080/",
          "height": 412
        },
        "id": "PtA3ZAUjOl3X",
        "outputId": "ddd76e9d-a246-46f5-8f8a-b568b17fcb83"
      },
      "outputs": [
        {
          "output_type": "stream",
          "name": "stdout",
          "text": [
            "Matriz de confusão:\n"
          ]
        },
        {
          "output_type": "execute_result",
          "data": {
            "text/plain": [
              "col_0   0    1   2   3    4   5   6    7   8   9\n",
              "row_0                                           \n",
              "0      96    0   1   0    0   0   1    0   0   2\n",
              "1       0  110   2   0    0   0   1    2   1   0\n",
              "2       0    1  89   1    0   1   0    1   2   1\n",
              "3       0    0   0  88    0   2   0    0   0   0\n",
              "4       0    0   1   0  102   2   1    2   0   3\n",
              "5       0    2   0   1    0  81   0    0   2   1\n",
              "6       1    0   1   1    2   2  90    0   0   0\n",
              "7       0    1   2   1    0   0   0  111   0   3\n",
              "8       0    2   2   0    0   2   1    0  82   0\n",
              "9       0    0   1   1    1   2   0    1   0  90"
            ],
            "text/html": [
              "\n",
              "  <div id=\"df-69743933-0426-4570-a061-08c757d5c123\" class=\"colab-df-container\">\n",
              "    <div>\n",
              "<style scoped>\n",
              "    .dataframe tbody tr th:only-of-type {\n",
              "        vertical-align: middle;\n",
              "    }\n",
              "\n",
              "    .dataframe tbody tr th {\n",
              "        vertical-align: top;\n",
              "    }\n",
              "\n",
              "    .dataframe thead th {\n",
              "        text-align: right;\n",
              "    }\n",
              "</style>\n",
              "<table border=\"1\" class=\"dataframe\">\n",
              "  <thead>\n",
              "    <tr style=\"text-align: right;\">\n",
              "      <th>col_0</th>\n",
              "      <th>0</th>\n",
              "      <th>1</th>\n",
              "      <th>2</th>\n",
              "      <th>3</th>\n",
              "      <th>4</th>\n",
              "      <th>5</th>\n",
              "      <th>6</th>\n",
              "      <th>7</th>\n",
              "      <th>8</th>\n",
              "      <th>9</th>\n",
              "    </tr>\n",
              "    <tr>\n",
              "      <th>row_0</th>\n",
              "      <th></th>\n",
              "      <th></th>\n",
              "      <th></th>\n",
              "      <th></th>\n",
              "      <th></th>\n",
              "      <th></th>\n",
              "      <th></th>\n",
              "      <th></th>\n",
              "      <th></th>\n",
              "      <th></th>\n",
              "    </tr>\n",
              "  </thead>\n",
              "  <tbody>\n",
              "    <tr>\n",
              "      <th>0</th>\n",
              "      <td>96</td>\n",
              "      <td>0</td>\n",
              "      <td>1</td>\n",
              "      <td>0</td>\n",
              "      <td>0</td>\n",
              "      <td>0</td>\n",
              "      <td>1</td>\n",
              "      <td>0</td>\n",
              "      <td>0</td>\n",
              "      <td>2</td>\n",
              "    </tr>\n",
              "    <tr>\n",
              "      <th>1</th>\n",
              "      <td>0</td>\n",
              "      <td>110</td>\n",
              "      <td>2</td>\n",
              "      <td>0</td>\n",
              "      <td>0</td>\n",
              "      <td>0</td>\n",
              "      <td>1</td>\n",
              "      <td>2</td>\n",
              "      <td>1</td>\n",
              "      <td>0</td>\n",
              "    </tr>\n",
              "    <tr>\n",
              "      <th>2</th>\n",
              "      <td>0</td>\n",
              "      <td>1</td>\n",
              "      <td>89</td>\n",
              "      <td>1</td>\n",
              "      <td>0</td>\n",
              "      <td>1</td>\n",
              "      <td>0</td>\n",
              "      <td>1</td>\n",
              "      <td>2</td>\n",
              "      <td>1</td>\n",
              "    </tr>\n",
              "    <tr>\n",
              "      <th>3</th>\n",
              "      <td>0</td>\n",
              "      <td>0</td>\n",
              "      <td>0</td>\n",
              "      <td>88</td>\n",
              "      <td>0</td>\n",
              "      <td>2</td>\n",
              "      <td>0</td>\n",
              "      <td>0</td>\n",
              "      <td>0</td>\n",
              "      <td>0</td>\n",
              "    </tr>\n",
              "    <tr>\n",
              "      <th>4</th>\n",
              "      <td>0</td>\n",
              "      <td>0</td>\n",
              "      <td>1</td>\n",
              "      <td>0</td>\n",
              "      <td>102</td>\n",
              "      <td>2</td>\n",
              "      <td>1</td>\n",
              "      <td>2</td>\n",
              "      <td>0</td>\n",
              "      <td>3</td>\n",
              "    </tr>\n",
              "    <tr>\n",
              "      <th>5</th>\n",
              "      <td>0</td>\n",
              "      <td>2</td>\n",
              "      <td>0</td>\n",
              "      <td>1</td>\n",
              "      <td>0</td>\n",
              "      <td>81</td>\n",
              "      <td>0</td>\n",
              "      <td>0</td>\n",
              "      <td>2</td>\n",
              "      <td>1</td>\n",
              "    </tr>\n",
              "    <tr>\n",
              "      <th>6</th>\n",
              "      <td>1</td>\n",
              "      <td>0</td>\n",
              "      <td>1</td>\n",
              "      <td>1</td>\n",
              "      <td>2</td>\n",
              "      <td>2</td>\n",
              "      <td>90</td>\n",
              "      <td>0</td>\n",
              "      <td>0</td>\n",
              "      <td>0</td>\n",
              "    </tr>\n",
              "    <tr>\n",
              "      <th>7</th>\n",
              "      <td>0</td>\n",
              "      <td>1</td>\n",
              "      <td>2</td>\n",
              "      <td>1</td>\n",
              "      <td>0</td>\n",
              "      <td>0</td>\n",
              "      <td>0</td>\n",
              "      <td>111</td>\n",
              "      <td>0</td>\n",
              "      <td>3</td>\n",
              "    </tr>\n",
              "    <tr>\n",
              "      <th>8</th>\n",
              "      <td>0</td>\n",
              "      <td>2</td>\n",
              "      <td>2</td>\n",
              "      <td>0</td>\n",
              "      <td>0</td>\n",
              "      <td>2</td>\n",
              "      <td>1</td>\n",
              "      <td>0</td>\n",
              "      <td>82</td>\n",
              "      <td>0</td>\n",
              "    </tr>\n",
              "    <tr>\n",
              "      <th>9</th>\n",
              "      <td>0</td>\n",
              "      <td>0</td>\n",
              "      <td>1</td>\n",
              "      <td>1</td>\n",
              "      <td>1</td>\n",
              "      <td>2</td>\n",
              "      <td>0</td>\n",
              "      <td>1</td>\n",
              "      <td>0</td>\n",
              "      <td>90</td>\n",
              "    </tr>\n",
              "  </tbody>\n",
              "</table>\n",
              "</div>\n",
              "    <div class=\"colab-df-buttons\">\n",
              "\n",
              "  <div class=\"colab-df-container\">\n",
              "    <button class=\"colab-df-convert\" onclick=\"convertToInteractive('df-69743933-0426-4570-a061-08c757d5c123')\"\n",
              "            title=\"Convert this dataframe to an interactive table.\"\n",
              "            style=\"display:none;\">\n",
              "\n",
              "  <svg xmlns=\"http://www.w3.org/2000/svg\" height=\"24px\" viewBox=\"0 -960 960 960\">\n",
              "    <path d=\"M120-120v-720h720v720H120Zm60-500h600v-160H180v160Zm220 220h160v-160H400v160Zm0 220h160v-160H400v160ZM180-400h160v-160H180v160Zm440 0h160v-160H620v160ZM180-180h160v-160H180v160Zm440 0h160v-160H620v160Z\"/>\n",
              "  </svg>\n",
              "    </button>\n",
              "\n",
              "  <style>\n",
              "    .colab-df-container {\n",
              "      display:flex;\n",
              "      gap: 12px;\n",
              "    }\n",
              "\n",
              "    .colab-df-convert {\n",
              "      background-color: #E8F0FE;\n",
              "      border: none;\n",
              "      border-radius: 50%;\n",
              "      cursor: pointer;\n",
              "      display: none;\n",
              "      fill: #1967D2;\n",
              "      height: 32px;\n",
              "      padding: 0 0 0 0;\n",
              "      width: 32px;\n",
              "    }\n",
              "\n",
              "    .colab-df-convert:hover {\n",
              "      background-color: #E2EBFA;\n",
              "      box-shadow: 0px 1px 2px rgba(60, 64, 67, 0.3), 0px 1px 3px 1px rgba(60, 64, 67, 0.15);\n",
              "      fill: #174EA6;\n",
              "    }\n",
              "\n",
              "    .colab-df-buttons div {\n",
              "      margin-bottom: 4px;\n",
              "    }\n",
              "\n",
              "    [theme=dark] .colab-df-convert {\n",
              "      background-color: #3B4455;\n",
              "      fill: #D2E3FC;\n",
              "    }\n",
              "\n",
              "    [theme=dark] .colab-df-convert:hover {\n",
              "      background-color: #434B5C;\n",
              "      box-shadow: 0px 1px 3px 1px rgba(0, 0, 0, 0.15);\n",
              "      filter: drop-shadow(0px 1px 2px rgba(0, 0, 0, 0.3));\n",
              "      fill: #FFFFFF;\n",
              "    }\n",
              "  </style>\n",
              "\n",
              "    <script>\n",
              "      const buttonEl =\n",
              "        document.querySelector('#df-69743933-0426-4570-a061-08c757d5c123 button.colab-df-convert');\n",
              "      buttonEl.style.display =\n",
              "        google.colab.kernel.accessAllowed ? 'block' : 'none';\n",
              "\n",
              "      async function convertToInteractive(key) {\n",
              "        const element = document.querySelector('#df-69743933-0426-4570-a061-08c757d5c123');\n",
              "        const dataTable =\n",
              "          await google.colab.kernel.invokeFunction('convertToInteractive',\n",
              "                                                    [key], {});\n",
              "        if (!dataTable) return;\n",
              "\n",
              "        const docLinkHtml = 'Like what you see? Visit the ' +\n",
              "          '<a target=\"_blank\" href=https://colab.research.google.com/notebooks/data_table.ipynb>data table notebook</a>'\n",
              "          + ' to learn more about interactive tables.';\n",
              "        element.innerHTML = '';\n",
              "        dataTable['output_type'] = 'display_data';\n",
              "        await google.colab.output.renderOutput(dataTable, element);\n",
              "        const docLink = document.createElement('div');\n",
              "        docLink.innerHTML = docLinkHtml;\n",
              "        element.appendChild(docLink);\n",
              "      }\n",
              "    </script>\n",
              "  </div>\n",
              "\n",
              "\n",
              "<div id=\"df-dfb37b7a-37a4-4a59-ae19-25b3bc2d85d5\">\n",
              "  <button class=\"colab-df-quickchart\" onclick=\"quickchart('df-dfb37b7a-37a4-4a59-ae19-25b3bc2d85d5')\"\n",
              "            title=\"Suggest charts\"\n",
              "            style=\"display:none;\">\n",
              "\n",
              "<svg xmlns=\"http://www.w3.org/2000/svg\" height=\"24px\"viewBox=\"0 0 24 24\"\n",
              "     width=\"24px\">\n",
              "    <g>\n",
              "        <path d=\"M19 3H5c-1.1 0-2 .9-2 2v14c0 1.1.9 2 2 2h14c1.1 0 2-.9 2-2V5c0-1.1-.9-2-2-2zM9 17H7v-7h2v7zm4 0h-2V7h2v10zm4 0h-2v-4h2v4z\"/>\n",
              "    </g>\n",
              "</svg>\n",
              "  </button>\n",
              "\n",
              "<style>\n",
              "  .colab-df-quickchart {\n",
              "      --bg-color: #E8F0FE;\n",
              "      --fill-color: #1967D2;\n",
              "      --hover-bg-color: #E2EBFA;\n",
              "      --hover-fill-color: #174EA6;\n",
              "      --disabled-fill-color: #AAA;\n",
              "      --disabled-bg-color: #DDD;\n",
              "  }\n",
              "\n",
              "  [theme=dark] .colab-df-quickchart {\n",
              "      --bg-color: #3B4455;\n",
              "      --fill-color: #D2E3FC;\n",
              "      --hover-bg-color: #434B5C;\n",
              "      --hover-fill-color: #FFFFFF;\n",
              "      --disabled-bg-color: #3B4455;\n",
              "      --disabled-fill-color: #666;\n",
              "  }\n",
              "\n",
              "  .colab-df-quickchart {\n",
              "    background-color: var(--bg-color);\n",
              "    border: none;\n",
              "    border-radius: 50%;\n",
              "    cursor: pointer;\n",
              "    display: none;\n",
              "    fill: var(--fill-color);\n",
              "    height: 32px;\n",
              "    padding: 0;\n",
              "    width: 32px;\n",
              "  }\n",
              "\n",
              "  .colab-df-quickchart:hover {\n",
              "    background-color: var(--hover-bg-color);\n",
              "    box-shadow: 0 1px 2px rgba(60, 64, 67, 0.3), 0 1px 3px 1px rgba(60, 64, 67, 0.15);\n",
              "    fill: var(--button-hover-fill-color);\n",
              "  }\n",
              "\n",
              "  .colab-df-quickchart-complete:disabled,\n",
              "  .colab-df-quickchart-complete:disabled:hover {\n",
              "    background-color: var(--disabled-bg-color);\n",
              "    fill: var(--disabled-fill-color);\n",
              "    box-shadow: none;\n",
              "  }\n",
              "\n",
              "  .colab-df-spinner {\n",
              "    border: 2px solid var(--fill-color);\n",
              "    border-color: transparent;\n",
              "    border-bottom-color: var(--fill-color);\n",
              "    animation:\n",
              "      spin 1s steps(1) infinite;\n",
              "  }\n",
              "\n",
              "  @keyframes spin {\n",
              "    0% {\n",
              "      border-color: transparent;\n",
              "      border-bottom-color: var(--fill-color);\n",
              "      border-left-color: var(--fill-color);\n",
              "    }\n",
              "    20% {\n",
              "      border-color: transparent;\n",
              "      border-left-color: var(--fill-color);\n",
              "      border-top-color: var(--fill-color);\n",
              "    }\n",
              "    30% {\n",
              "      border-color: transparent;\n",
              "      border-left-color: var(--fill-color);\n",
              "      border-top-color: var(--fill-color);\n",
              "      border-right-color: var(--fill-color);\n",
              "    }\n",
              "    40% {\n",
              "      border-color: transparent;\n",
              "      border-right-color: var(--fill-color);\n",
              "      border-top-color: var(--fill-color);\n",
              "    }\n",
              "    60% {\n",
              "      border-color: transparent;\n",
              "      border-right-color: var(--fill-color);\n",
              "    }\n",
              "    80% {\n",
              "      border-color: transparent;\n",
              "      border-right-color: var(--fill-color);\n",
              "      border-bottom-color: var(--fill-color);\n",
              "    }\n",
              "    90% {\n",
              "      border-color: transparent;\n",
              "      border-bottom-color: var(--fill-color);\n",
              "    }\n",
              "  }\n",
              "</style>\n",
              "\n",
              "  <script>\n",
              "    async function quickchart(key) {\n",
              "      const quickchartButtonEl =\n",
              "        document.querySelector('#' + key + ' button');\n",
              "      quickchartButtonEl.disabled = true;  // To prevent multiple clicks.\n",
              "      quickchartButtonEl.classList.add('colab-df-spinner');\n",
              "      try {\n",
              "        const charts = await google.colab.kernel.invokeFunction(\n",
              "            'suggestCharts', [key], {});\n",
              "      } catch (error) {\n",
              "        console.error('Error during call to suggestCharts:', error);\n",
              "      }\n",
              "      quickchartButtonEl.classList.remove('colab-df-spinner');\n",
              "      quickchartButtonEl.classList.add('colab-df-quickchart-complete');\n",
              "    }\n",
              "    (() => {\n",
              "      let quickchartButtonEl =\n",
              "        document.querySelector('#df-dfb37b7a-37a4-4a59-ae19-25b3bc2d85d5 button');\n",
              "      quickchartButtonEl.style.display =\n",
              "        google.colab.kernel.accessAllowed ? 'block' : 'none';\n",
              "    })();\n",
              "  </script>\n",
              "</div>\n",
              "    </div>\n",
              "  </div>\n"
            ],
            "application/vnd.google.colaboratory.intrinsic+json": {
              "type": "dataframe",
              "summary": "{\n  \"name\": \"pd\",\n  \"rows\": 10,\n  \"fields\": [\n    {\n      \"column\": \"row_0\",\n      \"properties\": {\n        \"dtype\": \"number\",\n        \"std\": 3,\n        \"min\": 0,\n        \"max\": 9,\n        \"num_unique_values\": 10,\n        \"samples\": [\n          8,\n          1,\n          5\n        ],\n        \"semantic_type\": \"\",\n        \"description\": \"\"\n      }\n    },\n    {\n      \"column\": 0,\n      \"properties\": {\n        \"dtype\": \"number\",\n        \"std\": 30,\n        \"min\": 0,\n        \"max\": 96,\n        \"num_unique_values\": 3,\n        \"samples\": [\n          96,\n          0,\n          1\n        ],\n        \"semantic_type\": \"\",\n        \"description\": \"\"\n      }\n    },\n    {\n      \"column\": 1,\n      \"properties\": {\n        \"dtype\": \"number\",\n        \"std\": 34,\n        \"min\": 0,\n        \"max\": 110,\n        \"num_unique_values\": 4,\n        \"samples\": [\n          110,\n          2,\n          0\n        ],\n        \"semantic_type\": \"\",\n        \"description\": \"\"\n      }\n    },\n    {\n      \"column\": 2,\n      \"properties\": {\n        \"dtype\": \"number\",\n        \"std\": 27,\n        \"min\": 0,\n        \"max\": 89,\n        \"num_unique_values\": 4,\n        \"samples\": [\n          2,\n          0,\n          1\n        ],\n        \"semantic_type\": \"\",\n        \"description\": \"\"\n      }\n    },\n    {\n      \"column\": 3,\n      \"properties\": {\n        \"dtype\": \"number\",\n        \"std\": 27,\n        \"min\": 0,\n        \"max\": 88,\n        \"num_unique_values\": 3,\n        \"samples\": [\n          0,\n          1,\n          88\n        ],\n        \"semantic_type\": \"\",\n        \"description\": \"\"\n      }\n    },\n    {\n      \"column\": 4,\n      \"properties\": {\n        \"dtype\": \"number\",\n        \"std\": 32,\n        \"min\": 0,\n        \"max\": 102,\n        \"num_unique_values\": 4,\n        \"samples\": [\n          102,\n          1,\n          0\n        ],\n        \"semantic_type\": \"\",\n        \"description\": \"\"\n      }\n    },\n    {\n      \"column\": 5,\n      \"properties\": {\n        \"dtype\": \"number\",\n        \"std\": 25,\n        \"min\": 0,\n        \"max\": 81,\n        \"num_unique_values\": 4,\n        \"samples\": [\n          1,\n          81,\n          0\n        ],\n        \"semantic_type\": \"\",\n        \"description\": \"\"\n      }\n    },\n    {\n      \"column\": 6,\n      \"properties\": {\n        \"dtype\": \"number\",\n        \"std\": 28,\n        \"min\": 0,\n        \"max\": 90,\n        \"num_unique_values\": 3,\n        \"samples\": [\n          1,\n          0,\n          90\n        ],\n        \"semantic_type\": \"\",\n        \"description\": \"\"\n      }\n    },\n    {\n      \"column\": 7,\n      \"properties\": {\n        \"dtype\": \"number\",\n        \"std\": 34,\n        \"min\": 0,\n        \"max\": 111,\n        \"num_unique_values\": 4,\n        \"samples\": [\n          2,\n          111,\n          0\n        ],\n        \"semantic_type\": \"\",\n        \"description\": \"\"\n      }\n    },\n    {\n      \"column\": 8,\n      \"properties\": {\n        \"dtype\": \"number\",\n        \"std\": 25,\n        \"min\": 0,\n        \"max\": 82,\n        \"num_unique_values\": 4,\n        \"samples\": [\n          1,\n          82,\n          0\n        ],\n        \"semantic_type\": \"\",\n        \"description\": \"\"\n      }\n    },\n    {\n      \"column\": 9,\n      \"properties\": {\n        \"dtype\": \"number\",\n        \"std\": 28,\n        \"min\": 0,\n        \"max\": 90,\n        \"num_unique_values\": 5,\n        \"samples\": [\n          0,\n          90,\n          1\n        ],\n        \"semantic_type\": \"\",\n        \"description\": \"\"\n      }\n    }\n  ]\n}"
            }
          },
          "metadata": {},
          "execution_count": 52
        }
      ],
      "source": [
        "print('Matriz de confusão:')\n",
        "pd.crosstab(y_pred.numpy(), y_train.numpy())"
      ]
    },
    {
      "cell_type": "markdown",
      "metadata": {
        "id": "6Df5Xz6rOl3c"
      },
      "source": [
        "## Visualizando a matriz de pesos treinados"
      ]
    },
    {
      "cell_type": "markdown",
      "metadata": {
        "id": "DLo6HaWGOl3n"
      },
      "source": [
        "Observe que a matriz de peso treinado para cada classe mostra a importância dos pesos associados aos caracteres de cada classe."
      ]
    },
    {
      "cell_type": "code",
      "execution_count": 19,
      "metadata": {
        "ExecuteTime": {
          "end_time": "2017-11-24T16:34:49.367135",
          "start_time": "2017-11-24T16:34:49.204452"
        },
        "colab": {
          "base_uri": "https://localhost:8080/",
          "height": 466
        },
        "id": "uoBSV4EqOl3q",
        "outputId": "56f42763-ecbd-46f0-d4ad-1a1f0ed2359b"
      },
      "outputs": [
        {
          "output_type": "stream",
          "name": "stdout",
          "text": [
            "weights: torch.Size([10, 784])\n",
            "bias:    torch.Size([10])\n"
          ]
        },
        {
          "output_type": "display_data",
          "data": {
            "text/plain": [
              "<Figure size 640x480 with 1 Axes>"
            ],
            "image/png": "[encoded data removed]"
          },
          "metadata": {}
        }
      ],
      "source": [
        "weights = model.state_dict()['weight']\n",
        "print('weights:', weights.shape)\n",
        "\n",
        "bias = model.state_dict()['bias']\n",
        "print('bias:   ', bias.shape)\n",
        "\n",
        "# Visualizando pesos da classe 3\n",
        "plt.imshow(weights[3, :].numpy().reshape((28,28)),cmap = 'gray')\n",
        "plt.show()"
      ]
    },
    {
      "cell_type": "markdown",
      "metadata": {
        "id": "eN6W4vnfOl3w"
      },
      "source": [
        "### Visualizando os pesos de todas as classes"
      ]
    },
    {
      "cell_type": "code",
      "execution_count": 20,
      "metadata": {
        "ExecuteTime": {
          "end_time": "2017-11-24T16:34:50.240218",
          "start_time": "2017-11-24T16:34:50.025515"
        },
        "colab": {
          "base_uri": "https://localhost:8080/",
          "height": 130
        },
        "id": "0Vz_WwiDOl3x",
        "outputId": "07047e3c-f398-410d-91a8-f5137faea283"
      },
      "outputs": [
        {
          "output_type": "display_data",
          "data": {
            "text/plain": [
              "<Figure size 1500x1000 with 1 Axes>"
            ],
            "image/png": "[encoded data removed]"
          },
          "metadata": {}
        }
      ],
      "source": [
        "# cria um grid com as imagens\n",
        "grid = torchvision.utils.make_grid(weights.view(-1, 1, 28, 28), normalize=True, pad_value=1.0, padding=1, nrow=10)\n",
        "\n",
        "plt.figure(figsize=(15, 10))\n",
        "plt.imshow(grid.numpy().transpose(1, 2, 0))\n",
        "plt.axis('off');"
      ]
    },
    {
      "cell_type": "markdown",
      "metadata": {
        "id": "IAwjpjUzOl3z"
      },
      "source": [
        "### Diagrama da regressão softmax com visualização dos pesos W"
      ]
    },
    {
      "cell_type": "markdown",
      "metadata": {
        "id": "Io0kz0bDOl31"
      },
      "source": [
        "![alt text](https://raw.githubusercontent.com/vcasadei/images/master/RegressaoSoftmaxArgmaxNMIST.png)"
      ]
    },
    {
      "cell_type": "markdown",
      "metadata": {
        "id": "KKKZDmIvOl31"
      },
      "source": [
        "# Atividades"
      ]
    },
    {
      "cell_type": "markdown",
      "metadata": {
        "id": "fMcK8rnnOl31"
      },
      "source": [
        "## Exercícios"
      ]
    },
    {
      "cell_type": "markdown",
      "metadata": {
        "id": "bcYvj-5dOl4I"
      },
      "source": [
        "- 1) Insira código no laço do treinamento para que no final de cada época,\n",
        "     seja impresso: o número da época e a perda e a acurácia"
      ]
    },
    {
      "cell_type": "code",
      "source": [
        "import numpy\n",
        "losses = []\n",
        "zs = []\n",
        "\n",
        "for i in range(epochs):\n",
        "    # Transforma a entrada para uma dimensão\n",
        "    inputs = Variable(x_train.view(-1, 28 * 28))\n",
        "    # Predict da rede\n",
        "    outputs = model(inputs)\n",
        "\n",
        "    # z0 a z9\n",
        "    zs.append(outputs[1].detach().numpy())\n",
        "\n",
        "    # calcula a perda\n",
        "    loss = criterion(outputs, Variable(y_train))\n",
        "\n",
        "    # zero, backpropagation, ajusta parâmetros pelo gradiente descendente\n",
        "    optimizer.zero_grad()\n",
        "    loss.backward()\n",
        "    optimizer.step()\n",
        "\n",
        "    losses.append(loss.item())\n",
        "\n",
        "    _, predicts = torch.max(outputs, 1)\n",
        "\n",
        "    y_pred = predicts.data\n",
        "    accuracy = (y_pred.numpy() == y_train.numpy()).mean()\n",
        "    print(f\"Epoch {i+1}: Loss {loss.item()}, Accuracy {accuracy}\")"
      ],
      "metadata": {
        "colab": {
          "base_uri": "https://localhost:8080/"
        },
        "collapsed": true,
        "id": "6feebC7X-Hi9",
        "outputId": "53b5f8c1-825e-46f9-d419-338515baa90e"
      },
      "execution_count": 26,
      "outputs": [
        {
          "output_type": "stream",
          "name": "stdout",
          "text": [
            "Epoch 1: Loss 0.07409704476594925, Accuracy 0.998\n",
            "Epoch 2: Loss 0.07398202270269394, Accuracy 0.998\n",
            "Epoch 3: Loss 0.07386733591556549, Accuracy 0.998\n",
            "Epoch 4: Loss 0.0737529844045639, Accuracy 0.998\n",
            "Epoch 5: Loss 0.07363896071910858, Accuracy 0.998\n",
            "Epoch 6: Loss 0.07352524995803833, Accuracy 0.998\n",
            "Epoch 7: Loss 0.07341191172599792, Accuracy 0.998\n",
            "Epoch 8: Loss 0.0732988715171814, Accuracy 0.998\n",
            "Epoch 9: Loss 0.07318617403507233, Accuracy 0.998\n",
            "Epoch 10: Loss 0.07307378947734833, Accuracy 0.998\n",
            "Epoch 11: Loss 0.07296174019575119, Accuracy 0.998\n",
            "Epoch 12: Loss 0.07285001128911972, Accuracy 0.998\n",
            "Epoch 13: Loss 0.07273861765861511, Accuracy 0.998\n",
            "Epoch 14: Loss 0.07262753695249557, Accuracy 0.998\n",
            "Epoch 15: Loss 0.0725167766213417, Accuracy 0.998\n",
            "Epoch 16: Loss 0.0724063292145729, Accuracy 0.998\n",
            "Epoch 17: Loss 0.07229620218276978, Accuracy 0.998\n",
            "Epoch 18: Loss 0.07218638807535172, Accuracy 0.998\n",
            "Epoch 19: Loss 0.07207690179347992, Accuracy 0.998\n",
            "Epoch 20: Loss 0.0719677209854126, Accuracy 0.998\n",
            "Epoch 21: Loss 0.07185885310173035, Accuracy 0.998\n",
            "Epoch 22: Loss 0.07175029814243317, Accuracy 0.998\n",
            "Epoch 23: Loss 0.07164204865694046, Accuracy 0.998\n",
            "Epoch 24: Loss 0.07153411954641342, Accuracy 0.998\n",
            "Epoch 25: Loss 0.07142648100852966, Accuracy 0.998\n",
            "Epoch 26: Loss 0.07131917029619217, Accuracy 0.998\n",
            "Epoch 27: Loss 0.07121213525533676, Accuracy 0.998\n",
            "Epoch 28: Loss 0.07110542804002762, Accuracy 0.998\n",
            "Epoch 29: Loss 0.07099901884794235, Accuracy 0.998\n",
            "Epoch 30: Loss 0.07089290022850037, Accuracy 0.998\n",
            "Epoch 31: Loss 0.07078709453344345, Accuracy 0.998\n",
            "Epoch 32: Loss 0.07068157941102982, Accuracy 0.998\n",
            "Epoch 33: Loss 0.07057636976242065, Accuracy 0.998\n",
            "Epoch 34: Loss 0.07047146558761597, Accuracy 0.998\n",
            "Epoch 35: Loss 0.07036682963371277, Accuracy 0.998\n",
            "Epoch 36: Loss 0.07026250660419464, Accuracy 0.998\n",
            "Epoch 37: Loss 0.0701584741473198, Accuracy 0.998\n",
            "Epoch 38: Loss 0.07005472481250763, Accuracy 0.998\n",
            "Epoch 39: Loss 0.06995129585266113, Accuracy 0.998\n",
            "Epoch 40: Loss 0.06984811276197433, Accuracy 0.998\n",
            "Epoch 41: Loss 0.0697452500462532, Accuracy 0.998\n",
            "Epoch 42: Loss 0.06964266300201416, Accuracy 0.998\n",
            "Epoch 43: Loss 0.0695403516292572, Accuracy 0.998\n",
            "Epoch 44: Loss 0.06943834573030472, Accuracy 0.998\n",
            "Epoch 45: Loss 0.06933661550283432, Accuracy 0.998\n",
            "Epoch 46: Loss 0.06923516094684601, Accuracy 0.998\n",
            "Epoch 47: Loss 0.06913400441408157, Accuracy 0.998\n",
            "Epoch 48: Loss 0.06903310865163803, Accuracy 0.998\n",
            "Epoch 49: Loss 0.06893250346183777, Accuracy 0.998\n",
            "Epoch 50: Loss 0.06883217394351959, Accuracy 0.998\n",
            "Epoch 51: Loss 0.0687321349978447, Accuracy 0.998\n",
            "Epoch 52: Loss 0.06863236427307129, Accuracy 0.998\n",
            "Epoch 53: Loss 0.06853286176919937, Accuracy 0.998\n",
            "Epoch 54: Loss 0.06843364238739014, Accuracy 0.998\n",
            "Epoch 55: Loss 0.06833469122648239, Accuracy 0.998\n",
            "Epoch 56: Loss 0.06823601573705673, Accuracy 0.998\n",
            "Epoch 57: Loss 0.06813758611679077, Accuracy 0.998\n",
            "Epoch 58: Loss 0.06803946197032928, Accuracy 0.998\n",
            "Epoch 59: Loss 0.0679415911436081, Accuracy 0.998\n",
            "Epoch 60: Loss 0.06784398853778839, Accuracy 0.998\n",
            "Epoch 61: Loss 0.06774665415287018, Accuracy 0.998\n",
            "Epoch 62: Loss 0.06764958053827286, Accuracy 0.998\n",
            "Epoch 63: Loss 0.06755276769399643, Accuracy 0.998\n",
            "Epoch 64: Loss 0.06745623052120209, Accuracy 0.998\n",
            "Epoch 65: Loss 0.06735995411872864, Accuracy 0.998\n",
            "Epoch 66: Loss 0.06726393848657608, Accuracy 0.998\n",
            "Epoch 67: Loss 0.06716818362474442, Accuracy 0.998\n",
            "Epoch 68: Loss 0.06707266718149185, Accuracy 0.998\n",
            "Epoch 69: Loss 0.06697744131088257, Accuracy 0.998\n",
            "Epoch 70: Loss 0.06688246130943298, Accuracy 0.998\n",
            "Epoch 71: Loss 0.0667877346277237, Accuracy 0.998\n",
            "Epoch 72: Loss 0.0666932687163353, Accuracy 0.998\n",
            "Epoch 73: Loss 0.066599041223526, Accuracy 0.998\n",
            "Epoch 74: Loss 0.06650508940219879, Accuracy 0.998\n",
            "Epoch 75: Loss 0.06641136854887009, Accuracy 0.998\n",
            "Epoch 76: Loss 0.06631793081760406, Accuracy 0.998\n",
            "Epoch 77: Loss 0.06622470915317535, Accuracy 0.998\n",
            "Epoch 78: Loss 0.06613176316022873, Accuracy 0.998\n",
            "Epoch 79: Loss 0.0660390555858612, Accuracy 0.998\n",
            "Epoch 80: Loss 0.06594657897949219, Accuracy 0.998\n",
            "Epoch 81: Loss 0.06585437059402466, Accuracy 0.998\n",
            "Epoch 82: Loss 0.06576240807771683, Accuracy 0.998\n",
            "Epoch 83: Loss 0.0656706839799881, Accuracy 0.998\n",
            "Epoch 84: Loss 0.06557919085025787, Accuracy 0.998\n",
            "Epoch 85: Loss 0.06548797339200974, Accuracy 0.998\n",
            "Epoch 86: Loss 0.0653969794511795, Accuracy 0.998\n",
            "Epoch 87: Loss 0.06530621647834778, Accuracy 0.998\n",
            "Epoch 88: Loss 0.06521571427583694, Accuracy 0.998\n",
            "Epoch 89: Loss 0.06512544304132462, Accuracy 0.998\n",
            "Epoch 90: Loss 0.06503541022539139, Accuracy 0.998\n",
            "Epoch 91: Loss 0.06494561582803726, Accuracy 0.998\n",
            "Epoch 92: Loss 0.06485605984926224, Accuracy 0.998\n",
            "Epoch 93: Loss 0.06476671248674393, Accuracy 0.998\n",
            "Epoch 94: Loss 0.0646776333451271, Accuracy 0.998\n",
            "Epoch 95: Loss 0.06458877772092819, Accuracy 0.998\n",
            "Epoch 96: Loss 0.06450015306472778, Accuracy 0.998\n",
            "Epoch 97: Loss 0.06441175937652588, Accuracy 0.998\n",
            "Epoch 98: Loss 0.06432361155748367, Accuracy 0.998\n",
            "Epoch 99: Loss 0.06423567980527878, Accuracy 0.999\n",
            "Epoch 100: Loss 0.06414797902107239, Accuracy 0.999\n"
          ]
        }
      ]
    },
    {
      "cell_type": "markdown",
      "metadata": {
        "id": "0xttWrUbOl4J"
      },
      "source": [
        "- 2) Insira código no laço do treinamento para visualização dos valores dos gradientes referentes à classe do dígito 4, no final de cada época."
      ]
    },
    {
      "cell_type": "code",
      "source": [
        "import numpy as np\n",
        "import matplotlib.pyplot as plt\n",
        "\n",
        "losses = []\n",
        "grads_visualization = []\n",
        "zs = []\n",
        "\n",
        "for i in range(epochs):\n",
        "    # Transforma a entrada para uma dimensão\n",
        "    inputs = Variable(x_train.view(-1, 28 * 28))\n",
        "    # Predict da rede\n",
        "    outputs = model(inputs)\n",
        "\n",
        "    # z0 a z9\n",
        "    zs.append(outputs[1].detach().numpy())\n",
        "\n",
        "    # calcula a perda\n",
        "    loss = criterion(outputs, Variable(y_train))\n",
        "\n",
        "    # zero, backpropagation, ajusta parâmetros pelo gradiente descendente\n",
        "    optimizer.zero_grad()\n",
        "    loss.backward()\n",
        "    optimizer.step()\n",
        "\n",
        "    losses.append(loss.item())\n",
        "\n",
        "    # Acessa os gradientes referentes à classe do dígito 4\n",
        "    gradients_4 = model.weight.grad[:, 4].detach().numpy()\n",
        "    #grads_visualization.append(gradients_4)\n",
        "\n",
        "    _, predicts = torch.max(outputs, 1)\n",
        "\n",
        "    y_pred = predicts.data\n",
        "    accuracy = (y_pred.numpy() == y_train.numpy()).mean()\n",
        "    print(f\"Epoch {i+1}: Loss {loss.item()}, Accuracy {accuracy}, Gradiente do digito 4 {gradients_4}\")\n",
        "\n"
      ],
      "metadata": {
        "colab": {
          "base_uri": "https://localhost:8080/"
        },
        "collapsed": true,
        "id": "uk32Eb8e_L2R",
        "outputId": "0d87d376-e42c-416d-c7d0-08a7480ecf7f"
      },
      "execution_count": 68,
      "outputs": [
        {
          "output_type": "stream",
          "name": "stdout",
          "text": [
            "Epoch 1: Loss 2.313758611679077, Accuracy 0.1, Gradiente do digito 4 [0. 0. 0. 0. 0. 0. 0. 0. 0. 0.]\n",
            "Epoch 2: Loss 1.8119193315505981, Accuracy 0.599, Gradiente do digito 4 [0. 0. 0. 0. 0. 0. 0. 0. 0. 0.]\n",
            "Epoch 3: Loss 1.478383183479309, Accuracy 0.763, Gradiente do digito 4 [0. 0. 0. 0. 0. 0. 0. 0. 0. 0.]\n",
            "Epoch 4: Loss 1.2544828653335571, Accuracy 0.769, Gradiente do digito 4 [0. 0. 0. 0. 0. 0. 0. 0. 0. 0.]\n",
            "Epoch 5: Loss 1.102288842201233, Accuracy 0.815, Gradiente do digito 4 [0. 0. 0. 0. 0. 0. 0. 0. 0. 0.]\n",
            "Epoch 6: Loss 0.99147629737854, Accuracy 0.819, Gradiente do digito 4 [0. 0. 0. 0. 0. 0. 0. 0. 0. 0.]\n",
            "Epoch 7: Loss 0.9098150134086609, Accuracy 0.835, Gradiente do digito 4 [0. 0. 0. 0. 0. 0. 0. 0. 0. 0.]\n",
            "Epoch 8: Loss 0.846831738948822, Accuracy 0.838, Gradiente do digito 4 [0. 0. 0. 0. 0. 0. 0. 0. 0. 0.]\n",
            "Epoch 9: Loss 0.7964933514595032, Accuracy 0.85, Gradiente do digito 4 [0. 0. 0. 0. 0. 0. 0. 0. 0. 0.]\n",
            "Epoch 10: Loss 0.7550640106201172, Accuracy 0.855, Gradiente do digito 4 [0. 0. 0. 0. 0. 0. 0. 0. 0. 0.]\n",
            "Epoch 11: Loss 0.7201976776123047, Accuracy 0.862, Gradiente do digito 4 [0. 0. 0. 0. 0. 0. 0. 0. 0. 0.]\n",
            "Epoch 12: Loss 0.6903338432312012, Accuracy 0.865, Gradiente do digito 4 [0. 0. 0. 0. 0. 0. 0. 0. 0. 0.]\n",
            "Epoch 13: Loss 0.6643821597099304, Accuracy 0.869, Gradiente do digito 4 [0. 0. 0. 0. 0. 0. 0. 0. 0. 0.]\n",
            "Epoch 14: Loss 0.6415541768074036, Accuracy 0.869, Gradiente do digito 4 [0. 0. 0. 0. 0. 0. 0. 0. 0. 0.]\n",
            "Epoch 15: Loss 0.6212648749351501, Accuracy 0.872, Gradiente do digito 4 [0. 0. 0. 0. 0. 0. 0. 0. 0. 0.]\n",
            "Epoch 16: Loss 0.6030700206756592, Accuracy 0.874, Gradiente do digito 4 [0. 0. 0. 0. 0. 0. 0. 0. 0. 0.]\n",
            "Epoch 17: Loss 0.5866260528564453, Accuracy 0.876, Gradiente do digito 4 [0. 0. 0. 0. 0. 0. 0. 0. 0. 0.]\n",
            "Epoch 18: Loss 0.5716632008552551, Accuracy 0.88, Gradiente do digito 4 [0. 0. 0. 0. 0. 0. 0. 0. 0. 0.]\n",
            "Epoch 19: Loss 0.5579658150672913, Accuracy 0.882, Gradiente do digito 4 [0. 0. 0. 0. 0. 0. 0. 0. 0. 0.]\n",
            "Epoch 20: Loss 0.5453597903251648, Accuracy 0.882, Gradiente do digito 4 [0. 0. 0. 0. 0. 0. 0. 0. 0. 0.]\n",
            "Epoch 21: Loss 0.5337024927139282, Accuracy 0.884, Gradiente do digito 4 [0. 0. 0. 0. 0. 0. 0. 0. 0. 0.]\n",
            "Epoch 22: Loss 0.5228761434555054, Accuracy 0.885, Gradiente do digito 4 [0. 0. 0. 0. 0. 0. 0. 0. 0. 0.]\n",
            "Epoch 23: Loss 0.5127822756767273, Accuracy 0.888, Gradiente do digito 4 [0. 0. 0. 0. 0. 0. 0. 0. 0. 0.]\n",
            "Epoch 24: Loss 0.5033382773399353, Accuracy 0.889, Gradiente do digito 4 [0. 0. 0. 0. 0. 0. 0. 0. 0. 0.]\n",
            "Epoch 25: Loss 0.49447375535964966, Accuracy 0.892, Gradiente do digito 4 [0. 0. 0. 0. 0. 0. 0. 0. 0. 0.]\n",
            "Epoch 26: Loss 0.48612868785858154, Accuracy 0.893, Gradiente do digito 4 [0. 0. 0. 0. 0. 0. 0. 0. 0. 0.]\n",
            "Epoch 27: Loss 0.4782513678073883, Accuracy 0.897, Gradiente do digito 4 [0. 0. 0. 0. 0. 0. 0. 0. 0. 0.]\n",
            "Epoch 28: Loss 0.4707970917224884, Accuracy 0.899, Gradiente do digito 4 [0. 0. 0. 0. 0. 0. 0. 0. 0. 0.]\n",
            "Epoch 29: Loss 0.4637269377708435, Accuracy 0.899, Gradiente do digito 4 [0. 0. 0. 0. 0. 0. 0. 0. 0. 0.]\n",
            "Epoch 30: Loss 0.4570067822933197, Accuracy 0.9, Gradiente do digito 4 [0. 0. 0. 0. 0. 0. 0. 0. 0. 0.]\n",
            "Epoch 31: Loss 0.4506065547466278, Accuracy 0.9, Gradiente do digito 4 [0. 0. 0. 0. 0. 0. 0. 0. 0. 0.]\n",
            "Epoch 32: Loss 0.4444999396800995, Accuracy 0.901, Gradiente do digito 4 [0. 0. 0. 0. 0. 0. 0. 0. 0. 0.]\n",
            "Epoch 33: Loss 0.4386633634567261, Accuracy 0.902, Gradiente do digito 4 [0. 0. 0. 0. 0. 0. 0. 0. 0. 0.]\n",
            "Epoch 34: Loss 0.4330759048461914, Accuracy 0.903, Gradiente do digito 4 [0. 0. 0. 0. 0. 0. 0. 0. 0. 0.]\n",
            "Epoch 35: Loss 0.4277189075946808, Accuracy 0.905, Gradiente do digito 4 [0. 0. 0. 0. 0. 0. 0. 0. 0. 0.]\n",
            "Epoch 36: Loss 0.42257556319236755, Accuracy 0.906, Gradiente do digito 4 [0. 0. 0. 0. 0. 0. 0. 0. 0. 0.]\n",
            "Epoch 37: Loss 0.41763076186180115, Accuracy 0.908, Gradiente do digito 4 [0. 0. 0. 0. 0. 0. 0. 0. 0. 0.]\n",
            "Epoch 38: Loss 0.4128708839416504, Accuracy 0.908, Gradiente do digito 4 [0. 0. 0. 0. 0. 0. 0. 0. 0. 0.]\n",
            "Epoch 39: Loss 0.4082835912704468, Accuracy 0.91, Gradiente do digito 4 [0. 0. 0. 0. 0. 0. 0. 0. 0. 0.]\n",
            "Epoch 40: Loss 0.40385767817497253, Accuracy 0.91, Gradiente do digito 4 [0. 0. 0. 0. 0. 0. 0. 0. 0. 0.]\n",
            "Epoch 41: Loss 0.39958295226097107, Accuracy 0.912, Gradiente do digito 4 [0. 0. 0. 0. 0. 0. 0. 0. 0. 0.]\n",
            "Epoch 42: Loss 0.39545005559921265, Accuracy 0.913, Gradiente do digito 4 [0. 0. 0. 0. 0. 0. 0. 0. 0. 0.]\n",
            "Epoch 43: Loss 0.39145055413246155, Accuracy 0.913, Gradiente do digito 4 [0. 0. 0. 0. 0. 0. 0. 0. 0. 0.]\n",
            "Epoch 44: Loss 0.3875766396522522, Accuracy 0.913, Gradiente do digito 4 [0. 0. 0. 0. 0. 0. 0. 0. 0. 0.]\n",
            "Epoch 45: Loss 0.3838210701942444, Accuracy 0.915, Gradiente do digito 4 [0. 0. 0. 0. 0. 0. 0. 0. 0. 0.]\n",
            "Epoch 46: Loss 0.3801772892475128, Accuracy 0.915, Gradiente do digito 4 [0. 0. 0. 0. 0. 0. 0. 0. 0. 0.]\n",
            "Epoch 47: Loss 0.3766392767429352, Accuracy 0.915, Gradiente do digito 4 [0. 0. 0. 0. 0. 0. 0. 0. 0. 0.]\n",
            "Epoch 48: Loss 0.37320131063461304, Accuracy 0.916, Gradiente do digito 4 [0. 0. 0. 0. 0. 0. 0. 0. 0. 0.]\n",
            "Epoch 49: Loss 0.3698582053184509, Accuracy 0.918, Gradiente do digito 4 [0. 0. 0. 0. 0. 0. 0. 0. 0. 0.]\n",
            "Epoch 50: Loss 0.3666052222251892, Accuracy 0.92, Gradiente do digito 4 [0. 0. 0. 0. 0. 0. 0. 0. 0. 0.]\n",
            "Epoch 51: Loss 0.36343783140182495, Accuracy 0.92, Gradiente do digito 4 [0. 0. 0. 0. 0. 0. 0. 0. 0. 0.]\n",
            "Epoch 52: Loss 0.3603518307209015, Accuracy 0.921, Gradiente do digito 4 [0. 0. 0. 0. 0. 0. 0. 0. 0. 0.]\n",
            "Epoch 53: Loss 0.3573434054851532, Accuracy 0.921, Gradiente do digito 4 [0. 0. 0. 0. 0. 0. 0. 0. 0. 0.]\n",
            "Epoch 54: Loss 0.3544089198112488, Accuracy 0.921, Gradiente do digito 4 [0. 0. 0. 0. 0. 0. 0. 0. 0. 0.]\n",
            "Epoch 55: Loss 0.35154491662979126, Accuracy 0.922, Gradiente do digito 4 [0. 0. 0. 0. 0. 0. 0. 0. 0. 0.]\n",
            "Epoch 56: Loss 0.3487482964992523, Accuracy 0.922, Gradiente do digito 4 [0. 0. 0. 0. 0. 0. 0. 0. 0. 0.]\n",
            "Epoch 57: Loss 0.34601616859436035, Accuracy 0.923, Gradiente do digito 4 [0. 0. 0. 0. 0. 0. 0. 0. 0. 0.]\n",
            "Epoch 58: Loss 0.3433457016944885, Accuracy 0.924, Gradiente do digito 4 [0. 0. 0. 0. 0. 0. 0. 0. 0. 0.]\n",
            "Epoch 59: Loss 0.34073421359062195, Accuracy 0.923, Gradiente do digito 4 [0. 0. 0. 0. 0. 0. 0. 0. 0. 0.]\n",
            "Epoch 60: Loss 0.33817940950393677, Accuracy 0.924, Gradiente do digito 4 [0. 0. 0. 0. 0. 0. 0. 0. 0. 0.]\n",
            "Epoch 61: Loss 0.3356788158416748, Accuracy 0.924, Gradiente do digito 4 [0. 0. 0. 0. 0. 0. 0. 0. 0. 0.]\n",
            "Epoch 62: Loss 0.3332304060459137, Accuracy 0.924, Gradiente do digito 4 [0. 0. 0. 0. 0. 0. 0. 0. 0. 0.]\n",
            "Epoch 63: Loss 0.3308320939540863, Accuracy 0.924, Gradiente do digito 4 [0. 0. 0. 0. 0. 0. 0. 0. 0. 0.]\n",
            "Epoch 64: Loss 0.3284819424152374, Accuracy 0.924, Gradiente do digito 4 [0. 0. 0. 0. 0. 0. 0. 0. 0. 0.]\n",
            "Epoch 65: Loss 0.32617810368537903, Accuracy 0.924, Gradiente do digito 4 [0. 0. 0. 0. 0. 0. 0. 0. 0. 0.]\n",
            "Epoch 66: Loss 0.323918879032135, Accuracy 0.925, Gradiente do digito 4 [0. 0. 0. 0. 0. 0. 0. 0. 0. 0.]\n",
            "Epoch 67: Loss 0.32170259952545166, Accuracy 0.925, Gradiente do digito 4 [0. 0. 0. 0. 0. 0. 0. 0. 0. 0.]\n",
            "Epoch 68: Loss 0.319527804851532, Accuracy 0.926, Gradiente do digito 4 [0. 0. 0. 0. 0. 0. 0. 0. 0. 0.]\n",
            "Epoch 69: Loss 0.3173929750919342, Accuracy 0.926, Gradiente do digito 4 [0. 0. 0. 0. 0. 0. 0. 0. 0. 0.]\n",
            "Epoch 70: Loss 0.3152967095375061, Accuracy 0.926, Gradiente do digito 4 [0. 0. 0. 0. 0. 0. 0. 0. 0. 0.]\n",
            "Epoch 71: Loss 0.3132377564907074, Accuracy 0.926, Gradiente do digito 4 [0. 0. 0. 0. 0. 0. 0. 0. 0. 0.]\n",
            "Epoch 72: Loss 0.31121474504470825, Accuracy 0.926, Gradiente do digito 4 [0. 0. 0. 0. 0. 0. 0. 0. 0. 0.]\n",
            "Epoch 73: Loss 0.3092266023159027, Accuracy 0.927, Gradiente do digito 4 [0. 0. 0. 0. 0. 0. 0. 0. 0. 0.]\n",
            "Epoch 74: Loss 0.30727219581604004, Accuracy 0.928, Gradiente do digito 4 [0. 0. 0. 0. 0. 0. 0. 0. 0. 0.]\n",
            "Epoch 75: Loss 0.30535024404525757, Accuracy 0.929, Gradiente do digito 4 [0. 0. 0. 0. 0. 0. 0. 0. 0. 0.]\n",
            "Epoch 76: Loss 0.3034600019454956, Accuracy 0.931, Gradiente do digito 4 [0. 0. 0. 0. 0. 0. 0. 0. 0. 0.]\n",
            "Epoch 77: Loss 0.30160030722618103, Accuracy 0.933, Gradiente do digito 4 [0. 0. 0. 0. 0. 0. 0. 0. 0. 0.]\n",
            "Epoch 78: Loss 0.2997702658176422, Accuracy 0.933, Gradiente do digito 4 [0. 0. 0. 0. 0. 0. 0. 0. 0. 0.]\n",
            "Epoch 79: Loss 0.2979689836502075, Accuracy 0.934, Gradiente do digito 4 [0. 0. 0. 0. 0. 0. 0. 0. 0. 0.]\n",
            "Epoch 80: Loss 0.2961956262588501, Accuracy 0.934, Gradiente do digito 4 [0. 0. 0. 0. 0. 0. 0. 0. 0. 0.]\n",
            "Epoch 81: Loss 0.2944492995738983, Accuracy 0.934, Gradiente do digito 4 [0. 0. 0. 0. 0. 0. 0. 0. 0. 0.]\n",
            "Epoch 82: Loss 0.29272934794425964, Accuracy 0.934, Gradiente do digito 4 [0. 0. 0. 0. 0. 0. 0. 0. 0. 0.]\n",
            "Epoch 83: Loss 0.29103484749794006, Accuracy 0.934, Gradiente do digito 4 [0. 0. 0. 0. 0. 0. 0. 0. 0. 0.]\n",
            "Epoch 84: Loss 0.289365291595459, Accuracy 0.935, Gradiente do digito 4 [0. 0. 0. 0. 0. 0. 0. 0. 0. 0.]\n",
            "Epoch 85: Loss 0.28771981596946716, Accuracy 0.935, Gradiente do digito 4 [0. 0. 0. 0. 0. 0. 0. 0. 0. 0.]\n",
            "Epoch 86: Loss 0.28609779477119446, Accuracy 0.936, Gradiente do digito 4 [0. 0. 0. 0. 0. 0. 0. 0. 0. 0.]\n",
            "Epoch 87: Loss 0.2844987213611603, Accuracy 0.937, Gradiente do digito 4 [0. 0. 0. 0. 0. 0. 0. 0. 0. 0.]\n",
            "Epoch 88: Loss 0.2829218804836273, Accuracy 0.937, Gradiente do digito 4 [0. 0. 0. 0. 0. 0. 0. 0. 0. 0.]\n",
            "Epoch 89: Loss 0.28136661648750305, Accuracy 0.937, Gradiente do digito 4 [0. 0. 0. 0. 0. 0. 0. 0. 0. 0.]\n",
            "Epoch 90: Loss 0.27983251214027405, Accuracy 0.937, Gradiente do digito 4 [0. 0. 0. 0. 0. 0. 0. 0. 0. 0.]\n",
            "Epoch 91: Loss 0.27831894159317017, Accuracy 0.937, Gradiente do digito 4 [0. 0. 0. 0. 0. 0. 0. 0. 0. 0.]\n",
            "Epoch 92: Loss 0.2768254280090332, Accuracy 0.937, Gradiente do digito 4 [0. 0. 0. 0. 0. 0. 0. 0. 0. 0.]\n",
            "Epoch 93: Loss 0.2753514349460602, Accuracy 0.937, Gradiente do digito 4 [0. 0. 0. 0. 0. 0. 0. 0. 0. 0.]\n",
            "Epoch 94: Loss 0.27389654517173767, Accuracy 0.938, Gradiente do digito 4 [0. 0. 0. 0. 0. 0. 0. 0. 0. 0.]\n",
            "Epoch 95: Loss 0.2724602222442627, Accuracy 0.938, Gradiente do digito 4 [0. 0. 0. 0. 0. 0. 0. 0. 0. 0.]\n",
            "Epoch 96: Loss 0.2710421085357666, Accuracy 0.938, Gradiente do digito 4 [0. 0. 0. 0. 0. 0. 0. 0. 0. 0.]\n",
            "Epoch 97: Loss 0.269641637802124, Accuracy 0.938, Gradiente do digito 4 [0. 0. 0. 0. 0. 0. 0. 0. 0. 0.]\n",
            "Epoch 98: Loss 0.2682585120201111, Accuracy 0.939, Gradiente do digito 4 [0. 0. 0. 0. 0. 0. 0. 0. 0. 0.]\n",
            "Epoch 99: Loss 0.26689228415489197, Accuracy 0.939, Gradiente do digito 4 [0. 0. 0. 0. 0. 0. 0. 0. 0. 0.]\n",
            "Epoch 100: Loss 0.26554250717163086, Accuracy 0.94, Gradiente do digito 4 [0. 0. 0. 0. 0. 0. 0. 0. 0. 0.]\n"
          ]
        }
      ]
    },
    {
      "cell_type": "markdown",
      "source": [],
      "metadata": {
        "id": "R2RVyhLtAWw9"
      }
    },
    {
      "cell_type": "markdown",
      "source": [
        "<details>\n",
        "<summary>Mostrar Resultado</summary>\n",
        "\n",
        "```python\n",
        "losses = []\n",
        "import numpy\n",
        "\n",
        "import numpy\n",
        "zs = []\n",
        "\n",
        "for i in range(epochs):\n",
        "    # Transforma a entrada para uma dimensão\n",
        "    inputs = Variable(x_train.view(-1, 28 * 28))\n",
        "    # Predict da rede\n",
        "    outputs = model(inputs)\n",
        "    \n",
        "    # z0 a z9\n",
        "    zs.append(outputs[1].detach().numpy())\n",
        "\n",
        "    # calcula a perda\n",
        "    loss = criterion(outputs, Variable(y_train))\n",
        "\n",
        "    # zero, backpropagation, ajusta parâmetros pelo gradiente descendente\n",
        "    optimizer.zero_grad()\n",
        "    loss.backward()\n",
        "    optimizer.step()\n",
        "\n",
        "    losses.append(loss.item())\n",
        "    \n",
        "    _, predicts = torch.max(outputs, 1)\n",
        "    \n",
        "    y_pred = predicts.data\n",
        "    accuracy = (y_pred.numpy() == y_train.numpy()).mean()\n",
        "    \n",
        "    print('Epoch[{}/{}], loss: {:.6f}, acc: {:.6f}'\n",
        "              .format(i+1, epochs, loss.data, accuracy))\n",
        "    \n",
        "    weights = model.state_dict()['weight']\n",
        "    print('weights:', weights.shape)\n",
        "\n",
        "    bias = model.state_dict()['bias']\n",
        "    print('bias:   ', bias.shape)\n",
        "\n",
        "    # Visualizando pesos da classe 3\n",
        "    plt.imshow(weights[4, :].numpy().reshape((28,28)),cmap = 'gray')\n",
        "    plt.show()\n",
        "```\n",
        "\n",
        "</details>"
      ],
      "metadata": {
        "id": "28SnX4gHjeLj"
      }
    },
    {
      "cell_type": "markdown",
      "metadata": {
        "id": "yDhND6p3Ol4J"
      },
      "source": [
        "## Perguntas"
      ]
    },
    {
      "cell_type": "markdown",
      "metadata": {
        "id": "AXg8GBrsOl4L"
      },
      "source": [
        "1. Qual é o shape da matriz de entrada na rede?\n",
        "      Resposta: Amostras de treinamento: 1000,  Dimensões dos dados das imagens 28 x 28: torch.Size([1000 x 28 x 28])\n",
        "2. Qual é o shape da saída da rede?\n",
        "      Resposta: 1000 x 10\n",
        "      \n",
        "3. Qual é o número total de parâmetros da rede, incluindo o bias?\n",
        "      Resposta: 28 x 28 x 10 + 10 = 7850"
      ]
    },
    {
      "cell_type": "markdown",
      "metadata": {
        "id": "0aj1pg_ZOl4L"
      },
      "source": [
        "# Aprendizados\n",
        "\n",
        "Ao inserir o código no laço de treinamento para imprimir o número da época, a perda e a acurácia, obteve-se um resultado claro e organizado que permite monitorar o desempenho do modelo ao longo do treinamento. Isso é crucial para entender como o modelo está aprendendo e se está convergindo para uma solução satisfatória. Os resultados mostram uma diminuição consistente na perda e um aumento correspondente na acurácia, o que indica que o modelo está aprendendo e melhorando conforme mais épocas são executadas.\n",
        "\n",
        "Já ao inserir o código no laço de treinamento para visualização dos valores dos gradientes referentes à classe do dígito 4, não foram observadas mudanças nos valores dos gradientes ao longo do treinamento. Isso pode indicar que o modelo não está aprendendo adequadamente a distinguir a classe do dígito 4 dos outros dígitos durante o treinamento. Seria necessário investigar mais a fundo as razões por trás desse comportamento e possivelmente realizar ajustes no modelo ou na abordagem de treinamento para melhorar o aprendizado dessa classe específica.\n",
        "\n",
        "Em resumo, os resultados obtidos mostram que o modelo está aprendendo de maneira geral, conforme evidenciado pela redução na perda e aumento na acurácia ao longo das épocas. No entanto, a falta de mudanças nos gradientes referentes à classe do dígito 4 sugere que há espaço para melhorias na capacidade do modelo de aprender a distinguir essa classe específica.\n",
        "\n",
        "A matriz de entrada na rede possui o shape de 1000 amostras de treinamento, cada uma com dimensões de imagem de 28 x 28 pixels, resultando em uma dimensão total de torch.Size([1000 x 28 x 28]).\n",
        "\n",
        "A saída da rede tem um shape de 1000 x 10, o que significa que para cada uma das 1000 amostras de entrada, a rede produz uma saída com 10 valores, representando as probabilidades de pertencer a cada uma das 10 classes possíveis.\n",
        "\n",
        "O número total de parâmetros da rede, incluindo o bias, é calculado como o número de conexões entre as camadas mais o número de biases em cada camada. Neste caso, temos (28 x 28) x 10 + 10 = 7850 parâmetros.\n",
        "\n",
        "\n",
        "\n",
        "\n",
        "\n"
      ]
    }
  ],
  "metadata": {
    "accelerator": "TPU",
    "colab": {
      "provenance": [],
      "include_colab_link": true
    },
    "kernelspec": {
      "display_name": "Python 3.10.2 64-bit",
      "language": "python",
      "name": "python3"
    },
    "language_info": {
      "name": "python",
      "version": "3.10.2"
    },
    "vscode": {
      "interpreter": {
        "hash": "5fe3e6f0cdaab8afdc61c52912fda83f7c0a71baaea1897dd7498e2df01e69ec"
      }
    }
  },
  "nbformat": 4,
  "nbformat_minor": 0
}