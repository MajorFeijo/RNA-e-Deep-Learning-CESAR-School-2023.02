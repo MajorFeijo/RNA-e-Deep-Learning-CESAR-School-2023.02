{
  "cells": [
    {
      "cell_type": "markdown",
      "metadata": {
        "id": "view-in-github",
        "colab_type": "text"
      },
      "source": [
        "<a href=\"https://colab.research.google.com/github/MajorFeijo/RNA-e-Deep-Learning-CESAR-School-2023.02/blob/main/Atividade%20aula%203.5/3_5_LogisticRegressionMNIST_Iterativo.ipynb\" target=\"_parent\"><img src=\"https://colab.research.google.com/assets/colab-badge.svg\" alt=\"Open In Colab\"/></a>"
      ]
    },
    {
      "cell_type": "markdown",
      "metadata": {
        "id": "B3td_pl4mvQD"
      },
      "source": [
        "# Regressão Softmax com dados do MNIST"
      ]
    },
    {
      "cell_type": "markdown",
      "metadata": {
        "id": "DtkJT-FtmvQE"
      },
      "source": [
        "## Objetivo"
      ]
    },
    {
      "cell_type": "markdown",
      "metadata": {
        "id": "hF-ByQKJmvQF"
      },
      "source": [
        "O objetivo deste notebook é ilustrar o uso de praticamente a mesma rede desenvolvida para a classificação das flores Íris, porém agora com o problema de classificação de dígitos manuscritos utilizando o dataset MNIST.\n",
        "As principais diferenças são:\n",
        "- tipo do dado, agora imagem com muito atributos: 28 x 28 pixels\n",
        "- número de amostras, muito maior, 60 mil\n",
        "Neste exercício será possível a interpretação do significado dos parâmetros treinados"
      ]
    },
    {
      "cell_type": "markdown",
      "metadata": {
        "id": "HGsYwaRemvQH"
      },
      "source": [
        "## Importação das bibliotecas"
      ]
    },
    {
      "cell_type": "code",
      "execution_count": 21,
      "metadata": {
        "ExecuteTime": {
          "end_time": "2017-11-24T15:44:50.097111",
          "start_time": "2017-11-24T15:44:48.915046"
        },
        "id": "JeBH-PI4mvQI"
      },
      "outputs": [],
      "source": [
        "%matplotlib inline\n",
        "import numpy as np\n",
        "import matplotlib.pyplot as plt\n",
        "import pandas as pd\n",
        "\n",
        "from torch.autograd import Variable\n",
        "import torch\n",
        "import torchvision"
      ]
    },
    {
      "cell_type": "markdown",
      "metadata": {
        "id": "FLEq8nmUmvQL"
      },
      "source": [
        "## Carregamento dos dados do MNIST"
      ]
    },
    {
      "cell_type": "code",
      "execution_count": 2,
      "metadata": {
        "colab": {
          "base_uri": "https://localhost:8080/"
        },
        "id": "5ueXR4zIo5wQ",
        "outputId": "c52df6f6-c52f-4f70-ff29-61fe8c084c5a"
      },
      "outputs": [
        {
          "output_type": "stream",
          "name": "stdout",
          "text": [
            "Cloning into 'MNIST'...\n",
            "remote: Enumerating objects: 10, done.\u001b[K\n",
            "remote: Total 10 (delta 0), reused 0 (delta 0), pack-reused 10\u001b[K\n",
            "Receiving objects: 100% (10/10), 11.01 MiB | 15.15 MiB/s, done.\n",
            "Resolving deltas: 100% (2/2), done.\n"
          ]
        }
      ],
      "source": [
        "! git clone https://github.com/vcasadei/MNIST.git"
      ]
    },
    {
      "cell_type": "code",
      "execution_count": 3,
      "metadata": {
        "ExecuteTime": {
          "end_time": "2017-11-24T15:44:50.638218",
          "start_time": "2017-11-24T15:44:50.098808"
        },
        "colab": {
          "base_uri": "https://localhost:8080/"
        },
        "id": "xZWPIWlumvQM",
        "outputId": "ee9cbc5d-4fcc-423b-ff94-5273e6c0d792"
      },
      "outputs": [
        {
          "output_type": "stream",
          "name": "stdout",
          "text": [
            "Amostras de treinamento: 60000\n",
            "\n",
            "Dimensões dos dados das imagens:    torch.Size([60000, 28, 28])\n",
            "Valores mínimo e máximo dos pixels: tensor(0, dtype=torch.uint8) tensor(255, dtype=torch.uint8)\n",
            "Tipo dos dados das imagens:         <class 'torch.Tensor'>\n",
            "Tipo das classes das imagens:       <class 'torch.Tensor'>\n"
          ]
        }
      ],
      "source": [
        "dataset_dir = 'MNIST/'\n",
        "\n",
        "x_train, y_train = torch.load(dataset_dir + 'processed/training.pt')\n",
        "\n",
        "print(\"Amostras de treinamento:\", x_train.size(0))\n",
        "\n",
        "print(\"\\nDimensões dos dados das imagens:   \", x_train.size())\n",
        "print(\"Valores mínimo e máximo dos pixels:\", torch.min(x_train), torch.max(x_train))\n",
        "print(\"Tipo dos dados das imagens:        \", type(x_train))\n",
        "print(\"Tipo das classes das imagens:      \", type(y_train))"
      ]
    },
    {
      "cell_type": "markdown",
      "metadata": {
        "id": "uR2L0QQgmvQU"
      },
      "source": [
        "### Carregamento, normalização e seleção dos dados do MNIST\n",
        "\n",
        "Neste exemplo utilizaremos apenas 1000 amostras de treinamento."
      ]
    },
    {
      "cell_type": "code",
      "execution_count": 4,
      "metadata": {
        "ExecuteTime": {
          "end_time": "2017-11-24T15:44:50.895668",
          "start_time": "2017-11-24T15:44:50.640110"
        },
        "colab": {
          "base_uri": "https://localhost:8080/"
        },
        "id": "C9Rh7wRemvQU",
        "outputId": "c5306842-94c5-44cf-ee4a-d73b68d24c0f"
      },
      "outputs": [
        {
          "output_type": "stream",
          "name": "stdout",
          "text": [
            "Amostras de treinamento: 1000\n",
            "\n",
            "Dimensões dos dados das imagens:    torch.Size([1000, 28, 28])\n",
            "Valores mínimo e máximo dos pixels: tensor(0.) tensor(1.)\n",
            "Tipo dos dados das imagens:         <class 'torch.Tensor'>\n",
            "Tipo das classes das imagens:       <class 'torch.Tensor'>\n"
          ]
        }
      ],
      "source": [
        "x_train = x_train.float()\n",
        "\n",
        "x_train = x_train / 255.\n",
        "\n",
        "if True:\n",
        "    n_samples_train = 1000\n",
        "\n",
        "    x_train = x_train[:n_samples_train]\n",
        "    y_train = y_train[:n_samples_train]\n",
        "\n",
        "print(\"Amostras de treinamento:\", x_train.size(0))\n",
        "\n",
        "print(\"\\nDimensões dos dados das imagens:   \", x_train.size())\n",
        "print(\"Valores mínimo e máximo dos pixels:\", torch.min(x_train), torch.max(x_train))\n",
        "print(\"Tipo dos dados das imagens:        \", type(x_train))\n",
        "print(\"Tipo das classes das imagens:      \", type(y_train))"
      ]
    },
    {
      "cell_type": "markdown",
      "metadata": {
        "id": "6UtzmsQimvQa"
      },
      "source": [
        "### Visualizando os dados"
      ]
    },
    {
      "cell_type": "code",
      "execution_count": 16,
      "metadata": {
        "ExecuteTime": {
          "end_time": "2017-11-24T16:32:19.474568",
          "start_time": "2017-11-24T16:32:19.207270"
        },
        "colab": {
          "base_uri": "https://localhost:8080/",
          "height": 451
        },
        "id": "gFG0qpODmvQa",
        "outputId": "a992ced1-ed61-4f89-841f-70378ef888ff"
      },
      "outputs": [
        {
          "output_type": "execute_result",
          "data": {
            "text/plain": [
              "(-0.5, 87.5, 29.5, -0.5)"
            ]
          },
          "metadata": {},
          "execution_count": 16
        },
        {
          "output_type": "display_data",
          "data": {
            "text/plain": [
              "<Figure size 1500x1000 with 1 Axes>"
            ],
            "image/png": "[encoded data removed]"
          },
          "metadata": {}
        }
      ],
      "source": [
        "n_samples = 3\n",
        "\n",
        "# cria um grid com as imagens\n",
        "grid = torchvision.utils.make_grid(x_train[:n_samples].unsqueeze(1), pad_value=1.0, padding=1)\n",
        "\n",
        "plt.figure(figsize=(15, 10))\n",
        "plt.imshow(grid.numpy().transpose(1, 2, 0))\n",
        "plt.axis('off')"
      ]
    },
    {
      "cell_type": "markdown",
      "metadata": {
        "id": "075sVFBZmvQe"
      },
      "source": [
        "### Visualizando uma imagem com o matplotlib"
      ]
    },
    {
      "cell_type": "code",
      "execution_count": 13,
      "metadata": {
        "ExecuteTime": {
          "end_time": "2017-11-24T15:44:51.413232",
          "start_time": "2017-11-24T15:44:51.251376"
        },
        "colab": {
          "base_uri": "https://localhost:8080/",
          "height": 448
        },
        "id": "3W2NpeW0mvQg",
        "outputId": "fc029109-f600-4531-c4ef-77d205f652c2"
      },
      "outputs": [
        {
          "output_type": "stream",
          "name": "stdout",
          "text": [
            "class: tensor(5)\n"
          ]
        },
        {
          "output_type": "display_data",
          "data": {
            "text/plain": [
              "<Figure size 640x480 with 1 Axes>"
            ],
            "image/png": "[encoded data removed]"
          },
          "metadata": {}
        }
      ],
      "source": [
        "image  = x_train[0]\n",
        "target = y_train[0]\n",
        "\n",
        "plt.imshow(image.numpy().reshape(28,28), cmap='gray')\n",
        "print('class:', target)"
      ]
    },
    {
      "cell_type": "markdown",
      "metadata": {
        "id": "SU-PzteEmvQj"
      },
      "source": [
        "## Modelo"
      ]
    },
    {
      "cell_type": "code",
      "execution_count": 14,
      "metadata": {
        "ExecuteTime": {
          "end_time": "2017-11-24T15:44:51.419287",
          "start_time": "2017-11-24T15:44:51.415065"
        },
        "id": "VKMngBWzmvQk"
      },
      "outputs": [],
      "source": [
        "model = torch.nn.Linear(28*28, 10) # 28*28 atributos de entrada e 10 neurônios na sáida"
      ]
    },
    {
      "cell_type": "markdown",
      "metadata": {
        "id": "uzvpr1u6mvQo"
      },
      "source": [
        "### Testando um predict com poucas amostras"
      ]
    },
    {
      "cell_type": "code",
      "execution_count": 18,
      "metadata": {
        "id": "KiiO8WDAmvQq",
        "colab": {
          "base_uri": "https://localhost:8080/"
        },
        "outputId": "2bda7c35-6f09-4a39-c653-0064726c9592"
      },
      "outputs": [
        {
          "output_type": "stream",
          "name": "stdout",
          "text": [
            "torch.Size([3, 784])\n"
          ]
        },
        {
          "output_type": "execute_result",
          "data": {
            "text/plain": [
              "tensor([[ 0.3151, -0.1119, -0.0248, -0.2244, -0.2147, -0.0025,  0.4000, -0.1850,\n",
              "         -0.0232, -0.0494],\n",
              "        [ 0.1324, -0.1821,  0.1383, -0.0885, -0.4911, -0.1392,  0.5315, -0.0320,\n",
              "          0.0167,  0.0194],\n",
              "        [ 0.2690, -0.1721, -0.1309, -0.1787, -0.1616, -0.0732,  0.4649, -0.0618,\n",
              "          0.0436,  0.2316]], grad_fn=<AddmmBackward0>)"
            ]
          },
          "metadata": {},
          "execution_count": 18
        }
      ],
      "source": [
        "## TODO\n",
        "# Fazer previsões com o modelo não treinado em todo o conjunto de dados de treino reduzido\n",
        "x = x_train[:n_samples].view(-1, 28*28)\n",
        "print(x.shape)\n",
        "predict = model(x)\n",
        "predict"
      ]
    },
    {
      "cell_type": "markdown",
      "metadata": {
        "id": "tIIeicyGmvQs"
      },
      "source": [
        "## Treinamento"
      ]
    },
    {
      "cell_type": "markdown",
      "metadata": {
        "id": "tSfqKNW2mvQt"
      },
      "source": [
        "### Inicialização dos parâmetros"
      ]
    },
    {
      "cell_type": "code",
      "execution_count": 19,
      "metadata": {
        "ExecuteTime": {
          "end_time": "2017-11-24T15:44:51.425768",
          "start_time": "2017-11-24T15:44:51.420825"
        },
        "id": "I9W3OFvomvQu"
      },
      "outputs": [],
      "source": [
        "epochs = 5\n",
        "learningRate = 0.5\n",
        "\n",
        "# Utilizaremos CrossEntropyLoss como função de perda\n",
        "criterion = torch.nn.CrossEntropyLoss()\n",
        "\n",
        "# Gradiente descendente\n",
        "optimizer = torch.optim.SGD(model.parameters(), lr=learningRate)"
      ]
    },
    {
      "cell_type": "markdown",
      "metadata": {
        "id": "hlNgV_pgmvQx"
      },
      "source": [
        "### Visualização do grafo computacional da perda (loss)"
      ]
    },
    {
      "cell_type": "code",
      "execution_count": null,
      "metadata": {
        "colab": {
          "base_uri": "https://localhost:8080/"
        },
        "id": "5ycGDyoWjMoR",
        "outputId": "6c5ac44a-c537-4d23-bd17-e3831e3dc14b"
      },
      "outputs": [
        {
          "output_type": "stream",
          "name": "stdout",
          "text": [
            "Requirement already satisfied: graphviz in /usr/local/lib/python3.10/dist-packages (0.20.3)\n",
            "Collecting git+https://github.com/szagoruyko/pytorchviz\n",
            "  Cloning https://github.com/szagoruyko/pytorchviz to /tmp/pip-req-build-anty6mdw\n",
            "  Running command git clone --filter=blob:none --quiet https://github.com/szagoruyko/pytorchviz /tmp/pip-req-build-anty6mdw\n",
            "  Resolved https://github.com/szagoruyko/pytorchviz to commit 0adcd83af8aa7ab36d6afd139cabbd9df598edb7\n",
            "  Preparing metadata (setup.py) ... \u001b[?25l\u001b[?25hdone\n",
            "Requirement already satisfied: torch in /usr/local/lib/python3.10/dist-packages (from torchviz==0.0.2) (2.3.0+cu121)\n",
            "Requirement already satisfied: graphviz in /usr/local/lib/python3.10/dist-packages (from torchviz==0.0.2) (0.20.3)\n",
            "Requirement already satisfied: filelock in /usr/local/lib/python3.10/dist-packages (from torch->torchviz==0.0.2) (3.14.0)\n",
            "Requirement already satisfied: typing-extensions>=4.8.0 in /usr/local/lib/python3.10/dist-packages (from torch->torchviz==0.0.2) (4.12.1)\n",
            "Requirement already satisfied: sympy in /usr/local/lib/python3.10/dist-packages (from torch->torchviz==0.0.2) (1.12.1)\n",
            "Requirement already satisfied: networkx in /usr/local/lib/python3.10/dist-packages (from torch->torchviz==0.0.2) (3.3)\n",
            "Requirement already satisfied: jinja2 in /usr/local/lib/python3.10/dist-packages (from torch->torchviz==0.0.2) (3.1.4)\n",
            "Requirement already satisfied: fsspec in /usr/local/lib/python3.10/dist-packages (from torch->torchviz==0.0.2) (2023.6.0)\n",
            "Collecting nvidia-cuda-nvrtc-cu12==12.1.105 (from torch->torchviz==0.0.2)\n",
            "  Using cached nvidia_cuda_nvrtc_cu12-12.1.105-py3-none-manylinux1_x86_64.whl (23.7 MB)\n",
            "Collecting nvidia-cuda-runtime-cu12==12.1.105 (from torch->torchviz==0.0.2)\n",
            "  Using cached nvidia_cuda_runtime_cu12-12.1.105-py3-none-manylinux1_x86_64.whl (823 kB)\n",
            "Collecting nvidia-cuda-cupti-cu12==12.1.105 (from torch->torchviz==0.0.2)\n",
            "  Using cached nvidia_cuda_cupti_cu12-12.1.105-py3-none-manylinux1_x86_64.whl (14.1 MB)\n",
            "Collecting nvidia-cudnn-cu12==8.9.2.26 (from torch->torchviz==0.0.2)\n",
            "  Using cached nvidia_cudnn_cu12-8.9.2.26-py3-none-manylinux1_x86_64.whl (731.7 MB)\n",
            "Collecting nvidia-cublas-cu12==12.1.3.1 (from torch->torchviz==0.0.2)\n",
            "  Using cached nvidia_cublas_cu12-12.1.3.1-py3-none-manylinux1_x86_64.whl (410.6 MB)\n",
            "Collecting nvidia-cufft-cu12==11.0.2.54 (from torch->torchviz==0.0.2)\n",
            "  Using cached nvidia_cufft_cu12-11.0.2.54-py3-none-manylinux1_x86_64.whl (121.6 MB)\n",
            "Collecting nvidia-curand-cu12==10.3.2.106 (from torch->torchviz==0.0.2)\n",
            "  Using cached nvidia_curand_cu12-10.3.2.106-py3-none-manylinux1_x86_64.whl (56.5 MB)\n",
            "Collecting nvidia-cusolver-cu12==11.4.5.107 (from torch->torchviz==0.0.2)\n",
            "  Using cached nvidia_cusolver_cu12-11.4.5.107-py3-none-manylinux1_x86_64.whl (124.2 MB)\n",
            "Collecting nvidia-cusparse-cu12==12.1.0.106 (from torch->torchviz==0.0.2)\n",
            "  Using cached nvidia_cusparse_cu12-12.1.0.106-py3-none-manylinux1_x86_64.whl (196.0 MB)\n",
            "Collecting nvidia-nccl-cu12==2.20.5 (from torch->torchviz==0.0.2)\n",
            "  Using cached nvidia_nccl_cu12-2.20.5-py3-none-manylinux2014_x86_64.whl (176.2 MB)\n",
            "Collecting nvidia-nvtx-cu12==12.1.105 (from torch->torchviz==0.0.2)\n",
            "  Using cached nvidia_nvtx_cu12-12.1.105-py3-none-manylinux1_x86_64.whl (99 kB)\n",
            "Requirement already satisfied: triton==2.3.0 in /usr/local/lib/python3.10/dist-packages (from torch->torchviz==0.0.2) (2.3.0)\n",
            "Collecting nvidia-nvjitlink-cu12 (from nvidia-cusolver-cu12==11.4.5.107->torch->torchviz==0.0.2)\n",
            "  Downloading nvidia_nvjitlink_cu12-12.5.40-py3-none-manylinux2014_x86_64.whl (21.3 MB)\n",
            "\u001b[2K     \u001b[90m━━━━━━━━━━━━━━━━━━━━━━━━━━━━━━━━━━━━━━━━\u001b[0m \u001b[32m21.3/21.3 MB\u001b[0m \u001b[31m45.7 MB/s\u001b[0m eta \u001b[36m0:00:00\u001b[0m\n",
            "\u001b[?25hRequirement already satisfied: MarkupSafe>=2.0 in /usr/local/lib/python3.10/dist-packages (from jinja2->torch->torchviz==0.0.2) (2.1.5)\n",
            "Requirement already satisfied: mpmath<1.4.0,>=1.1.0 in /usr/local/lib/python3.10/dist-packages (from sympy->torch->torchviz==0.0.2) (1.3.0)\n",
            "Building wheels for collected packages: torchviz\n",
            "  Building wheel for torchviz (setup.py) ... \u001b[?25l\u001b[?25hdone\n",
            "  Created wheel for torchviz: filename=torchviz-0.0.2-py3-none-any.whl size=4972 sha256=6f1cf77e4fb5310448899981e37054c7917314b2b6e10c76b14f6ecb6c2cae4e\n",
            "  Stored in directory: /tmp/pip-ephem-wheel-cache-92c2dos2/wheels/44/5a/39/48c1209682afcfc7ad8ae7b3cf7aa0ff08a72e3ac4e5931f1d\n",
            "Successfully built torchviz\n",
            "Installing collected packages: nvidia-nvtx-cu12, nvidia-nvjitlink-cu12, nvidia-nccl-cu12, nvidia-curand-cu12, nvidia-cufft-cu12, nvidia-cuda-runtime-cu12, nvidia-cuda-nvrtc-cu12, nvidia-cuda-cupti-cu12, nvidia-cublas-cu12, nvidia-cusparse-cu12, nvidia-cudnn-cu12, nvidia-cusolver-cu12, torchviz\n"
          ]
        }
      ],
      "source": [
        "!pip install graphviz\n",
        "!pip install git+https://github.com/szagoruyko/pytorchviz"
      ]
    },
    {
      "cell_type": "code",
      "execution_count": 22,
      "metadata": {
        "ExecuteTime": {
          "end_time": "2017-11-24T16:28:18.101867",
          "start_time": "2017-11-24T16:28:18.062312"
        },
        "colab": {
          "base_uri": "https://localhost:8080/",
          "height": 542
        },
        "id": "oYPRIePImvQz",
        "outputId": "672cc592-508f-4c4b-c73d-14c99d95bd95"
      },
      "outputs": [
        {
          "output_type": "execute_result",
          "data": {
            "image/svg+xml": "<?xml version=\"1.0\" encoding=\"UTF-8\" standalone=\"no\"?>\n<!DOCTYPE svg PUBLIC \"-//W3C//DTD SVG 1.1//EN\"\n \"http://www.w3.org/Graphics/SVG/1.1/DTD/svg11.dtd\">\n<!-- Generated by graphviz version 2.43.0 (0)\n -->\n<!-- Title: %3 Pages: 1 -->\n<svg width=\"216pt\" height=\"391pt\"\n viewBox=\"0.00 0.00 216.00 391.00\" xmlns=\"http://www.w3.org/2000/svg\" xmlns:xlink=\"http://www.w3.org/1999/xlink\">\n<g id=\"graph0\" class=\"graph\" transform=\"scale(1 1) rotate(0) translate(4 387)\">\n<title>%3</title>\n<polygon fill=\"white\" stroke=\"transparent\" points=\"-4,4 -4,-387 212,-387 212,4 -4,4\"/>\n<!-- 138172741055360 -->\n<g id=\"node1\" class=\"node\">\n<title>138172741055360</title>\n<polygon fill=\"#caff70\" stroke=\"black\" points=\"130.5,-31 76.5,-31 76.5,0 130.5,0 130.5,-31\"/>\n<text text-anchor=\"middle\" x=\"103.5\" y=\"-7\" font-family=\"monospace\" font-size=\"10.00\"> ()</text>\n</g>\n<!-- 138176508474368 -->\n<g id=\"node2\" class=\"node\">\n<title>138176508474368</title>\n<polygon fill=\"lightgrey\" stroke=\"black\" points=\"160,-86 47,-86 47,-67 160,-67 160,-86\"/>\n<text text-anchor=\"middle\" x=\"103.5\" y=\"-74\" font-family=\"monospace\" font-size=\"10.00\">NllLossBackward0</text>\n</g>\n<!-- 138176508474368&#45;&gt;138172741055360 -->\n<g id=\"edge8\" class=\"edge\">\n<title>138176508474368&#45;&gt;138172741055360</title>\n<path fill=\"none\" stroke=\"black\" d=\"M103.5,-66.79C103.5,-60.07 103.5,-50.4 103.5,-41.34\"/>\n<polygon fill=\"black\" stroke=\"black\" points=\"107,-41.19 103.5,-31.19 100,-41.19 107,-41.19\"/>\n</g>\n<!-- 138176508473072 -->\n<g id=\"node3\" class=\"node\">\n<title>138176508473072</title>\n<polygon fill=\"lightgrey\" stroke=\"black\" points=\"169,-141 38,-141 38,-122 169,-122 169,-141\"/>\n<text text-anchor=\"middle\" x=\"103.5\" y=\"-129\" font-family=\"monospace\" font-size=\"10.00\">LogSoftmaxBackward0</text>\n</g>\n<!-- 138176508473072&#45;&gt;138176508474368 -->\n<g id=\"edge1\" class=\"edge\">\n<title>138176508473072&#45;&gt;138176508474368</title>\n<path fill=\"none\" stroke=\"black\" d=\"M103.5,-121.75C103.5,-114.8 103.5,-104.85 103.5,-96.13\"/>\n<polygon fill=\"black\" stroke=\"black\" points=\"107,-96.09 103.5,-86.09 100,-96.09 107,-96.09\"/>\n</g>\n<!-- 138176508470288 -->\n<g id=\"node4\" class=\"node\">\n<title>138176508470288</title>\n<polygon fill=\"lightgrey\" stroke=\"black\" points=\"154,-196 53,-196 53,-177 154,-177 154,-196\"/>\n<text text-anchor=\"middle\" x=\"103.5\" y=\"-184\" font-family=\"monospace\" font-size=\"10.00\">AddmmBackward0</text>\n</g>\n<!-- 138176508470288&#45;&gt;138176508473072 -->\n<g id=\"edge2\" class=\"edge\">\n<title>138176508470288&#45;&gt;138176508473072</title>\n<path fill=\"none\" stroke=\"black\" d=\"M103.5,-176.75C103.5,-169.8 103.5,-159.85 103.5,-151.13\"/>\n<polygon fill=\"black\" stroke=\"black\" points=\"107,-151.09 103.5,-141.09 100,-151.09 107,-151.09\"/>\n</g>\n<!-- 138176508472688 -->\n<g id=\"node5\" class=\"node\">\n<title>138176508472688</title>\n<polygon fill=\"lightgrey\" stroke=\"black\" points=\"101,-251 0,-251 0,-232 101,-232 101,-251\"/>\n<text text-anchor=\"middle\" x=\"50.5\" y=\"-239\" font-family=\"monospace\" font-size=\"10.00\">AccumulateGrad</text>\n</g>\n<!-- 138176508472688&#45;&gt;138176508470288 -->\n<g id=\"edge3\" class=\"edge\">\n<title>138176508472688&#45;&gt;138176508470288</title>\n<path fill=\"none\" stroke=\"black\" d=\"M59.25,-231.75C66.97,-224.03 78.4,-212.6 87.72,-203.28\"/>\n<polygon fill=\"black\" stroke=\"black\" points=\"90.31,-205.64 94.91,-196.09 85.36,-200.69 90.31,-205.64\"/>\n</g>\n<!-- 138172743516464 -->\n<g id=\"node6\" class=\"node\">\n<title>138172743516464</title>\n<polygon fill=\"lightblue\" stroke=\"black\" points=\"77.5,-317 23.5,-317 23.5,-287 77.5,-287 77.5,-317\"/>\n<text text-anchor=\"middle\" x=\"50.5\" y=\"-305\" font-family=\"monospace\" font-size=\"10.00\">bias</text>\n<text text-anchor=\"middle\" x=\"50.5\" y=\"-294\" font-family=\"monospace\" font-size=\"10.00\"> (10)</text>\n</g>\n<!-- 138172743516464&#45;&gt;138176508472688 -->\n<g id=\"edge4\" class=\"edge\">\n<title>138172743516464&#45;&gt;138176508472688</title>\n<path fill=\"none\" stroke=\"black\" d=\"M50.5,-286.84C50.5,-279.21 50.5,-269.7 50.5,-261.45\"/>\n<polygon fill=\"black\" stroke=\"black\" points=\"54,-261.27 50.5,-251.27 47,-261.27 54,-261.27\"/>\n</g>\n<!-- 138176508471200 -->\n<g id=\"node7\" class=\"node\">\n<title>138176508471200</title>\n<polygon fill=\"lightgrey\" stroke=\"black\" points=\"196,-251 119,-251 119,-232 196,-232 196,-251\"/>\n<text text-anchor=\"middle\" x=\"157.5\" y=\"-239\" font-family=\"monospace\" font-size=\"10.00\">TBackward0</text>\n</g>\n<!-- 138176508471200&#45;&gt;138176508470288 -->\n<g id=\"edge5\" class=\"edge\">\n<title>138176508471200&#45;&gt;138176508470288</title>\n<path fill=\"none\" stroke=\"black\" d=\"M148.58,-231.75C140.72,-224.03 129.07,-212.6 119.58,-203.28\"/>\n<polygon fill=\"black\" stroke=\"black\" points=\"121.84,-200.6 112.25,-196.09 116.94,-205.59 121.84,-200.6\"/>\n</g>\n<!-- 138172743170320 -->\n<g id=\"node8\" class=\"node\">\n<title>138172743170320</title>\n<polygon fill=\"lightgrey\" stroke=\"black\" points=\"208,-311.5 107,-311.5 107,-292.5 208,-292.5 208,-311.5\"/>\n<text text-anchor=\"middle\" x=\"157.5\" y=\"-299.5\" font-family=\"monospace\" font-size=\"10.00\">AccumulateGrad</text>\n</g>\n<!-- 138172743170320&#45;&gt;138176508471200 -->\n<g id=\"edge6\" class=\"edge\">\n<title>138172743170320&#45;&gt;138176508471200</title>\n<path fill=\"none\" stroke=\"black\" d=\"M157.5,-292.37C157.5,-284.25 157.5,-271.81 157.5,-261.39\"/>\n<polygon fill=\"black\" stroke=\"black\" points=\"161,-261.17 157.5,-251.17 154,-261.17 161,-261.17\"/>\n</g>\n<!-- 138172743531904 -->\n<g id=\"node9\" class=\"node\">\n<title>138172743531904</title>\n<polygon fill=\"lightblue\" stroke=\"black\" points=\"196,-383 119,-383 119,-353 196,-353 196,-383\"/>\n<text text-anchor=\"middle\" x=\"157.5\" y=\"-371\" font-family=\"monospace\" font-size=\"10.00\">weight</text>\n<text text-anchor=\"middle\" x=\"157.5\" y=\"-360\" font-family=\"monospace\" font-size=\"10.00\"> (10, 784)</text>\n</g>\n<!-- 138172743531904&#45;&gt;138172743170320 -->\n<g id=\"edge7\" class=\"edge\">\n<title>138172743531904&#45;&gt;138172743170320</title>\n<path fill=\"none\" stroke=\"black\" d=\"M157.5,-352.8C157.5,-343.7 157.5,-331.79 157.5,-321.9\"/>\n<polygon fill=\"black\" stroke=\"black\" points=\"161,-321.84 157.5,-311.84 154,-321.84 161,-321.84\"/>\n</g>\n</g>\n</svg>\n",
            "text/plain": [
              "<graphviz.graphs.Digraph at 0x7dabb9b42bf0>"
            ]
          },
          "metadata": {},
          "execution_count": 22
        }
      ],
      "source": [
        "y_pred = model(Variable(x_train.view(-1,28*28)))\n",
        "loss = criterion(y_pred, Variable(y_train))\n",
        "from torchviz import make_dot, make_dot_from_trace\n",
        "p = make_dot(loss, dict(model.named_parameters()))\n",
        "p"
      ]
    },
    {
      "cell_type": "markdown",
      "metadata": {
        "id": "Pq2yq8qAmvQ2"
      },
      "source": [
        "### Laço de treinamento dos pesos"
      ]
    },
    {
      "cell_type": "code",
      "execution_count": 36,
      "metadata": {
        "ExecuteTime": {
          "end_time": "2017-11-24T15:44:51.678678",
          "start_time": "2017-11-24T15:44:51.427695"
        },
        "colab": {
          "base_uri": "https://localhost:8080/",
          "height": 35
        },
        "id": "HPUUNKXxmvQ3",
        "outputId": "3fea6678-124a-40e4-b56f-dcd70d0b156e"
      },
      "outputs": [
        {
          "output_type": "display_data",
          "data": {
            "text/plain": [
              "<Figure size 1800x600 with 0 Axes>"
            ]
          },
          "metadata": {}
        }
      ],
      "source": [
        "from IPython import display\n",
        "import numpy\n",
        "a = 5\n",
        "losses = []\n",
        "zs = []\n",
        "fig = plt.figure(figsize=(18, 6))\n",
        "\n",
        "try:\n",
        "    for i in range(epochs):\n",
        "        # Transforma a entrada para uma dimensão\n",
        "        inputs = Variable(x_train.view(-1, 28 * 28))\n",
        "        # Predict da rede\n",
        "        outputs = model(inputs)\n",
        "        zs.append(outputs[1].detach().numpy())\n",
        "\n",
        "        # calcula a perda\n",
        "        loss = criterion(outputs, Variable(y_train))\n",
        "\n",
        "        # zero, backpropagation, ajusta parâmetros pelo gradiente descendente\n",
        "        optimizer.zero_grad()\n",
        "        loss.backward()\n",
        "        optimizer.step()\n",
        "\n",
        "        losses.append(loss.data)\n",
        "        _, predicts = torch.max(outputs, 1)\n",
        "\n",
        "        y_pred = predicts.data\n",
        "\n",
        "        # Calcula a acurácia\n",
        "        accuracy = (y_pred.numpy() == y_train.numpy()).mean()\n",
        "\n",
        "\n",
        "\n",
        "\n",
        "except KeyboardInterrupt:\n",
        "    pass"
      ]
    },
    {
      "cell_type": "code",
      "execution_count": 24,
      "metadata": {
        "colab": {
          "base_uri": "https://localhost:8080/"
        },
        "id": "8wbN-_fnmvQ7",
        "outputId": "01633062-cbb3-4944-b0a8-9bb6a293d33f"
      },
      "outputs": [
        {
          "output_type": "execute_result",
          "data": {
            "text/plain": [
              "tensor([[0., 0., 0.,  ..., 0., 0., 0.],\n",
              "        [0., 0., 0.,  ..., 0., 0., 0.],\n",
              "        [0., 0., 0.,  ..., 0., 0., 0.],\n",
              "        ...,\n",
              "        [0., 0., 0.,  ..., 0., 0., 0.],\n",
              "        [0., 0., 0.,  ..., 0., 0., 0.],\n",
              "        [0., 0., 0.,  ..., 0., 0., 0.]])"
            ]
          },
          "metadata": {},
          "execution_count": 24
        }
      ],
      "source": [
        "model.weight.grad"
      ]
    },
    {
      "cell_type": "code",
      "execution_count": 25,
      "metadata": {
        "ExecuteTime": {
          "end_time": "2017-11-24T15:44:51.685301",
          "start_time": "2017-11-24T15:44:51.680419"
        },
        "colab": {
          "base_uri": "https://localhost:8080/"
        },
        "id": "mPWKRc_gmvRH",
        "outputId": "5d4d6d22-b5c6-47b8-ed09-6723986ee8be"
      },
      "outputs": [
        {
          "output_type": "stream",
          "name": "stdout",
          "text": [
            "Final loss: tensor(1.0937)\n"
          ]
        }
      ],
      "source": [
        "print('Final loss:', loss.data)"
      ]
    },
    {
      "cell_type": "markdown",
      "metadata": {
        "id": "PWIjRdCJmvRQ"
      },
      "source": [
        "### Visualizando gráfico de perda durante o treinamento"
      ]
    },
    {
      "cell_type": "code",
      "execution_count": 26,
      "metadata": {
        "ExecuteTime": {
          "end_time": "2017-11-24T15:44:56.787741",
          "start_time": "2017-11-24T15:44:56.627754"
        },
        "id": "gwV8aFcbmvRR",
        "outputId": "61147991-5005-4d71-aab2-352136bc83b1",
        "colab": {
          "base_uri": "https://localhost:8080/",
          "height": 448
        }
      },
      "outputs": [
        {
          "output_type": "execute_result",
          "data": {
            "text/plain": [
              "[<matplotlib.lines.Line2D at 0x7daad94a64d0>]"
            ]
          },
          "metadata": {},
          "execution_count": 26
        },
        {
          "output_type": "display_data",
          "data": {
            "text/plain": [
              "<Figure size 640x480 with 1 Axes>"
            ],
            "image/png": "[encoded data removed]"
          },
          "metadata": {}
        }
      ],
      "source": [
        "plt.plot(losses)"
      ]
    },
    {
      "cell_type": "markdown",
      "metadata": {
        "id": "H8og76PRmvRW"
      },
      "source": [
        "## Avaliação"
      ]
    },
    {
      "cell_type": "markdown",
      "metadata": {
        "id": "tIe0ngxWmvRY"
      },
      "source": [
        "### Acurácia tanto no conjunto de treinamento como no conjunto de testes"
      ]
    },
    {
      "cell_type": "code",
      "execution_count": 27,
      "metadata": {
        "ExecuteTime": {
          "end_time": "2017-11-24T15:50:29.922115",
          "start_time": "2017-11-24T15:50:29.914004"
        },
        "id": "tlL-lfF5mvRZ",
        "outputId": "37d04c49-13b9-4a25-9555-efe853c981fa",
        "colab": {
          "base_uri": "https://localhost:8080/"
        }
      },
      "outputs": [
        {
          "output_type": "stream",
          "name": "stdout",
          "text": [
            "Accuracy: 0.817\n"
          ]
        }
      ],
      "source": [
        "def predict(model, input_data):\n",
        "    outputs = model(Variable(input_data))\n",
        "    _, predicts = torch.max(outputs, 1)\n",
        "\n",
        "    return predicts.data\n",
        "\n",
        "y_pred = predict(model, x_train.view(-1, 28*28))\n",
        "accuracy = (y_pred.numpy() == y_train.numpy()).mean()\n",
        "print('Accuracy:', accuracy)"
      ]
    },
    {
      "cell_type": "markdown",
      "metadata": {
        "id": "CvWz9qeDmvRc"
      },
      "source": [
        "### Matriz de confusão com dados de treinamento e teste"
      ]
    },
    {
      "cell_type": "code",
      "execution_count": 28,
      "metadata": {
        "ExecuteTime": {
          "end_time": "2017-11-24T15:51:40.706177",
          "start_time": "2017-11-24T15:51:40.679474"
        },
        "id": "CqNe40IqmvRd",
        "outputId": "a18de5fb-9f77-4eb6-b521-2ffa55893738",
        "colab": {
          "base_uri": "https://localhost:8080/",
          "height": 412
        }
      },
      "outputs": [
        {
          "output_type": "stream",
          "name": "stdout",
          "text": [
            "Matriz de confusão:\n"
          ]
        },
        {
          "output_type": "execute_result",
          "data": {
            "text/plain": [
              "col_0   0    1   2   3   4   5   6    7   8   9\n",
              "row_0                                          \n",
              "0      93    0   3   1   0   4   2    1   0   2\n",
              "1       0  109  10   1   2   2   3    6   8   3\n",
              "2       2    1  76   1   1   2   3    0   3   0\n",
              "3       0    0   1  78   0  18   0    0   9   2\n",
              "4       0    0   2   0  92   6   3    4   0  11\n",
              "5       0    2   0   3   1  53   2    0   2   1\n",
              "6       2    1   1   2   2   3  80    0   0   1\n",
              "7       0    0   5   3   2   1   0  103   0  11\n",
              "8       0    3   1   2   0   1   1    0  64   0\n",
              "9       0    0   0   2   5   2   0    3   1  69"
            ],
            "text/html": [
              "\n",
              "  <div id=\"df-2ed5cc21-63d4-42ef-b253-98fb55580f6f\" class=\"colab-df-container\">\n",
              "    <div>\n",
              "<style scoped>\n",
              "    .dataframe tbody tr th:only-of-type {\n",
              "        vertical-align: middle;\n",
              "    }\n",
              "\n",
              "    .dataframe tbody tr th {\n",
              "        vertical-align: top;\n",
              "    }\n",
              "\n",
              "    .dataframe thead th {\n",
              "        text-align: right;\n",
              "    }\n",
              "</style>\n",
              "<table border=\"1\" class=\"dataframe\">\n",
              "  <thead>\n",
              "    <tr style=\"text-align: right;\">\n",
              "      <th>col_0</th>\n",
              "      <th>0</th>\n",
              "      <th>1</th>\n",
              "      <th>2</th>\n",
              "      <th>3</th>\n",
              "      <th>4</th>\n",
              "      <th>5</th>\n",
              "      <th>6</th>\n",
              "      <th>7</th>\n",
              "      <th>8</th>\n",
              "      <th>9</th>\n",
              "    </tr>\n",
              "    <tr>\n",
              "      <th>row_0</th>\n",
              "      <th></th>\n",
              "      <th></th>\n",
              "      <th></th>\n",
              "      <th></th>\n",
              "      <th></th>\n",
              "      <th></th>\n",
              "      <th></th>\n",
              "      <th></th>\n",
              "      <th></th>\n",
              "      <th></th>\n",
              "    </tr>\n",
              "  </thead>\n",
              "  <tbody>\n",
              "    <tr>\n",
              "      <th>0</th>\n",
              "      <td>93</td>\n",
              "      <td>0</td>\n",
              "      <td>3</td>\n",
              "      <td>1</td>\n",
              "      <td>0</td>\n",
              "      <td>4</td>\n",
              "      <td>2</td>\n",
              "      <td>1</td>\n",
              "      <td>0</td>\n",
              "      <td>2</td>\n",
              "    </tr>\n",
              "    <tr>\n",
              "      <th>1</th>\n",
              "      <td>0</td>\n",
              "      <td>109</td>\n",
              "      <td>10</td>\n",
              "      <td>1</td>\n",
              "      <td>2</td>\n",
              "      <td>2</td>\n",
              "      <td>3</td>\n",
              "      <td>6</td>\n",
              "      <td>8</td>\n",
              "      <td>3</td>\n",
              "    </tr>\n",
              "    <tr>\n",
              "      <th>2</th>\n",
              "      <td>2</td>\n",
              "      <td>1</td>\n",
              "      <td>76</td>\n",
              "      <td>1</td>\n",
              "      <td>1</td>\n",
              "      <td>2</td>\n",
              "      <td>3</td>\n",
              "      <td>0</td>\n",
              "      <td>3</td>\n",
              "      <td>0</td>\n",
              "    </tr>\n",
              "    <tr>\n",
              "      <th>3</th>\n",
              "      <td>0</td>\n",
              "      <td>0</td>\n",
              "      <td>1</td>\n",
              "      <td>78</td>\n",
              "      <td>0</td>\n",
              "      <td>18</td>\n",
              "      <td>0</td>\n",
              "      <td>0</td>\n",
              "      <td>9</td>\n",
              "      <td>2</td>\n",
              "    </tr>\n",
              "    <tr>\n",
              "      <th>4</th>\n",
              "      <td>0</td>\n",
              "      <td>0</td>\n",
              "      <td>2</td>\n",
              "      <td>0</td>\n",
              "      <td>92</td>\n",
              "      <td>6</td>\n",
              "      <td>3</td>\n",
              "      <td>4</td>\n",
              "      <td>0</td>\n",
              "      <td>11</td>\n",
              "    </tr>\n",
              "    <tr>\n",
              "      <th>5</th>\n",
              "      <td>0</td>\n",
              "      <td>2</td>\n",
              "      <td>0</td>\n",
              "      <td>3</td>\n",
              "      <td>1</td>\n",
              "      <td>53</td>\n",
              "      <td>2</td>\n",
              "      <td>0</td>\n",
              "      <td>2</td>\n",
              "      <td>1</td>\n",
              "    </tr>\n",
              "    <tr>\n",
              "      <th>6</th>\n",
              "      <td>2</td>\n",
              "      <td>1</td>\n",
              "      <td>1</td>\n",
              "      <td>2</td>\n",
              "      <td>2</td>\n",
              "      <td>3</td>\n",
              "      <td>80</td>\n",
              "      <td>0</td>\n",
              "      <td>0</td>\n",
              "      <td>1</td>\n",
              "    </tr>\n",
              "    <tr>\n",
              "      <th>7</th>\n",
              "      <td>0</td>\n",
              "      <td>0</td>\n",
              "      <td>5</td>\n",
              "      <td>3</td>\n",
              "      <td>2</td>\n",
              "      <td>1</td>\n",
              "      <td>0</td>\n",
              "      <td>103</td>\n",
              "      <td>0</td>\n",
              "      <td>11</td>\n",
              "    </tr>\n",
              "    <tr>\n",
              "      <th>8</th>\n",
              "      <td>0</td>\n",
              "      <td>3</td>\n",
              "      <td>1</td>\n",
              "      <td>2</td>\n",
              "      <td>0</td>\n",
              "      <td>1</td>\n",
              "      <td>1</td>\n",
              "      <td>0</td>\n",
              "      <td>64</td>\n",
              "      <td>0</td>\n",
              "    </tr>\n",
              "    <tr>\n",
              "      <th>9</th>\n",
              "      <td>0</td>\n",
              "      <td>0</td>\n",
              "      <td>0</td>\n",
              "      <td>2</td>\n",
              "      <td>5</td>\n",
              "      <td>2</td>\n",
              "      <td>0</td>\n",
              "      <td>3</td>\n",
              "      <td>1</td>\n",
              "      <td>69</td>\n",
              "    </tr>\n",
              "  </tbody>\n",
              "</table>\n",
              "</div>\n",
              "    <div class=\"colab-df-buttons\">\n",
              "\n",
              "  <div class=\"colab-df-container\">\n",
              "    <button class=\"colab-df-convert\" onclick=\"convertToInteractive('df-2ed5cc21-63d4-42ef-b253-98fb55580f6f')\"\n",
              "            title=\"Convert this dataframe to an interactive table.\"\n",
              "            style=\"display:none;\">\n",
              "\n",
              "  <svg xmlns=\"http://www.w3.org/2000/svg\" height=\"24px\" viewBox=\"0 -960 960 960\">\n",
              "    <path d=\"M120-120v-720h720v720H120Zm60-500h600v-160H180v160Zm220 220h160v-160H400v160Zm0 220h160v-160H400v160ZM180-400h160v-160H180v160Zm440 0h160v-160H620v160ZM180-180h160v-160H180v160Zm440 0h160v-160H620v160Z\"/>\n",
              "  </svg>\n",
              "    </button>\n",
              "\n",
              "  <style>\n",
              "    .colab-df-container {\n",
              "      display:flex;\n",
              "      gap: 12px;\n",
              "    }\n",
              "\n",
              "    .colab-df-convert {\n",
              "      background-color: #E8F0FE;\n",
              "      border: none;\n",
              "      border-radius: 50%;\n",
              "      cursor: pointer;\n",
              "      display: none;\n",
              "      fill: #1967D2;\n",
              "      height: 32px;\n",
              "      padding: 0 0 0 0;\n",
              "      width: 32px;\n",
              "    }\n",
              "\n",
              "    .colab-df-convert:hover {\n",
              "      background-color: #E2EBFA;\n",
              "      box-shadow: 0px 1px 2px rgba(60, 64, 67, 0.3), 0px 1px 3px 1px rgba(60, 64, 67, 0.15);\n",
              "      fill: #174EA6;\n",
              "    }\n",
              "\n",
              "    .colab-df-buttons div {\n",
              "      margin-bottom: 4px;\n",
              "    }\n",
              "\n",
              "    [theme=dark] .colab-df-convert {\n",
              "      background-color: #3B4455;\n",
              "      fill: #D2E3FC;\n",
              "    }\n",
              "\n",
              "    [theme=dark] .colab-df-convert:hover {\n",
              "      background-color: #434B5C;\n",
              "      box-shadow: 0px 1px 3px 1px rgba(0, 0, 0, 0.15);\n",
              "      filter: drop-shadow(0px 1px 2px rgba(0, 0, 0, 0.3));\n",
              "      fill: #FFFFFF;\n",
              "    }\n",
              "  </style>\n",
              "\n",
              "    <script>\n",
              "      const buttonEl =\n",
              "        document.querySelector('#df-2ed5cc21-63d4-42ef-b253-98fb55580f6f button.colab-df-convert');\n",
              "      buttonEl.style.display =\n",
              "        google.colab.kernel.accessAllowed ? 'block' : 'none';\n",
              "\n",
              "      async function convertToInteractive(key) {\n",
              "        const element = document.querySelector('#df-2ed5cc21-63d4-42ef-b253-98fb55580f6f');\n",
              "        const dataTable =\n",
              "          await google.colab.kernel.invokeFunction('convertToInteractive',\n",
              "                                                    [key], {});\n",
              "        if (!dataTable) return;\n",
              "\n",
              "        const docLinkHtml = 'Like what you see? Visit the ' +\n",
              "          '<a target=\"_blank\" href=https://colab.research.google.com/notebooks/data_table.ipynb>data table notebook</a>'\n",
              "          + ' to learn more about interactive tables.';\n",
              "        element.innerHTML = '';\n",
              "        dataTable['output_type'] = 'display_data';\n",
              "        await google.colab.output.renderOutput(dataTable, element);\n",
              "        const docLink = document.createElement('div');\n",
              "        docLink.innerHTML = docLinkHtml;\n",
              "        element.appendChild(docLink);\n",
              "      }\n",
              "    </script>\n",
              "  </div>\n",
              "\n",
              "\n",
              "<div id=\"df-59f3ead7-f620-4846-8d08-1c0e0331baf9\">\n",
              "  <button class=\"colab-df-quickchart\" onclick=\"quickchart('df-59f3ead7-f620-4846-8d08-1c0e0331baf9')\"\n",
              "            title=\"Suggest charts\"\n",
              "            style=\"display:none;\">\n",
              "\n",
              "<svg xmlns=\"http://www.w3.org/2000/svg\" height=\"24px\"viewBox=\"0 0 24 24\"\n",
              "     width=\"24px\">\n",
              "    <g>\n",
              "        <path d=\"M19 3H5c-1.1 0-2 .9-2 2v14c0 1.1.9 2 2 2h14c1.1 0 2-.9 2-2V5c0-1.1-.9-2-2-2zM9 17H7v-7h2v7zm4 0h-2V7h2v10zm4 0h-2v-4h2v4z\"/>\n",
              "    </g>\n",
              "</svg>\n",
              "  </button>\n",
              "\n",
              "<style>\n",
              "  .colab-df-quickchart {\n",
              "      --bg-color: #E8F0FE;\n",
              "      --fill-color: #1967D2;\n",
              "      --hover-bg-color: #E2EBFA;\n",
              "      --hover-fill-color: #174EA6;\n",
              "      --disabled-fill-color: #AAA;\n",
              "      --disabled-bg-color: #DDD;\n",
              "  }\n",
              "\n",
              "  [theme=dark] .colab-df-quickchart {\n",
              "      --bg-color: #3B4455;\n",
              "      --fill-color: #D2E3FC;\n",
              "      --hover-bg-color: #434B5C;\n",
              "      --hover-fill-color: #FFFFFF;\n",
              "      --disabled-bg-color: #3B4455;\n",
              "      --disabled-fill-color: #666;\n",
              "  }\n",
              "\n",
              "  .colab-df-quickchart {\n",
              "    background-color: var(--bg-color);\n",
              "    border: none;\n",
              "    border-radius: 50%;\n",
              "    cursor: pointer;\n",
              "    display: none;\n",
              "    fill: var(--fill-color);\n",
              "    height: 32px;\n",
              "    padding: 0;\n",
              "    width: 32px;\n",
              "  }\n",
              "\n",
              "  .colab-df-quickchart:hover {\n",
              "    background-color: var(--hover-bg-color);\n",
              "    box-shadow: 0 1px 2px rgba(60, 64, 67, 0.3), 0 1px 3px 1px rgba(60, 64, 67, 0.15);\n",
              "    fill: var(--button-hover-fill-color);\n",
              "  }\n",
              "\n",
              "  .colab-df-quickchart-complete:disabled,\n",
              "  .colab-df-quickchart-complete:disabled:hover {\n",
              "    background-color: var(--disabled-bg-color);\n",
              "    fill: var(--disabled-fill-color);\n",
              "    box-shadow: none;\n",
              "  }\n",
              "\n",
              "  .colab-df-spinner {\n",
              "    border: 2px solid var(--fill-color);\n",
              "    border-color: transparent;\n",
              "    border-bottom-color: var(--fill-color);\n",
              "    animation:\n",
              "      spin 1s steps(1) infinite;\n",
              "  }\n",
              "\n",
              "  @keyframes spin {\n",
              "    0% {\n",
              "      border-color: transparent;\n",
              "      border-bottom-color: var(--fill-color);\n",
              "      border-left-color: var(--fill-color);\n",
              "    }\n",
              "    20% {\n",
              "      border-color: transparent;\n",
              "      border-left-color: var(--fill-color);\n",
              "      border-top-color: var(--fill-color);\n",
              "    }\n",
              "    30% {\n",
              "      border-color: transparent;\n",
              "      border-left-color: var(--fill-color);\n",
              "      border-top-color: var(--fill-color);\n",
              "      border-right-color: var(--fill-color);\n",
              "    }\n",
              "    40% {\n",
              "      border-color: transparent;\n",
              "      border-right-color: var(--fill-color);\n",
              "      border-top-color: var(--fill-color);\n",
              "    }\n",
              "    60% {\n",
              "      border-color: transparent;\n",
              "      border-right-color: var(--fill-color);\n",
              "    }\n",
              "    80% {\n",
              "      border-color: transparent;\n",
              "      border-right-color: var(--fill-color);\n",
              "      border-bottom-color: var(--fill-color);\n",
              "    }\n",
              "    90% {\n",
              "      border-color: transparent;\n",
              "      border-bottom-color: var(--fill-color);\n",
              "    }\n",
              "  }\n",
              "</style>\n",
              "\n",
              "  <script>\n",
              "    async function quickchart(key) {\n",
              "      const quickchartButtonEl =\n",
              "        document.querySelector('#' + key + ' button');\n",
              "      quickchartButtonEl.disabled = true;  // To prevent multiple clicks.\n",
              "      quickchartButtonEl.classList.add('colab-df-spinner');\n",
              "      try {\n",
              "        const charts = await google.colab.kernel.invokeFunction(\n",
              "            'suggestCharts', [key], {});\n",
              "      } catch (error) {\n",
              "        console.error('Error during call to suggestCharts:', error);\n",
              "      }\n",
              "      quickchartButtonEl.classList.remove('colab-df-spinner');\n",
              "      quickchartButtonEl.classList.add('colab-df-quickchart-complete');\n",
              "    }\n",
              "    (() => {\n",
              "      let quickchartButtonEl =\n",
              "        document.querySelector('#df-59f3ead7-f620-4846-8d08-1c0e0331baf9 button');\n",
              "      quickchartButtonEl.style.display =\n",
              "        google.colab.kernel.accessAllowed ? 'block' : 'none';\n",
              "    })();\n",
              "  </script>\n",
              "</div>\n",
              "    </div>\n",
              "  </div>\n"
            ],
            "application/vnd.google.colaboratory.intrinsic+json": {
              "type": "dataframe",
              "summary": "{\n  \"name\": \"pd\",\n  \"rows\": 10,\n  \"fields\": [\n    {\n      \"column\": \"row_0\",\n      \"properties\": {\n        \"dtype\": \"number\",\n        \"std\": 3,\n        \"min\": 0,\n        \"max\": 9,\n        \"num_unique_values\": 10,\n        \"samples\": [\n          8,\n          1,\n          5\n        ],\n        \"semantic_type\": \"\",\n        \"description\": \"\"\n      }\n    },\n    {\n      \"column\": 0,\n      \"properties\": {\n        \"dtype\": \"number\",\n        \"std\": 29,\n        \"min\": 0,\n        \"max\": 93,\n        \"num_unique_values\": 3,\n        \"samples\": [\n          93,\n          0,\n          2\n        ],\n        \"semantic_type\": \"\",\n        \"description\": \"\"\n      }\n    },\n    {\n      \"column\": 1,\n      \"properties\": {\n        \"dtype\": \"number\",\n        \"std\": 34,\n        \"min\": 0,\n        \"max\": 109,\n        \"num_unique_values\": 5,\n        \"samples\": [\n          109,\n          3,\n          1\n        ],\n        \"semantic_type\": \"\",\n        \"description\": \"\"\n      }\n    },\n    {\n      \"column\": 2,\n      \"properties\": {\n        \"dtype\": \"number\",\n        \"std\": 23,\n        \"min\": 0,\n        \"max\": 76,\n        \"num_unique_values\": 7,\n        \"samples\": [\n          3,\n          10,\n          0\n        ],\n        \"semantic_type\": \"\",\n        \"description\": \"\"\n      }\n    },\n    {\n      \"column\": 3,\n      \"properties\": {\n        \"dtype\": \"number\",\n        \"std\": 24,\n        \"min\": 0,\n        \"max\": 78,\n        \"num_unique_values\": 5,\n        \"samples\": [\n          78,\n          2,\n          0\n        ],\n        \"semantic_type\": \"\",\n        \"description\": \"\"\n      }\n    },\n    {\n      \"column\": 4,\n      \"properties\": {\n        \"dtype\": \"number\",\n        \"std\": 28,\n        \"min\": 0,\n        \"max\": 92,\n        \"num_unique_values\": 5,\n        \"samples\": [\n          2,\n          5,\n          1\n        ],\n        \"semantic_type\": \"\",\n        \"description\": \"\"\n      }\n    },\n    {\n      \"column\": 5,\n      \"properties\": {\n        \"dtype\": \"number\",\n        \"std\": 16,\n        \"min\": 1,\n        \"max\": 53,\n        \"num_unique_values\": 7,\n        \"samples\": [\n          4,\n          2,\n          3\n        ],\n        \"semantic_type\": \"\",\n        \"description\": \"\"\n      }\n    },\n    {\n      \"column\": 6,\n      \"properties\": {\n        \"dtype\": \"number\",\n        \"std\": 24,\n        \"min\": 0,\n        \"max\": 80,\n        \"num_unique_values\": 5,\n        \"samples\": [\n          3,\n          1,\n          0\n        ],\n        \"semantic_type\": \"\",\n        \"description\": \"\"\n      }\n    },\n    {\n      \"column\": 7,\n      \"properties\": {\n        \"dtype\": \"number\",\n        \"std\": 32,\n        \"min\": 0,\n        \"max\": 103,\n        \"num_unique_values\": 6,\n        \"samples\": [\n          1,\n          6,\n          3\n        ],\n        \"semantic_type\": \"\",\n        \"description\": \"\"\n      }\n    },\n    {\n      \"column\": 8,\n      \"properties\": {\n        \"dtype\": \"number\",\n        \"std\": 19,\n        \"min\": 0,\n        \"max\": 64,\n        \"num_unique_values\": 7,\n        \"samples\": [\n          0,\n          8,\n          64\n        ],\n        \"semantic_type\": \"\",\n        \"description\": \"\"\n      }\n    },\n    {\n      \"column\": 9,\n      \"properties\": {\n        \"dtype\": \"number\",\n        \"std\": 21,\n        \"min\": 0,\n        \"max\": 69,\n        \"num_unique_values\": 6,\n        \"samples\": [\n          2,\n          3,\n          69\n        ],\n        \"semantic_type\": \"\",\n        \"description\": \"\"\n      }\n    }\n  ]\n}"
            }
          },
          "metadata": {},
          "execution_count": 28
        }
      ],
      "source": [
        "print('Matriz de confusão:')\n",
        "pd.crosstab(y_pred.numpy(), y_train.numpy())"
      ]
    },
    {
      "cell_type": "markdown",
      "metadata": {
        "id": "RLjDGqb7mvRi"
      },
      "source": [
        "## Visualizando a matriz de pesos treinados"
      ]
    },
    {
      "cell_type": "markdown",
      "metadata": {
        "id": "AYuIu31KmvRj"
      },
      "source": [
        "Observe que a matriz de peso treinado para cada classe mostra a importância dos pesos associados aos caracteres de cada classe."
      ]
    },
    {
      "cell_type": "code",
      "execution_count": 29,
      "metadata": {
        "ExecuteTime": {
          "end_time": "2017-11-24T16:34:49.367135",
          "start_time": "2017-11-24T16:34:49.204452"
        },
        "id": "_QESuAB8mvRk",
        "outputId": "9472c402-05b1-4b07-f274-a9ca47c0b119",
        "colab": {
          "base_uri": "https://localhost:8080/",
          "height": 466
        }
      },
      "outputs": [
        {
          "output_type": "stream",
          "name": "stdout",
          "text": [
            "weights: torch.Size([10, 784])\n",
            "bias:    torch.Size([10])\n"
          ]
        },
        {
          "output_type": "display_data",
          "data": {
            "text/plain": [
              "<Figure size 640x480 with 1 Axes>"
            ],
            "image/png": "[encoded data removed]"
          },
          "metadata": {}
        }
      ],
      "source": [
        "weights = model.state_dict()['weight']\n",
        "print('weights:', weights.shape)\n",
        "\n",
        "bias = model.state_dict()['bias']\n",
        "print('bias:   ', bias.shape)\n",
        "\n",
        "# Visualizando pesos da classe 3\n",
        "plt.imshow(weights[3, :].numpy().reshape((28,28)),cmap = 'gray')\n",
        "plt.show()"
      ]
    },
    {
      "cell_type": "markdown",
      "metadata": {
        "id": "eE1B62KamvRp"
      },
      "source": [
        "### Visualizando os pesos de todas as classes"
      ]
    },
    {
      "cell_type": "code",
      "execution_count": 30,
      "metadata": {
        "ExecuteTime": {
          "end_time": "2017-11-24T16:34:50.240218",
          "start_time": "2017-11-24T16:34:50.025515"
        },
        "id": "EHm39Pe_mvRp",
        "outputId": "caa666f3-2e14-4bae-8e76-b89b35f6796e",
        "colab": {
          "base_uri": "https://localhost:8080/",
          "height": 156
        }
      },
      "outputs": [
        {
          "output_type": "display_data",
          "data": {
            "text/plain": [
              "<Figure size 1500x1000 with 1 Axes>"
            ],
            "image/png": "[encoded data removed]"
          },
          "metadata": {}
        }
      ],
      "source": [
        "# cria um grid com as imagens\n",
        "grid = torchvision.utils.make_grid(weights.view(-1, 1, 28, 28), normalize=True, pad_value=1.0, padding=1, nrow=10)\n",
        "\n",
        "plt.figure(figsize=(15, 10))\n",
        "plt.imshow(grid.numpy().transpose(1, 2, 0))\n",
        "plt.axis('off');"
      ]
    },
    {
      "cell_type": "markdown",
      "metadata": {
        "id": "odqHBFclmvRt"
      },
      "source": [
        "### Diagrama da regressão softmax com visualização dos pesos W"
      ]
    },
    {
      "cell_type": "markdown",
      "metadata": {
        "id": "UVKoDiM-mvRu"
      },
      "source": [
        "![alt text](https://raw.githubusercontent.com/vcasadei/images/master/RegressaoSoftmaxArgmaxNMIST.png)"
      ]
    },
    {
      "cell_type": "markdown",
      "metadata": {
        "id": "y0vTJyVbmvRv"
      },
      "source": [
        "# Atividades"
      ]
    },
    {
      "cell_type": "markdown",
      "metadata": {
        "id": "Rl-7WEDMmvRw"
      },
      "source": [
        "## Exercícios"
      ]
    },
    {
      "cell_type": "markdown",
      "metadata": {
        "id": "Vn4GzfSYmvR5"
      },
      "source": [
        "- 1) Insira código no laço do treinamento para que no final de cada época,\n",
        "     seja impresso: o número da época e a perda e a acurácia"
      ]
    },
    {
      "cell_type": "code",
      "source": [
        "from IPython import display\n",
        "import numpy\n",
        "a = 5\n",
        "losses = []\n",
        "zs = []\n",
        "fig = plt.figure(figsize=(18, 6))\n",
        "\n",
        "try:\n",
        "    for i in range(epochs):\n",
        "        # Transforma a entrada para uma dimensão\n",
        "        inputs = Variable(x_train.view(-1, 28 * 28))\n",
        "        # Predict da rede\n",
        "        outputs = model(inputs)\n",
        "        zs.append(outputs[1].detach().numpy())\n",
        "\n",
        "        # calcula a perda\n",
        "        loss = criterion(outputs, Variable(y_train))\n",
        "\n",
        "        # zero, backpropagation, ajusta parâmetros pelo gradiente descendente\n",
        "        optimizer.zero_grad()\n",
        "        loss.backward()\n",
        "        optimizer.step()\n",
        "\n",
        "        losses.append(loss.data)\n",
        "        _, predicts = torch.max(outputs, 1)\n",
        "\n",
        "        y_pred = predicts.data\n",
        "\n",
        "        # Calcula a acurácia\n",
        "        accuracy = (y_pred.numpy() == y_train.numpy()).mean()\n",
        "\n",
        "        # Imprime o número da época, perda e acurácia\n",
        "        print(f\"Época: {i + 1}/{epochs}, Perda: {loss.item():.4f}, Acurácia: {accuracy * 100:.2f}%\")\n",
        "\n",
        "except KeyboardInterrupt:\n",
        "    pass"
      ],
      "metadata": {
        "colab": {
          "base_uri": "https://localhost:8080/",
          "height": 126
        },
        "id": "SHsBPo9nqdiV",
        "outputId": "adaf81c0-0835-42a7-ab9d-9883369d16d6"
      },
      "execution_count": 35,
      "outputs": [
        {
          "output_type": "stream",
          "name": "stdout",
          "text": [
            "Época: 1/5, Perda: 0.5864, Acurácia: 87.60%\n",
            "Época: 2/5, Perda: 0.5715, Acurácia: 87.70%\n",
            "Época: 3/5, Perda: 0.5579, Acurácia: 87.80%\n",
            "Época: 4/5, Perda: 0.5453, Acurácia: 88.10%\n",
            "Época: 5/5, Perda: 0.5337, Acurácia: 88.40%\n"
          ]
        },
        {
          "output_type": "display_data",
          "data": {
            "text/plain": [
              "<Figure size 1800x600 with 0 Axes>"
            ]
          },
          "metadata": {}
        }
      ]
    },
    {
      "cell_type": "markdown",
      "metadata": {
        "id": "RtZPs6M6mvR6"
      },
      "source": [
        "- 2) Insira código no laço do treinamento para visualização dos valores dos gradientes referentes à classe do dígito 4, no final de cada época."
      ]
    },
    {
      "cell_type": "code",
      "source": [
        "from IPython import display\n",
        "import numpy\n",
        "a = 5\n",
        "losses = []\n",
        "zs = []\n",
        "fig = plt.figure(figsize=(18, 6))\n",
        "\n",
        "try:\n",
        "    for i in range(epochs):\n",
        "        # Transforma a entrada para uma dimensão\n",
        "        inputs = Variable(x_train.view(-1, 28 * 28))\n",
        "        # Predict da rede\n",
        "        outputs = model(inputs)\n",
        "        zs.append(outputs[1].detach().numpy())\n",
        "\n",
        "        # calcula a perda\n",
        "        loss = criterion(outputs, Variable(y_train))\n",
        "\n",
        "        # zero, backpropagation, ajusta parâmetros pelo gradiente descendente\n",
        "        optimizer.zero_grad()\n",
        "        loss.backward()\n",
        "\n",
        "        # Extrair os gradientes referentes à classe do dígito 4\n",
        "        class_4_gradients = []\n",
        "        for name, param in model.named_parameters():\n",
        "            if param.grad is not None:\n",
        "                # Assume-se que a última camada é uma camada linear e os gradientes são 2D (saída x entrada)\n",
        "                if len(param.grad.shape) == 2:\n",
        "                    class_4_gradients.append(param.grad[4].detach().numpy())\n",
        "        # Atualiza os parâmetros\n",
        "        optimizer.step()\n",
        "\n",
        "        losses.append(loss.data)\n",
        "\n",
        "        _, predicts = torch.max(outputs, 1)\n",
        "\n",
        "        y_pred = predicts.data\n",
        "\n",
        "        # Calcula a acurácia\n",
        "        accuracy = (y_pred.numpy() == y_train.numpy()).mean()\n",
        "\n",
        "        # Imprime o número da época, perda e acurácia\n",
        "        print(f\"Época: {i + 1}/{epochs}, Perda: {loss.item():.4f}, Acurácia: {accuracy * 100:.2f}%\")\n",
        "\n",
        "        # Imprime os gradientes da classe 4\n",
        "        print(f\"Gradientes da classe 4: {class_4_gradients}\")\n",
        "\n",
        "\n",
        "except KeyboardInterrupt:\n",
        "    pass"
      ],
      "metadata": {
        "colab": {
          "base_uri": "https://localhost:8080/",
          "height": 1000
        },
        "collapsed": true,
        "id": "Rp3Rb6W9qy1M",
        "outputId": "326c59ef-ebf5-406c-b875-d6ea9b543b0b"
      },
      "execution_count": 38,
      "outputs": [
        {
          "output_type": "stream",
          "name": "stdout",
          "text": [
            "Época: 1/5, Perda: 0.4783, Acurácia: 89.70%\n",
            "Gradientes da classe 4: [array([ 0.00000000e+00,  0.00000000e+00,  0.00000000e+00,  0.00000000e+00,\n",
            "        0.00000000e+00,  0.00000000e+00,  0.00000000e+00,  0.00000000e+00,\n",
            "        0.00000000e+00,  0.00000000e+00,  0.00000000e+00,  0.00000000e+00,\n",
            "        0.00000000e+00,  0.00000000e+00,  0.00000000e+00,  0.00000000e+00,\n",
            "        0.00000000e+00,  0.00000000e+00,  0.00000000e+00,  0.00000000e+00,\n",
            "        0.00000000e+00,  0.00000000e+00,  0.00000000e+00,  0.00000000e+00,\n",
            "        0.00000000e+00,  0.00000000e+00,  0.00000000e+00,  0.00000000e+00,\n",
            "        0.00000000e+00,  0.00000000e+00,  0.00000000e+00,  0.00000000e+00,\n",
            "        0.00000000e+00,  0.00000000e+00,  0.00000000e+00,  0.00000000e+00,\n",
            "        0.00000000e+00,  0.00000000e+00,  1.87739552e-05,  1.16398514e-04,\n",
            "        0.00000000e+00,  2.67908308e-05,  1.21041128e-04,  1.59778720e-04,\n",
            "        9.86509403e-05,  1.50091102e-04,  7.52694468e-05,  0.00000000e+00,\n",
            "        0.00000000e+00,  0.00000000e+00,  0.00000000e+00,  0.00000000e+00,\n",
            "        0.00000000e+00,  0.00000000e+00,  0.00000000e+00,  0.00000000e+00,\n",
            "        0.00000000e+00,  0.00000000e+00,  0.00000000e+00,  0.00000000e+00,\n",
            "        0.00000000e+00,  0.00000000e+00,  0.00000000e+00,  0.00000000e+00,\n",
            "        0.00000000e+00,  0.00000000e+00,  1.93546410e-04,  4.65583202e-04,\n",
            "        2.70812423e-04,  2.41020098e-04,  4.99367365e-04,  1.79305134e-04,\n",
            "       -1.99854607e-04,  2.92675919e-04,  2.45155417e-04,  1.25487102e-04,\n",
            "        5.43961069e-05,  8.06325770e-05,  4.04474922e-05,  8.74389627e-07,\n",
            "        0.00000000e+00,  0.00000000e+00,  0.00000000e+00,  0.00000000e+00,\n",
            "        0.00000000e+00,  0.00000000e+00,  0.00000000e+00,  0.00000000e+00,\n",
            "        0.00000000e+00,  0.00000000e+00,  3.24538269e-06,  5.41589252e-05,\n",
            "        2.16090084e-05,  3.79277517e-05,  5.00586582e-04,  6.47008477e-04,\n",
            "        6.48399931e-04,  9.85120190e-04,  7.36892456e-04,  1.82970427e-04,\n",
            "       -1.58048788e-05,  5.50367869e-04,  6.10790332e-04,  5.96671773e-04,\n",
            "        4.94178385e-04,  2.36004824e-04,  1.43210746e-05,  7.03313390e-07,\n",
            "        0.00000000e+00,  0.00000000e+00,  0.00000000e+00,  0.00000000e+00,\n",
            "        0.00000000e+00,  0.00000000e+00,  0.00000000e+00,  0.00000000e+00,\n",
            "       -3.24761386e-05, -4.42883320e-05,  9.97579409e-05,  2.45676172e-04,\n",
            "        1.39723372e-04, -5.74075559e-04, -3.28581722e-04,  5.27870608e-04,\n",
            "        1.36799947e-03,  1.22018019e-03,  5.38955210e-04,  4.98000009e-04,\n",
            "        8.05058167e-04,  1.52632268e-03,  1.58412894e-03,  1.05319079e-03,\n",
            "        2.09899939e-04,  8.32015285e-05, -1.40774180e-04, -1.03472492e-04,\n",
            "        5.04261288e-06,  0.00000000e+00,  0.00000000e+00,  0.00000000e+00,\n",
            "        0.00000000e+00,  0.00000000e+00,  0.00000000e+00, -5.72516183e-06,\n",
            "       -1.69257226e-04, -1.37758689e-04,  2.30375721e-04,  3.46131361e-04,\n",
            "       -1.03450562e-04, -1.19460514e-03, -1.35911664e-03, -2.54193816e-04,\n",
            "        8.24581890e-04,  6.74733485e-04, -1.48893392e-04,  5.25697367e-04,\n",
            "        5.40842884e-04,  4.95163840e-04,  1.02040835e-03,  9.58920922e-04,\n",
            "        3.52535310e-04, -9.67705389e-04, -1.47717132e-03, -1.82545511e-03,\n",
            "       -1.14097761e-03, -4.78105620e-04,  1.34830070e-05,  0.00000000e+00,\n",
            "        0.00000000e+00,  0.00000000e+00,  0.00000000e+00, -1.21385834e-04,\n",
            "       -2.98856321e-04, -3.99440876e-04,  2.33801737e-04,  4.62270342e-04,\n",
            "       -4.81240917e-04, -1.35044148e-03, -1.12499029e-03, -2.58023094e-04,\n",
            "        1.32513500e-03,  1.29130948e-03,  2.64523341e-03,  4.11314005e-03,\n",
            "        4.66646580e-03,  2.40324647e-03,  1.84095092e-03,  1.20656227e-03,\n",
            "       -3.81348073e-05, -2.22549285e-03, -2.97905505e-03, -2.39931000e-03,\n",
            "       -8.75941420e-04, -3.88988876e-04, -7.37318551e-05,  5.09533347e-05,\n",
            "        0.00000000e+00,  0.00000000e+00,  3.02663580e-06, -3.77992328e-05,\n",
            "       -3.13846598e-04, -5.68482617e-04,  1.89234561e-04,  2.43904535e-04,\n",
            "       -7.28876737e-04, -4.67468053e-04,  4.61981806e-04,  9.23806569e-04,\n",
            "        1.95377436e-03,  3.78415943e-03,  5.41264098e-03,  7.61940796e-03,\n",
            "        6.43251557e-03,  3.53924744e-03,  1.56983011e-03,  1.60726404e-03,\n",
            "       -7.81701820e-05, -1.31205353e-03, -2.38246797e-03, -1.88330049e-03,\n",
            "       -5.36307518e-04, -3.34826364e-05, -9.07143385e-06,  3.01849923e-05,\n",
            "        0.00000000e+00,  0.00000000e+00,  2.73875230e-06, -6.01602951e-05,\n",
            "       -4.39075200e-04, -3.53564392e-04, -4.09798726e-04, -4.02651902e-04,\n",
            "        1.05018698e-04,  4.28797415e-04,  9.90681234e-04,  1.34518440e-03,\n",
            "        2.51184101e-03,  3.45453620e-03,  4.89611598e-03,  6.67881779e-03,\n",
            "        4.21663187e-03,  2.15707114e-03,  3.37445107e-03,  1.83812343e-03,\n",
            "        1.31431641e-03,  2.29000638e-04, -1.43228984e-03, -1.06540811e-03,\n",
            "        9.99710639e-04,  5.45538671e-04,  1.06947962e-04,  0.00000000e+00,\n",
            "        0.00000000e+00,  2.97378847e-05,  7.33474735e-05,  4.95739223e-05,\n",
            "       -1.72837594e-04, -3.05156747e-04, -2.31868791e-04,  2.46415264e-04,\n",
            "        1.45484391e-03,  1.45009952e-03,  1.72861840e-03,  1.21922581e-03,\n",
            "        1.23836193e-03,  1.41793233e-03,  4.53615142e-03,  5.50144538e-03,\n",
            "        8.29691009e-04,  9.43609746e-04,  2.33065430e-03,  1.90937135e-03,\n",
            "        1.49531779e-03,  3.39571852e-04, -1.28676707e-03,  1.64051540e-04,\n",
            "        1.04301621e-03,  2.49023607e-04,  6.35004180e-05,  0.00000000e+00,\n",
            "        0.00000000e+00,  3.43129454e-06,  4.29988751e-04,  5.17113251e-04,\n",
            "        4.67303384e-04, -2.08216748e-04,  3.87514228e-05,  6.98065793e-04,\n",
            "        1.08564668e-03,  3.80738493e-04,  3.86089087e-04, -6.29731279e-04,\n",
            "       -1.34006445e-03,  8.38592998e-04,  3.46722710e-03,  3.91488522e-03,\n",
            "       -3.12252494e-04, -2.31240469e-04,  1.60302757e-03,  1.34377601e-03,\n",
            "        1.02779851e-03, -1.39967626e-04, -1.46219612e-03,  4.55234433e-04,\n",
            "        4.10433509e-04,  5.87580616e-05,  6.19798527e-07,  0.00000000e+00,\n",
            "        0.00000000e+00,  0.00000000e+00,  3.09912168e-04,  5.23560913e-04,\n",
            "        2.18519286e-04, -6.54072734e-04,  5.58631844e-04,  7.86653196e-04,\n",
            "        4.98009904e-04, -1.55971397e-03, -2.33268505e-03, -3.49322334e-03,\n",
            "       -1.60041859e-03,  1.02674193e-03,  3.25912749e-03,  2.18671164e-03,\n",
            "       -2.17496348e-03, -1.70326233e-03,  1.01896632e-03,  2.94821337e-04,\n",
            "        9.33807809e-04, -3.28527763e-04, -8.98315513e-04,  6.52794261e-04,\n",
            "        3.25001252e-04,  4.24402742e-06,  5.05753360e-06,  0.00000000e+00,\n",
            "        0.00000000e+00,  0.00000000e+00,  3.38853497e-05,  1.92312189e-04,\n",
            "       -6.63948245e-04, -1.01335696e-03,  4.38012212e-04, -2.43462273e-04,\n",
            "       -7.78694346e-04, -3.54527798e-03, -6.82457723e-03, -6.12526014e-03,\n",
            "       -3.04036471e-03, -2.80693639e-05,  2.06572772e-03,  1.64960511e-06,\n",
            "       -4.12280066e-03, -2.24130275e-03,  6.29864517e-04,  4.93000844e-04,\n",
            "        1.54110009e-03, -3.16000544e-04,  2.23395720e-04,  1.23568741e-03,\n",
            "        5.56959945e-04,  1.41863959e-04,  4.03204285e-06,  0.00000000e+00,\n",
            "        0.00000000e+00,  0.00000000e+00,  1.04481796e-05, -1.00100398e-04,\n",
            "       -9.02318803e-04, -5.98880055e-04, -6.91605383e-04, -1.77431118e-03,\n",
            "       -2.21162243e-03, -4.61768033e-03, -7.17962394e-03, -5.49563300e-03,\n",
            "       -2.24998733e-03,  1.13602565e-03,  1.75084302e-03, -4.43621480e-04,\n",
            "       -3.52755515e-03, -4.12133336e-03, -1.40007760e-03,  4.87152720e-05,\n",
            "       -8.22916627e-04, -1.22676324e-03, -4.15623537e-04,  8.90267780e-04,\n",
            "        4.98510723e-04,  3.00027517e-04,  4.66132150e-07,  0.00000000e+00,\n",
            "        0.00000000e+00,  0.00000000e+00,  0.00000000e+00, -6.78676224e-05,\n",
            "       -1.00703503e-03, -1.09343021e-03, -2.55499640e-03, -3.90613358e-03,\n",
            "       -2.93712737e-03, -1.79098092e-03, -1.97092257e-03, -2.57443776e-03,\n",
            "       -9.46924323e-04,  4.50633321e-04, -1.49913583e-04, -1.21953629e-03,\n",
            "       -4.02766792e-03, -6.33643148e-03, -1.89754996e-03, -1.74158195e-03,\n",
            "       -1.86734693e-03, -1.68838305e-03, -5.79252257e-04,  5.38036518e-04,\n",
            "        4.93800209e-04,  2.40936643e-04,  8.03712010e-06,  0.00000000e+00,\n",
            "        0.00000000e+00,  0.00000000e+00,  0.00000000e+00, -1.43830010e-04,\n",
            "       -9.47053079e-04, -9.13839438e-04, -1.81788381e-03, -4.37214924e-03,\n",
            "       -5.39783016e-03, -3.33159580e-03, -2.33180006e-03, -2.14738864e-03,\n",
            "       -2.16393964e-03, -2.58649024e-03, -1.72227831e-03, -2.91882991e-03,\n",
            "       -4.46061231e-03, -3.45318811e-03, -2.12564925e-03, -2.95596733e-03,\n",
            "       -1.55767624e-03, -8.89136048e-04, -4.75272594e-04,  4.85950120e-04,\n",
            "        4.89230850e-04,  3.49424314e-04,  1.52337714e-04,  0.00000000e+00,\n",
            "        0.00000000e+00,  0.00000000e+00,  2.07873691e-05,  2.34606014e-05,\n",
            "       -4.68172657e-04, -6.74751762e-04, -7.37517315e-04, -4.57461504e-03,\n",
            "       -4.90728440e-03, -3.19267903e-03, -2.00071465e-03, -9.10906936e-04,\n",
            "       -4.41203243e-04, -3.19569139e-04, -1.13562972e-03, -2.79832934e-03,\n",
            "       -3.33929108e-03, -1.81756227e-03, -2.42819637e-03, -1.37436355e-03,\n",
            "        3.34001903e-04,  5.10669430e-04, -7.90419523e-04, -2.91978446e-04,\n",
            "        3.10768984e-04,  1.71413340e-04,  6.86246422e-05,  0.00000000e+00,\n",
            "        0.00000000e+00,  0.00000000e+00,  1.19274546e-05,  9.13383774e-05,\n",
            "        3.15187266e-04,  4.19251097e-04, -1.10650384e-04, -2.09023384e-03,\n",
            "       -2.05006893e-03, -7.21677847e-04,  8.05865624e-04,  8.94186494e-04,\n",
            "       -1.19452900e-03, -2.22902861e-03, -2.69431621e-03, -3.24410060e-03,\n",
            "       -3.02815018e-03, -8.91636591e-04, -3.86571162e-04,  1.26373454e-03,\n",
            "        1.54178613e-03,  1.10353017e-03,  3.56706063e-04, -1.25600447e-04,\n",
            "        2.58139858e-04,  1.20070516e-04,  0.00000000e+00,  0.00000000e+00,\n",
            "        0.00000000e+00,  0.00000000e+00,  1.38196017e-04,  1.66413462e-04,\n",
            "        7.25969672e-04,  1.67954958e-03,  1.96606317e-03,  1.39909890e-03,\n",
            "       -2.68730277e-04, -3.26122390e-05,  1.21336512e-03,  6.88137952e-04,\n",
            "       -3.83212231e-04, -1.54861016e-03, -2.24511139e-03, -1.99173810e-03,\n",
            "       -9.29957838e-04,  3.31753632e-04,  1.18824199e-03,  1.56048569e-03,\n",
            "        9.50776332e-04,  4.11158835e-04,  5.58555592e-04,  4.38331976e-04,\n",
            "        3.13688826e-04,  5.16168366e-05,  0.00000000e+00,  0.00000000e+00,\n",
            "        0.00000000e+00,  0.00000000e+00,  2.06660756e-04,  1.66282261e-04,\n",
            "        7.48929917e-04,  1.73145952e-03,  2.68570287e-03,  2.89959437e-03,\n",
            "        3.21611459e-03,  3.10866022e-03,  2.46734661e-03,  2.35200138e-03,\n",
            "        1.62124983e-03,  1.12826470e-03,  1.38981501e-04, -1.04270154e-03,\n",
            "       -6.69718254e-04,  9.03104738e-05,  3.36728146e-04,  1.72641815e-03,\n",
            "        1.02548790e-03,  4.34627087e-04,  4.97455301e-04,  1.97942689e-04,\n",
            "        2.80124768e-05,  5.21821562e-07,  0.00000000e+00,  0.00000000e+00,\n",
            "        0.00000000e+00,  0.00000000e+00,  3.38829304e-05,  1.32474379e-04,\n",
            "        5.78363484e-04,  1.15008024e-03,  1.98150193e-03,  2.72574136e-03,\n",
            "        3.10217589e-03,  3.34389880e-03,  4.30585211e-03,  3.86698265e-03,\n",
            "        4.10311576e-03,  2.72863870e-03, -3.58258141e-04,  3.36764351e-04,\n",
            "        5.56395971e-04,  2.33401588e-04,  3.18453967e-04,  1.52447238e-03,\n",
            "        7.79616006e-04, -1.31495312e-04,  1.96513851e-04,  1.67076927e-04,\n",
            "        5.59371001e-05,  5.86337637e-06,  3.35615141e-06,  0.00000000e+00,\n",
            "        0.00000000e+00,  0.00000000e+00,  2.47959924e-05,  7.95496817e-05,\n",
            "        4.63920151e-04,  9.42736573e-04,  1.46140915e-03,  2.36683479e-03,\n",
            "        2.46298127e-03,  2.82344641e-03,  2.59249914e-03,  2.21343711e-03,\n",
            "        3.14366771e-03,  1.27662090e-03, -1.24092516e-03,  5.97721606e-04,\n",
            "        2.16260407e-04,  1.14243128e-04, -7.70216284e-04,  8.48228927e-04,\n",
            "        4.14869777e-04, -5.06746990e-04,  1.82904594e-04,  9.54014758e-05,\n",
            "        1.19905017e-05,  2.79856613e-06,  6.38046504e-06,  0.00000000e+00,\n",
            "        0.00000000e+00,  0.00000000e+00,  3.40142009e-07,  2.43884297e-05,\n",
            "        1.76952453e-04,  5.54142811e-04,  1.07291085e-03,  1.07524695e-03,\n",
            "        1.37635134e-03,  1.97310140e-03,  1.04361959e-03,  1.17702503e-03,\n",
            "        2.26615509e-03, -3.72236536e-04, -8.27559386e-04, -3.64325271e-04,\n",
            "       -3.80306185e-04, -4.58809140e-04, -1.30971894e-03,  1.94755470e-04,\n",
            "       -2.51298989e-05, -4.68203769e-04,  1.74566358e-05,  9.65354557e-05,\n",
            "        1.60349446e-05,  1.44500962e-06,  3.30953822e-06,  0.00000000e+00,\n",
            "        0.00000000e+00,  0.00000000e+00,  2.14778328e-08,  4.41303637e-05,\n",
            "        1.93092026e-04,  3.77998047e-04,  5.07141929e-04,  4.81861411e-04,\n",
            "        1.02349219e-03,  4.20939410e-04,  8.36463878e-05,  8.65932903e-04,\n",
            "        7.02847494e-04, -1.17352058e-03, -1.27818459e-03, -7.09112734e-04,\n",
            "        2.13833962e-04, -9.81977908e-04, -9.29884438e-04, -7.45702651e-04,\n",
            "       -7.00104865e-04, -7.38322160e-06,  5.13594932e-05,  7.94906882e-05,\n",
            "        5.02141011e-05,  0.00000000e+00,  0.00000000e+00,  0.00000000e+00,\n",
            "        0.00000000e+00,  0.00000000e+00,  0.00000000e+00,  5.97202306e-05,\n",
            "        2.23912037e-04,  3.31528689e-04, -5.96296886e-05,  4.85452882e-04,\n",
            "        1.36843370e-03, -3.25595960e-04,  9.24374792e-04,  9.77484859e-04,\n",
            "        1.38980732e-03, -4.22355923e-04,  3.01742402e-04,  2.28512683e-03,\n",
            "        5.80259075e-04, -4.58343216e-04, -6.45946537e-04, -1.18778786e-04,\n",
            "        3.33391770e-04,  2.77370331e-04,  6.47921624e-05,  7.91586208e-05,\n",
            "        4.98099107e-05,  0.00000000e+00,  0.00000000e+00,  0.00000000e+00,\n",
            "        0.00000000e+00,  0.00000000e+00,  0.00000000e+00,  2.90576440e-06,\n",
            "        9.36176802e-05,  2.43930030e-04,  5.02876646e-04,  9.94942384e-04,\n",
            "        8.35137209e-04,  3.52255593e-05,  2.12660572e-03,  2.42968067e-03,\n",
            "        2.19691871e-03,  1.90453941e-03,  1.90309493e-03,  2.07437738e-03,\n",
            "        1.81011227e-03,  1.03312836e-03,  1.08943321e-03,  5.70391072e-04,\n",
            "        3.64764186e-04,  1.01597769e-04,  8.16201427e-05,  1.03913779e-04,\n",
            "        2.27579767e-05,  0.00000000e+00,  0.00000000e+00,  0.00000000e+00,\n",
            "        0.00000000e+00,  0.00000000e+00,  0.00000000e+00,  5.23652125e-06,\n",
            "        4.93496009e-05,  8.50337528e-05,  1.65938429e-04,  1.65005273e-04,\n",
            "       -4.19302116e-04, -1.15010604e-04,  2.94753816e-04,  2.12058992e-04,\n",
            "        3.36199417e-04,  3.41121311e-04,  8.53701727e-04,  8.19463516e-04,\n",
            "        7.14330352e-04,  6.85759180e-04,  6.23615808e-04,  4.59913397e-04,\n",
            "        6.44617030e-05,  1.69154828e-05,  0.00000000e+00,  0.00000000e+00,\n",
            "        0.00000000e+00,  0.00000000e+00,  0.00000000e+00,  0.00000000e+00,\n",
            "        0.00000000e+00,  0.00000000e+00,  0.00000000e+00,  0.00000000e+00,\n",
            "        0.00000000e+00,  1.11876871e-05,  2.69269494e-05,  2.47221978e-05,\n",
            "        8.09327594e-06,  1.92920356e-06,  4.09045060e-06,  4.75256566e-05,\n",
            "        7.17303483e-05,  6.96050265e-05,  4.83673211e-05,  4.84314187e-05,\n",
            "        5.47403106e-05,  4.43110330e-05,  1.58279843e-04,  7.25996942e-05,\n",
            "        0.00000000e+00,  0.00000000e+00,  0.00000000e+00,  0.00000000e+00,\n",
            "        0.00000000e+00,  0.00000000e+00,  0.00000000e+00,  0.00000000e+00],\n",
            "      dtype=float32)]\n",
            "Época: 2/5, Perda: 0.4709, Acurácia: 89.70%\n",
            "Gradientes da classe 4: [array([ 0.00000000e+00,  0.00000000e+00,  0.00000000e+00,  0.00000000e+00,\n",
            "        0.00000000e+00,  0.00000000e+00,  0.00000000e+00,  0.00000000e+00,\n",
            "        0.00000000e+00,  0.00000000e+00,  0.00000000e+00,  0.00000000e+00,\n",
            "        0.00000000e+00,  0.00000000e+00,  0.00000000e+00,  0.00000000e+00,\n",
            "        0.00000000e+00,  0.00000000e+00,  0.00000000e+00,  0.00000000e+00,\n",
            "        0.00000000e+00,  0.00000000e+00,  0.00000000e+00,  0.00000000e+00,\n",
            "        0.00000000e+00,  0.00000000e+00,  0.00000000e+00,  0.00000000e+00,\n",
            "        0.00000000e+00,  0.00000000e+00,  0.00000000e+00,  0.00000000e+00,\n",
            "        0.00000000e+00,  0.00000000e+00,  0.00000000e+00,  0.00000000e+00,\n",
            "        0.00000000e+00,  0.00000000e+00,  1.86924080e-05,  1.15892930e-04,\n",
            "        0.00000000e+00,  2.57468801e-05,  1.18297190e-04,  1.57432587e-04,\n",
            "        9.55767100e-05,  1.45492057e-04,  7.29574676e-05,  0.00000000e+00,\n",
            "        0.00000000e+00,  0.00000000e+00,  0.00000000e+00,  0.00000000e+00,\n",
            "        0.00000000e+00,  0.00000000e+00,  0.00000000e+00,  0.00000000e+00,\n",
            "        0.00000000e+00,  0.00000000e+00,  0.00000000e+00,  0.00000000e+00,\n",
            "        0.00000000e+00,  0.00000000e+00,  0.00000000e+00,  0.00000000e+00,\n",
            "        0.00000000e+00,  0.00000000e+00,  1.91884290e-04,  4.59275674e-04,\n",
            "        2.65138835e-04,  2.36180611e-04,  4.92596824e-04,  1.70934363e-04,\n",
            "       -2.11291001e-04,  2.81491375e-04,  2.37340340e-04,  1.20809025e-04,\n",
            "        5.24165298e-05,  7.83308060e-05,  3.94003437e-05,  8.14619000e-07,\n",
            "        0.00000000e+00,  0.00000000e+00,  0.00000000e+00,  0.00000000e+00,\n",
            "        0.00000000e+00,  0.00000000e+00,  0.00000000e+00,  0.00000000e+00,\n",
            "        0.00000000e+00,  0.00000000e+00,  3.06020524e-06,  5.37162450e-05,\n",
            "        2.04976168e-05,  3.62937317e-05,  4.95965593e-04,  6.36820623e-04,\n",
            "        6.33712276e-04,  9.66448162e-04,  7.15798931e-04,  1.56135298e-04,\n",
            "       -4.42873279e-05,  5.22407005e-04,  5.89942152e-04,  5.79740677e-04,\n",
            "        4.84035059e-04,  2.31425336e-04,  1.46753591e-05,  6.55237045e-07,\n",
            "        0.00000000e+00,  0.00000000e+00,  0.00000000e+00,  0.00000000e+00,\n",
            "        0.00000000e+00,  0.00000000e+00,  0.00000000e+00,  0.00000000e+00,\n",
            "       -3.20026120e-05, -4.40885342e-05,  9.77912932e-05,  2.43946386e-04,\n",
            "        1.37846306e-04, -5.71247947e-04, -3.28536669e-04,  5.09312842e-04,\n",
            "        1.33920973e-03,  1.18534360e-03,  5.00527676e-04,  4.46374586e-04,\n",
            "        7.50063627e-04,  1.48148043e-03,  1.55895436e-03,  1.03650149e-03,\n",
            "        2.11238046e-04,  8.59512584e-05, -1.33963869e-04, -9.91128400e-05,\n",
            "        4.84493376e-06,  0.00000000e+00,  0.00000000e+00,  0.00000000e+00,\n",
            "        0.00000000e+00,  0.00000000e+00,  0.00000000e+00, -5.57437443e-06,\n",
            "       -1.66713347e-04, -1.37047100e-04,  2.29416182e-04,  3.44865286e-04,\n",
            "       -1.01749385e-04, -1.18052587e-03, -1.34659035e-03, -2.51349353e-04,\n",
            "        8.08439450e-04,  6.42941799e-04, -2.00230643e-04,  4.47957747e-04,\n",
            "        4.57560498e-04,  4.25984239e-04,  9.92200337e-04,  9.54423333e-04,\n",
            "        3.67382076e-04, -9.36104276e-04, -1.44193321e-03, -1.79350097e-03,\n",
            "       -1.11842342e-03, -4.69413877e-04,  1.30787330e-05,  0.00000000e+00,\n",
            "        0.00000000e+00,  0.00000000e+00,  0.00000000e+00, -1.18717289e-04,\n",
            "       -2.92141980e-04, -3.92973889e-04,  2.33852683e-04,  4.59816889e-04,\n",
            "       -4.75978333e-04, -1.33250304e-03, -1.10224576e-03, -2.38607288e-04,\n",
            "        1.30482961e-03,  1.23928417e-03,  2.53086770e-03,  3.95513279e-03,\n",
            "        4.50884551e-03,  2.28346186e-03,  1.78057537e-03,  1.19966199e-03,\n",
            "       -1.27723470e-05, -2.17612321e-03, -2.92767934e-03, -2.35720631e-03,\n",
            "       -8.47692019e-04, -3.78368568e-04, -7.20392491e-05,  4.96589237e-05,\n",
            "        0.00000000e+00,  0.00000000e+00,  2.81411371e-06, -3.60328413e-05,\n",
            "       -3.06549482e-04, -5.57008549e-04,  1.86543635e-04,  2.38604000e-04,\n",
            "       -7.28422427e-04, -4.57827060e-04,  4.64676123e-04,  9.05896712e-04,\n",
            "        1.87743455e-03,  3.65216704e-03,  5.22242486e-03,  7.39567401e-03,\n",
            "        6.23047445e-03,  3.39285005e-03,  1.50248571e-03,  1.60383771e-03,\n",
            "       -4.58155118e-05, -1.28035422e-03, -2.33451207e-03, -1.83892937e-03,\n",
            "       -5.09912148e-04, -2.28611971e-05, -8.98233338e-06,  2.93639860e-05,\n",
            "        0.00000000e+00,  0.00000000e+00,  2.55372970e-06, -5.93862060e-05,\n",
            "       -4.30790300e-04, -3.46904475e-04, -4.12716530e-04, -4.11872461e-04,\n",
            "        8.90975934e-05,  4.15481423e-04,  9.69876302e-04,  1.28574728e-03,\n",
            "        2.41508801e-03,  3.31076188e-03,  4.71476465e-03,  6.48158183e-03,\n",
            "        4.06665681e-03,  2.06444063e-03,  3.33230197e-03,  1.85558631e-03,\n",
            "        1.34393189e-03,  2.59819266e-04, -1.38530985e-03, -1.02241291e-03,\n",
            "        9.98885836e-04,  5.44697861e-04,  1.04826118e-04,  0.00000000e+00,\n",
            "        0.00000000e+00,  2.94440033e-05,  7.36049697e-05,  5.06104698e-05,\n",
            "       -1.69120147e-04, -3.04521527e-04, -2.39771427e-04,  2.25782918e-04,\n",
            "        1.42477069e-03,  1.42452330e-03,  1.68114679e-03,  1.17290486e-03,\n",
            "        1.19904662e-03,  1.34503073e-03,  4.40840889e-03,  5.36999432e-03,\n",
            "        7.58445414e-04,  9.09142313e-04,  2.32083374e-03,  1.92749780e-03,\n",
            "        1.53614534e-03,  3.80924786e-04, -1.24374253e-03,  1.82890275e-04,\n",
            "        1.04329200e-03,  2.47147400e-04,  6.25773246e-05,  0.00000000e+00,\n",
            "        0.00000000e+00,  3.39738494e-06,  4.32348519e-04,  5.17645676e-04,\n",
            "        4.66368976e-04, -2.11399383e-04,  3.10669711e-05,  6.83102466e-04,\n",
            "        1.07559795e-03,  3.67107219e-04,  3.95045383e-04, -5.93508012e-04,\n",
            "       -1.31184550e-03,  8.22207774e-04,  3.40396189e-03,  3.84391984e-03,\n",
            "       -3.25322442e-04, -2.07297329e-04,  1.62871974e-03,  1.38589623e-03,\n",
            "        1.06946938e-03, -1.14612601e-04, -1.43838499e-03,  4.66604455e-04,\n",
            "        4.18502168e-04,  5.95790989e-05,  5.76856110e-07,  0.00000000e+00,\n",
            "        0.00000000e+00,  0.00000000e+00,  3.10954667e-04,  5.24683681e-04,\n",
            "        2.19516267e-04, -6.53645664e-04,  5.54668019e-04,  7.93906918e-04,\n",
            "        5.00620343e-04, -1.53647223e-03, -2.23277090e-03, -3.38982977e-03,\n",
            "       -1.56213471e-03,  9.99823678e-04,  3.20358481e-03,  2.15633260e-03,\n",
            "       -2.13145046e-03, -1.62698142e-03,  1.06424827e-03,  3.24529188e-04,\n",
            "        9.53234616e-04, -3.20740190e-04, -8.76842183e-04,  6.66168984e-04,\n",
            "        3.28814669e-04,  4.11799101e-06,  4.79059872e-06,  0.00000000e+00,\n",
            "        0.00000000e+00,  0.00000000e+00,  3.27380549e-05,  1.94749155e-04,\n",
            "       -6.60805614e-04, -1.00735563e-03,  4.48338717e-04, -2.21292255e-04,\n",
            "       -7.46155682e-04, -3.44637176e-03, -6.67441962e-03, -6.01111958e-03,\n",
            "       -3.01454496e-03, -5.58933825e-05,  2.02808203e-03, -5.06709330e-06,\n",
            "       -4.06262418e-03, -2.16677808e-03,  6.74938143e-04,  5.06775221e-04,\n",
            "        1.53069536e-03, -3.13738245e-04,  2.34387961e-04,  1.23938185e-03,\n",
            "        5.54794562e-04,  1.41200275e-04,  3.81923292e-06,  0.00000000e+00,\n",
            "        0.00000000e+00,  0.00000000e+00,  1.00639600e-05, -9.74838185e-05,\n",
            "       -8.91297415e-04, -5.79068088e-04, -6.58698147e-04, -1.71792216e-03,\n",
            "       -2.11583124e-03, -4.47872188e-03, -7.03414623e-03, -5.41925849e-03,\n",
            "       -2.25296547e-03,  1.09341159e-03,  1.70295138e-03, -4.65153542e-04,\n",
            "       -3.46988905e-03, -4.04323079e-03, -1.36807351e-03,  4.82029282e-05,\n",
            "       -8.08571232e-04, -1.20366737e-03, -4.03718965e-04,  8.89856427e-04,\n",
            "        4.94889799e-04,  2.98687228e-04,  4.41529835e-07,  0.00000000e+00,\n",
            "        0.00000000e+00,  0.00000000e+00,  0.00000000e+00, -6.58292120e-05,\n",
            "       -9.87489941e-04, -1.05805241e-03, -2.48643360e-03, -3.78548377e-03,\n",
            "       -2.78576161e-03, -1.64465071e-03, -1.84239575e-03, -2.50392081e-03,\n",
            "       -9.31454590e-04,  4.24907805e-04, -1.73402485e-04, -1.20348786e-03,\n",
            "       -3.94316763e-03, -6.22132281e-03, -1.84074696e-03, -1.69997616e-03,\n",
            "       -1.81895646e-03, -1.66329776e-03, -5.71116223e-04,  5.39851142e-04,\n",
            "        4.88383404e-04,  2.39191228e-04,  8.02484556e-06,  0.00000000e+00,\n",
            "        0.00000000e+00,  0.00000000e+00,  0.00000000e+00, -1.40688644e-04,\n",
            "       -9.29222326e-04, -8.70188989e-04, -1.72657135e-03, -4.21572104e-03,\n",
            "       -5.22430521e-03, -3.17835878e-03, -2.19659740e-03, -2.04223115e-03,\n",
            "       -2.08094227e-03, -2.52817292e-03, -1.67904410e-03, -2.83779670e-03,\n",
            "       -4.33881301e-03, -3.35414335e-03, -2.05118116e-03, -2.89150001e-03,\n",
            "       -1.51816534e-03, -8.83127213e-04, -4.67889855e-04,  4.89041675e-04,\n",
            "        4.81513824e-04,  3.45312321e-04,  1.51853921e-04,  0.00000000e+00,\n",
            "        0.00000000e+00,  0.00000000e+00,  2.09503814e-05,  2.25388649e-05,\n",
            "       -4.55817062e-04, -6.32629963e-04, -6.63132232e-04, -4.44657682e-03,\n",
            "       -4.75768745e-03, -3.05049657e-03, -1.87659066e-03, -8.09543009e-04,\n",
            "       -3.53257172e-04, -2.40020541e-04, -1.05692225e-03, -2.68880022e-03,\n",
            "       -3.22052790e-03, -1.72918243e-03, -2.33781897e-03, -1.33401027e-03,\n",
            "        3.37555743e-04,  5.03656454e-04, -7.83732627e-04, -2.95996899e-04,\n",
            "        3.03824199e-04,  1.70068335e-04,  6.85198320e-05,  0.00000000e+00,\n",
            "        0.00000000e+00,  0.00000000e+00,  1.16149886e-05,  8.80201260e-05,\n",
            "        3.15038895e-04,  4.31098684e-04, -7.52103151e-05, -2.02660006e-03,\n",
            "       -1.98830245e-03, -6.78934099e-04,  8.35461309e-04,  9.31077870e-04,\n",
            "       -1.13056111e-03, -2.15942040e-03, -2.61997175e-03, -3.13877640e-03,\n",
            "       -2.94526946e-03, -8.52032681e-04, -3.53554322e-04,  1.26453233e-03,\n",
            "        1.52362278e-03,  1.07471761e-03,  3.37091682e-04, -1.36041330e-04,\n",
            "        2.51401041e-04,  1.18290183e-04,  0.00000000e+00,  0.00000000e+00,\n",
            "        0.00000000e+00,  0.00000000e+00,  1.38312171e-04,  1.62052878e-04,\n",
            "        7.15686590e-04,  1.65871507e-03,  1.94210233e-03,  1.38108130e-03,\n",
            "       -2.78348889e-04, -5.03582123e-05,  1.17388705e-03,  6.56382006e-04,\n",
            "       -3.97776079e-04, -1.53995818e-03, -2.21494935e-03, -1.94885873e-03,\n",
            "       -9.24921129e-04,  3.18071747e-04,  1.16833230e-03,  1.53105590e-03,\n",
            "        9.11335403e-04,  3.80261510e-04,  5.37934538e-04,  4.27537394e-04,\n",
            "        3.08596093e-04,  5.07572404e-05,  0.00000000e+00,  0.00000000e+00,\n",
            "        0.00000000e+00,  0.00000000e+00,  2.07903329e-04,  1.61930424e-04,\n",
            "        7.32831541e-04,  1.69779768e-03,  2.62858346e-03,  2.83068325e-03,\n",
            "        3.14122718e-03,  3.02699581e-03,  2.38529989e-03,  2.27559172e-03,\n",
            "        1.56557187e-03,  1.09008094e-03,  1.41180004e-04, -1.03858102e-03,\n",
            "       -6.84886472e-04,  5.60382614e-05,  3.08320305e-04,  1.68866443e-03,\n",
            "        1.00327923e-03,  4.15652932e-04,  4.83721495e-04,  1.91310988e-04,\n",
            "        2.66449406e-05,  4.76986031e-07,  0.00000000e+00,  0.00000000e+00,\n",
            "        0.00000000e+00,  0.00000000e+00,  3.31118754e-05,  1.27311534e-04,\n",
            "        5.58427651e-04,  1.11039402e-03,  1.91557291e-03,  2.64401967e-03,\n",
            "        3.00645689e-03,  3.23954457e-03,  4.19214182e-03,  3.76633415e-03,\n",
            "        4.01809160e-03,  2.66938144e-03, -3.73462564e-04,  3.19244340e-04,\n",
            "        5.25188923e-04,  2.01280433e-04,  2.96912214e-04,  1.50249235e-03,\n",
            "        7.64893601e-04, -1.40281787e-04,  1.87738915e-04,  1.60779717e-04,\n",
            "        5.35866420e-05,  5.66477365e-06,  3.17901481e-06,  0.00000000e+00,\n",
            "        0.00000000e+00,  0.00000000e+00,  2.42070346e-05,  7.63475327e-05,\n",
            "        4.46845312e-04,  9.08811286e-04,  1.40965520e-03,  2.29150523e-03,\n",
            "        2.37526838e-03,  2.72287661e-03,  2.49537360e-03,  2.13541882e-03,\n",
            "        3.07997526e-03,  1.24249083e-03, -1.23971654e-03,  5.92965516e-04,\n",
            "        1.82681833e-04,  9.09923692e-05, -7.75773078e-04,  8.35108862e-04,\n",
            "        4.03009733e-04, -5.11005346e-04,  1.73745007e-04,  9.13521944e-05,\n",
            "        1.12605067e-05,  2.64357232e-06,  6.04507022e-06,  0.00000000e+00,\n",
            "        0.00000000e+00,  0.00000000e+00,  3.18758765e-07,  2.30986734e-05,\n",
            "        1.69034756e-04,  5.32664824e-04,  1.03608437e-03,  1.02854311e-03,\n",
            "        1.31833670e-03,  1.89788593e-03,  9.90108936e-04,  1.13995653e-03,\n",
            "        2.23901821e-03, -3.70264519e-04, -7.98720634e-04, -3.52605508e-04,\n",
            "       -4.04769729e-04, -4.74261207e-04, -1.30985910e-03,  1.96474313e-04,\n",
            "       -2.25808180e-05, -4.68963204e-04,  1.34001966e-05,  9.29246380e-05,\n",
            "        1.53857090e-05,  1.36874246e-06,  3.13486180e-06,  0.00000000e+00,\n",
            "        0.00000000e+00,  0.00000000e+00,  1.99646895e-08,  4.28601816e-05,\n",
            "        1.87187645e-04,  3.65624117e-04,  4.89154656e-04,  4.56429494e-04,\n",
            "        9.79343778e-04,  3.85892403e-04,  5.70750562e-05,  8.47028976e-04,\n",
            "        6.89548149e-04, -1.15590182e-03, -1.24998600e-03, -7.00110104e-04,\n",
            "        1.88872422e-04, -9.84865823e-04, -9.19779064e-04, -7.24550802e-04,\n",
            "       -6.84500963e-04, -6.57803685e-06,  4.87734251e-05,  7.66649755e-05,\n",
            "        4.84287084e-05,  0.00000000e+00,  0.00000000e+00,  0.00000000e+00,\n",
            "        0.00000000e+00,  0.00000000e+00,  0.00000000e+00,  5.80788801e-05,\n",
            "        2.19001595e-04,  3.23067536e-04, -6.30994473e-05,  4.68868122e-04,\n",
            "        1.34149007e-03, -3.38818179e-04,  8.98311730e-04,  9.51840542e-04,\n",
            "        1.36172958e-03, -4.32026281e-04,  2.90014374e-04,  2.23869435e-03,\n",
            "        5.49898308e-04, -4.55959147e-04, -6.31083036e-04, -1.05152227e-04,\n",
            "        3.38142592e-04,  2.76659644e-04,  6.27880872e-05,  7.64468859e-05,\n",
            "        4.80481649e-05,  0.00000000e+00,  0.00000000e+00,  0.00000000e+00,\n",
            "        0.00000000e+00,  0.00000000e+00,  0.00000000e+00,  2.77698473e-06,\n",
            "        9.17622092e-05,  2.39012486e-04,  4.94247419e-04,  9.83881881e-04,\n",
            "        8.24044575e-04,  2.44852854e-05,  2.08826410e-03,  2.38079298e-03,\n",
            "        2.14612158e-03,  1.86485029e-03,  1.87182275e-03,  2.03593518e-03,\n",
            "        1.77395053e-03,  1.01439131e-03,  1.07923243e-03,  5.69658470e-04,\n",
            "        3.62221763e-04,  1.00431171e-04,  7.87701720e-05,  1.00238409e-04,\n",
            "        2.19530411e-05,  0.00000000e+00,  0.00000000e+00,  0.00000000e+00,\n",
            "        0.00000000e+00,  0.00000000e+00,  0.00000000e+00,  5.12088445e-06,\n",
            "        4.79318005e-05,  8.22619986e-05,  1.60044423e-04,  1.57884104e-04,\n",
            "       -4.26466315e-04, -1.25875740e-04,  2.81821471e-04,  2.03373682e-04,\n",
            "        3.26010981e-04,  3.29486589e-04,  8.39236949e-04,  8.05050193e-04,\n",
            "        6.98919990e-04,  6.72831957e-04,  6.18497841e-04,  4.55928996e-04,\n",
            "        6.22581283e-05,  1.63372388e-05,  0.00000000e+00,  0.00000000e+00,\n",
            "        0.00000000e+00,  0.00000000e+00,  0.00000000e+00,  0.00000000e+00,\n",
            "        0.00000000e+00,  0.00000000e+00,  0.00000000e+00,  0.00000000e+00,\n",
            "        0.00000000e+00,  1.05896888e-05,  2.55971281e-05,  2.35117459e-05,\n",
            "        7.58670058e-06,  1.77862296e-06,  3.88258013e-06,  4.57006827e-05,\n",
            "        6.88043365e-05,  6.66393316e-05,  4.62312819e-05,  4.59721523e-05,\n",
            "        5.19489149e-05,  4.25028556e-05,  1.56669965e-04,  7.20640164e-05,\n",
            "        0.00000000e+00,  0.00000000e+00,  0.00000000e+00,  0.00000000e+00,\n",
            "        0.00000000e+00,  0.00000000e+00,  0.00000000e+00,  0.00000000e+00],\n",
            "      dtype=float32)]\n",
            "Época: 3/5, Perda: 0.4638, Acurácia: 89.90%\n",
            "Gradientes da classe 4: [array([ 0.00000000e+00,  0.00000000e+00,  0.00000000e+00,  0.00000000e+00,\n",
            "        0.00000000e+00,  0.00000000e+00,  0.00000000e+00,  0.00000000e+00,\n",
            "        0.00000000e+00,  0.00000000e+00,  0.00000000e+00,  0.00000000e+00,\n",
            "        0.00000000e+00,  0.00000000e+00,  0.00000000e+00,  0.00000000e+00,\n",
            "        0.00000000e+00,  0.00000000e+00,  0.00000000e+00,  0.00000000e+00,\n",
            "        0.00000000e+00,  0.00000000e+00,  0.00000000e+00,  0.00000000e+00,\n",
            "        0.00000000e+00,  0.00000000e+00,  0.00000000e+00,  0.00000000e+00,\n",
            "        0.00000000e+00,  0.00000000e+00,  0.00000000e+00,  0.00000000e+00,\n",
            "        0.00000000e+00,  0.00000000e+00,  0.00000000e+00,  0.00000000e+00,\n",
            "        0.00000000e+00,  0.00000000e+00,  1.86104171e-05,  1.15384588e-04,\n",
            "        0.00000000e+00,  2.47623848e-05,  1.15720177e-04,  1.55253088e-04,\n",
            "        9.27007932e-05,  1.41155411e-04,  7.07750878e-05,  0.00000000e+00,\n",
            "        0.00000000e+00,  0.00000000e+00,  0.00000000e+00,  0.00000000e+00,\n",
            "        0.00000000e+00,  0.00000000e+00,  0.00000000e+00,  0.00000000e+00,\n",
            "        0.00000000e+00,  0.00000000e+00,  0.00000000e+00,  0.00000000e+00,\n",
            "        0.00000000e+00,  0.00000000e+00,  0.00000000e+00,  0.00000000e+00,\n",
            "        0.00000000e+00,  0.00000000e+00,  1.90254228e-04,  4.53153334e-04,\n",
            "        2.59669614e-04,  2.31581143e-04,  4.86270495e-04,  1.63154589e-04,\n",
            "       -2.21822862e-04,  2.71127676e-04,  2.30093661e-04,  1.16486102e-04,\n",
            "        5.05776261e-05,  7.61689589e-05,  3.84226187e-05,  7.60491844e-07,\n",
            "        0.00000000e+00,  0.00000000e+00,  0.00000000e+00,  0.00000000e+00,\n",
            "        0.00000000e+00,  0.00000000e+00,  0.00000000e+00,  0.00000000e+00,\n",
            "        0.00000000e+00,  0.00000000e+00,  2.88960860e-06,  5.33074926e-05,\n",
            "        1.94738896e-05,  3.47820387e-05,  4.91481158e-04,  6.27048197e-04,\n",
            "        6.19744766e-04,  9.48779751e-04,  6.96132309e-04,  1.31328357e-04,\n",
            "       -7.05953571e-05,  4.96450695e-04,  5.70576580e-04,  5.63876645e-04,\n",
            "        4.74367553e-04,  2.26999517e-04,  1.49628286e-05,  6.11699988e-07,\n",
            "        0.00000000e+00,  0.00000000e+00,  0.00000000e+00,  0.00000000e+00,\n",
            "        0.00000000e+00,  0.00000000e+00,  0.00000000e+00,  0.00000000e+00,\n",
            "       -3.15632315e-05, -4.39061951e-05,  9.59576937e-05,  2.42351467e-04,\n",
            "        1.36176139e-04, -5.68355375e-04, -3.28318361e-04,  4.91821673e-04,\n",
            "        1.31205772e-03,  1.15299318e-03,  4.65493620e-04,  3.98728589e-04,\n",
            "        6.99092983e-04,  1.43969944e-03,  1.53525011e-03,  1.02065864e-03,\n",
            "        2.12189538e-04,  8.82450113e-05, -1.27729916e-04, -9.50855465e-05,\n",
            "        4.66195934e-06,  0.00000000e+00,  0.00000000e+00,  0.00000000e+00,\n",
            "        0.00000000e+00,  0.00000000e+00,  0.00000000e+00, -5.43537135e-06,\n",
            "       -1.64352517e-04, -1.36379749e-04,  2.28537494e-04,  3.43746156e-04,\n",
            "       -1.00001787e-04, -1.16684195e-03, -1.33422203e-03, -2.48317461e-04,\n",
            "        7.93734507e-04,  6.14404504e-04, -2.46423500e-04,  3.76366632e-04,\n",
            "        3.80462327e-04,  3.61936225e-04,  9.66397871e-04,  9.50116082e-04,\n",
            "        3.80738697e-04, -9.06781410e-04, -1.40891108e-03, -1.76359783e-03,\n",
            "       -1.09733944e-03, -4.61238204e-04,  1.26939822e-05,  0.00000000e+00,\n",
            "        0.00000000e+00,  0.00000000e+00,  0.00000000e+00, -1.16246214e-04,\n",
            "       -2.85893970e-04, -3.86887026e-04,  2.34022853e-04,  4.57506656e-04,\n",
            "       -4.70765401e-04, -1.31506543e-03, -1.08018238e-03, -2.19429494e-04,\n",
            "        1.28668686e-03,  1.19228230e-03,  2.42523430e-03,  3.80745577e-03,\n",
            "        4.36106417e-03,  2.17174320e-03,  1.72429462e-03,  1.19234726e-03,\n",
            "        1.00148609e-05, -2.13028071e-03, -2.87954905e-03, -2.31787167e-03,\n",
            "       -8.21496011e-04, -3.68386303e-04, -7.04615231e-05,  4.84292650e-05,\n",
            "        0.00000000e+00,  0.00000000e+00,  2.62136678e-06, -3.43906795e-05,\n",
            "       -2.99739913e-04, -5.46251016e-04,  1.83994212e-04,  2.33604529e-04,\n",
            "       -7.27452571e-04, -4.48309322e-04,  4.67423582e-04,  8.89555842e-04,\n",
            "        1.80671131e-03,  3.52921011e-03,  5.04452875e-03,  7.18544796e-03,\n",
            "        6.04070676e-03,  3.25592747e-03,  1.43898802e-03,  1.59881124e-03,\n",
            "       -1.71069987e-05, -1.25144492e-03, -2.28990824e-03, -1.79766084e-03,\n",
            "       -4.85491764e-04, -1.30724284e-05, -8.92783464e-06,  2.85897604e-05,\n",
            "        0.00000000e+00,  0.00000000e+00,  2.38567122e-06, -5.86794777e-05,\n",
            "       -4.23038495e-04, -3.40708793e-04, -4.15485352e-04, -4.20262193e-04,\n",
            "        7.44785357e-05,  4.02787176e-04,  9.50256595e-04,  1.23053882e-03,\n",
            "        2.32520420e-03,  3.17669008e-03,  4.54518385e-03,  6.29641954e-03,\n",
            "        3.92671069e-03,  1.97871355e-03,  3.29153449e-03,  1.86949852e-03,\n",
            "        1.36912125e-03,  2.87257630e-04, -1.34192454e-03, -9.82612139e-04,\n",
            "        9.97496303e-04,  5.43418864e-04,  1.02763981e-04,  0.00000000e+00,\n",
            "        0.00000000e+00,  2.91485576e-05,  7.38397284e-05,  5.14764797e-05,\n",
            "       -1.65758203e-04, -3.04056710e-04, -2.47295160e-04,  2.06320547e-04,\n",
            "        1.39574590e-03,  1.39972195e-03,  1.63630571e-03,  1.13035168e-03,\n",
            "        1.16304273e-03,  1.27717131e-03,  4.28817840e-03,  5.24609210e-03,\n",
            "        6.92724832e-04,  8.77787825e-04,  2.30981410e-03,  1.94142666e-03,\n",
            "        1.57149939e-03,  4.18057258e-04, -1.20392174e-03,  2.00033013e-04,\n",
            "        1.04300200e-03,  2.45035393e-04,  6.16467732e-05,  0.00000000e+00,\n",
            "        0.00000000e+00,  3.36329504e-06,  4.34498943e-04,  5.17947017e-04,\n",
            "        4.65202349e-04, -2.14694475e-04,  2.35097214e-05,  6.68313703e-04,\n",
            "        1.06499810e-03,  3.53820942e-04,  4.03336540e-04, -5.58624160e-04,\n",
            "       -1.28459476e-03,  8.07179254e-04,  3.34381126e-03,  3.77677055e-03,\n",
            "       -3.36344005e-04, -1.84098550e-04,  1.65062363e-03,  1.42216403e-03,\n",
            "        1.10571610e-03, -9.19442391e-05, -1.41601567e-03,  4.77263704e-04,\n",
            "        4.26057784e-04,  6.03047156e-05,  5.38232086e-07,  0.00000000e+00,\n",
            "        0.00000000e+00,  0.00000000e+00,  3.11880314e-04,  5.25551965e-04,\n",
            "        2.20198737e-04, -6.53545139e-04,  5.50046389e-04,  7.99259113e-04,\n",
            "        5.01587405e-04, -1.51486974e-03, -2.13838671e-03, -3.29138781e-03,\n",
            "       -1.52548077e-03,  9.74613708e-04,  3.15102469e-03,  2.12822063e-03,\n",
            "       -2.08828808e-03, -1.55447866e-03,  1.10482099e-03,  3.49673210e-04,\n",
            "        9.69349523e-04, -3.14050470e-04, -8.56358325e-04,  6.78778160e-04,\n",
            "        3.32423515e-04,  4.00242243e-06,  4.54541669e-06,  0.00000000e+00,\n",
            "        0.00000000e+00,  0.00000000e+00,  3.16454534e-05,  1.96962181e-04,\n",
            "       -6.57994999e-04, -1.00202591e-03,  4.56843292e-04, -2.02364114e-04,\n",
            "       -7.17188814e-04, -3.35345720e-03, -6.53170422e-03, -5.90171991e-03,\n",
            "       -2.98854453e-03, -8.06537573e-05,  1.99350459e-03, -9.72149428e-06,\n",
            "       -4.00313083e-03, -2.09603226e-03,  7.15163536e-04,  5.17555629e-04,\n",
            "        1.51957502e-03, -3.11636599e-04,  2.44938012e-04,  1.24271051e-03,\n",
            "        5.52620797e-04,  1.40517834e-04,  3.62376545e-06,  0.00000000e+00,\n",
            "        0.00000000e+00,  0.00000000e+00,  9.70069777e-06, -9.50560498e-05,\n",
            "       -8.81087850e-04, -5.61099849e-04, -6.29180984e-04, -1.66696543e-03,\n",
            "       -2.02776189e-03, -4.34879772e-03, -6.89603109e-03, -5.34527516e-03,\n",
            "       -2.25394359e-03,  1.05432305e-03,  1.65899971e-03, -4.83303855e-04,\n",
            "       -3.41340690e-03, -3.96955153e-03, -1.33903895e-03,  4.69298102e-05,\n",
            "       -7.94836495e-04, -1.18138304e-03, -3.92381509e-04,  8.89407529e-04,\n",
            "        4.91350365e-04,  2.97297200e-04,  4.18932416e-07,  0.00000000e+00,\n",
            "        0.00000000e+00,  0.00000000e+00,  0.00000000e+00, -6.39777718e-05,\n",
            "       -9.69283283e-04, -1.02551724e-03, -2.42326129e-03, -3.67367174e-03,\n",
            "       -2.64563714e-03, -1.50904641e-03, -1.72200834e-03, -2.43661879e-03,\n",
            "       -9.16192424e-04,  4.01479600e-04, -1.94051478e-04, -1.18690019e-03,\n",
            "       -3.86237260e-03, -6.11205259e-03, -1.78729754e-03, -1.66087039e-03,\n",
            "       -1.77306216e-03, -1.63947919e-03, -5.63344278e-04,  5.41550689e-04,\n",
            "        4.83148673e-04,  2.37452216e-04,  8.01360238e-06,  0.00000000e+00,\n",
            "        0.00000000e+00,  0.00000000e+00,  0.00000000e+00, -1.37715630e-04,\n",
            "       -9.12537973e-04, -8.29730183e-04, -1.64228783e-03, -4.07034485e-03,\n",
            "       -5.06314309e-03, -3.03601171e-03, -2.07115617e-03, -1.94468559e-03,\n",
            "       -2.00387742e-03, -2.47387844e-03, -1.63894170e-03, -2.76124664e-03,\n",
            "       -4.22412017e-03, -3.26117547e-03, -1.98165979e-03, -2.83091934e-03,\n",
            "       -1.48088776e-03, -8.77332874e-04, -4.60764655e-04,  4.91925166e-04,\n",
            "        4.74158733e-04,  3.41384264e-04,  1.51391519e-04,  0.00000000e+00,\n",
            "        0.00000000e+00,  0.00000000e+00,  2.11005736e-05,  2.16735352e-05,\n",
            "       -4.44245612e-04, -5.93651086e-04, -5.94820071e-04, -4.32794029e-03,\n",
            "       -4.61900048e-03, -2.91853305e-03, -1.76197081e-03, -7.16639857e-04,\n",
            "       -2.73103477e-04, -1.67842256e-04, -9.84776532e-04, -2.58609513e-03,\n",
            "       -3.10922251e-03, -1.64719846e-03, -2.25346815e-03, -1.29599520e-03,\n",
            "        3.40796221e-04,  4.97219444e-04, -7.77069770e-04, -2.99604726e-04,\n",
            "        2.97332270e-04,  1.68816972e-04,  6.84238330e-05,  0.00000000e+00,\n",
            "        0.00000000e+00,  0.00000000e+00,  1.13204660e-05,  8.48744530e-05,\n",
            "        3.14903446e-04,  4.41747892e-04, -4.26829065e-05, -1.96783524e-03,\n",
            "       -1.93123403e-03, -6.39593170e-04,  8.61951034e-04,  9.64348263e-04,\n",
            "       -1.07126287e-03, -2.09468137e-03, -2.55054235e-03, -3.03959707e-03,\n",
            "       -2.86739646e-03, -8.15687876e-04, -3.22908338e-04,  1.26484782e-03,\n",
            "        1.50592020e-03,  1.04721170e-03,  3.18612758e-04, -1.45705708e-04,\n",
            "        2.45077274e-04,  1.16567790e-04,  0.00000000e+00,  0.00000000e+00,\n",
            "        0.00000000e+00,  0.00000000e+00,  1.38404735e-04,  1.57913761e-04,\n",
            "        7.06035818e-04,  1.63890631e-03,  1.91905722e-03,  1.36357744e-03,\n",
            "       -2.87304341e-04, -6.67227432e-05,  1.13669201e-03,  6.26300345e-04,\n",
            "       -4.11578629e-04, -1.53216510e-03, -2.18614470e-03, -1.90784479e-03,\n",
            "       -9.19508981e-04,  3.05516180e-04,  1.14984112e-03,  1.50303089e-03,\n",
            "        8.73669866e-04,  3.50918999e-04,  5.18440618e-04,  4.17425763e-04,\n",
            "        3.03770095e-04,  4.99299385e-05,  0.00000000e+00,  0.00000000e+00,\n",
            "        0.00000000e+00,  0.00000000e+00,  2.09042686e-04,  1.57847040e-04,\n",
            "        7.17757794e-04,  1.66620745e-03,  2.57474231e-03,  2.76576239e-03,\n",
            "        3.07085132e-03,  2.95040384e-03,  2.30834610e-03,  2.20374740e-03,\n",
            "        1.51278044e-03,  1.05361128e-03,  1.43384328e-04, -1.03328913e-03,\n",
            "       -6.97777316e-04,  2.49510485e-05,  2.82008550e-04,  1.65275892e-03,\n",
            "        9.81831923e-04,  3.97612515e-04,  4.70742496e-04,  1.85154640e-04,\n",
            "        2.53937087e-05,  4.37323365e-07,  0.00000000e+00,  0.00000000e+00,\n",
            "        0.00000000e+00,  0.00000000e+00,  3.23817912e-05,  1.22495432e-04,\n",
            "        5.39809524e-04,  1.07328070e-03,  1.85369002e-03,  2.56703305e-03,\n",
            "        2.91639799e-03,  3.14149749e-03,  4.08504251e-03,  3.67130665e-03,\n",
            "        3.93730821e-03,  2.61306716e-03, -3.86944041e-04,  3.04059358e-04,\n",
            "        4.97053494e-04,  1.72148793e-04,  2.76878476e-04,  1.48124038e-03,\n",
            "        7.50523002e-04, -1.48711275e-04,  1.79425988e-04,  1.54931971e-04,\n",
            "        5.14051535e-05,  5.47973332e-06,  3.01631349e-06,  0.00000000e+00,\n",
            "        0.00000000e+00,  0.00000000e+00,  2.36512187e-05,  7.33892957e-05,\n",
            "        4.30946035e-04,  8.77204700e-04,  1.36133784e-03,  2.22074986e-03,\n",
            "        2.29286659e-03,  2.62859673e-03,  2.40423996e-03,  2.06197938e-03,\n",
            "        3.01953987e-03,  1.21031958e-03, -1.23738928e-03,  5.89728996e-04,\n",
            "        1.52289722e-04,  6.99067023e-05, -7.80991337e-04,  8.22110043e-04,\n",
            "        3.91344045e-04, -5.15132153e-04,  1.65068777e-04,  8.76088598e-05,\n",
            "        1.05964773e-05,  2.50174526e-06,  5.73722082e-06,  0.00000000e+00,\n",
            "        0.00000000e+00,  0.00000000e+00,  2.99560185e-07,  2.19252852e-05,\n",
            "        1.61742879e-04,  5.12747560e-04,  1.00176316e-03,  9.85034276e-04,\n",
            "        1.26425875e-03,  1.82772276e-03,  9.40237194e-04,  1.10519095e-03,\n",
            "        2.21325504e-03, -3.67986155e-04, -7.70604063e-04, -3.40208877e-04,\n",
            "       -4.26629878e-04, -4.88184858e-04, -1.31003605e-03,  1.97440662e-04,\n",
            "       -2.06902623e-05, -4.69774532e-04,  9.50332651e-06,  8.95179473e-05,\n",
            "        1.47772080e-05,  1.29869045e-06,  2.97442034e-06,  0.00000000e+00,\n",
            "        0.00000000e+00,  0.00000000e+00,  1.86176212e-08,  4.16759540e-05,\n",
            "        1.81671363e-04,  3.54082324e-04,  4.72372863e-04,  4.32735833e-04,\n",
            "        9.38146666e-04,  3.53502081e-04,  3.24856373e-05,  8.29197001e-04,\n",
            "        6.77058822e-04, -1.13846967e-03, -1.22228079e-03, -6.90689019e-04,\n",
            "        1.66231097e-04, -9.87015897e-04, -9.10471310e-04, -7.05069921e-04,\n",
            "       -6.70073903e-04, -5.93053483e-06,  4.62698481e-05,  7.39466195e-05,\n",
            "        4.67316422e-05,  0.00000000e+00,  0.00000000e+00,  0.00000000e+00,\n",
            "        0.00000000e+00,  0.00000000e+00,  0.00000000e+00,  5.65310256e-05,\n",
            "        2.14335829e-04,  3.15093435e-04, -6.62874882e-05,  4.53274697e-04,\n",
            "        1.31619826e-03, -3.50839633e-04,  8.73731216e-04,  9.27596237e-04,\n",
            "        1.33532425e-03, -4.40428616e-04,  2.79379019e-04,  2.19479203e-03,\n",
            "        5.21662179e-04, -4.53277433e-04, -6.17189216e-04, -9.27232541e-05,\n",
            "        3.42281273e-04,  2.75921018e-04,  6.08279843e-05,  7.38304298e-05,\n",
            "        4.63725955e-05,  0.00000000e+00,  0.00000000e+00,  0.00000000e+00,\n",
            "        0.00000000e+00,  0.00000000e+00,  0.00000000e+00,  2.65641256e-06,\n",
            "        8.99812876e-05,  2.34331601e-04,  4.86067613e-04,  9.73453978e-04,\n",
            "        8.13722843e-04,  1.46651291e-05,  2.05190852e-03,  2.33435724e-03,\n",
            "        2.09788652e-03,  1.82710006e-03,  1.84188189e-03,  1.99933886e-03,\n",
            "        1.73962198e-03,  9.96552641e-04,  1.06939860e-03,  5.68748976e-04,\n",
            "        3.59753758e-04,  9.93183348e-05,  7.60599651e-05,  9.67428277e-05,\n",
            "        2.11874776e-05,  0.00000000e+00,  0.00000000e+00,  0.00000000e+00,\n",
            "        0.00000000e+00,  0.00000000e+00,  0.00000000e+00,  5.00958140e-06,\n",
            "        4.65824451e-05,  7.96302484e-05,  1.54510402e-04,  1.51279368e-04,\n",
            "       -4.33013833e-04, -1.35894821e-04,  2.69828946e-04,  1.95319619e-04,\n",
            "        3.16501653e-04,  3.18559469e-04,  8.25369614e-04,  7.91280065e-04,\n",
            "        6.84311264e-04,  6.60551363e-04,  6.13519805e-04,  4.51995060e-04,\n",
            "        6.01648462e-05,  1.57879385e-05,  0.00000000e+00,  0.00000000e+00,\n",
            "        0.00000000e+00,  0.00000000e+00,  0.00000000e+00,  0.00000000e+00,\n",
            "        0.00000000e+00,  0.00000000e+00,  0.00000000e+00,  0.00000000e+00,\n",
            "        0.00000000e+00,  1.00355383e-05,  2.43605718e-05,  2.23888310e-05,\n",
            "        7.12593965e-06,  1.64339644e-06,  3.69031864e-06,  4.39672840e-05,\n",
            "        6.60452351e-05,  6.38547717e-05,  4.42356286e-05,  4.36786358e-05,\n",
            "        4.93478256e-05,  4.08100677e-05,  1.55107497e-04,  7.15360875e-05,\n",
            "        0.00000000e+00,  0.00000000e+00,  0.00000000e+00,  0.00000000e+00,\n",
            "        0.00000000e+00,  0.00000000e+00,  0.00000000e+00,  0.00000000e+00],\n",
            "      dtype=float32)]\n",
            "Época: 4/5, Perda: 0.4571, Acurácia: 90.30%\n",
            "Gradientes da classe 4: [array([ 0.00000000e+00,  0.00000000e+00,  0.00000000e+00,  0.00000000e+00,\n",
            "        0.00000000e+00,  0.00000000e+00,  0.00000000e+00,  0.00000000e+00,\n",
            "        0.00000000e+00,  0.00000000e+00,  0.00000000e+00,  0.00000000e+00,\n",
            "        0.00000000e+00,  0.00000000e+00,  0.00000000e+00,  0.00000000e+00,\n",
            "        0.00000000e+00,  0.00000000e+00,  0.00000000e+00,  0.00000000e+00,\n",
            "        0.00000000e+00,  0.00000000e+00,  0.00000000e+00,  0.00000000e+00,\n",
            "        0.00000000e+00,  0.00000000e+00,  0.00000000e+00,  0.00000000e+00,\n",
            "        0.00000000e+00,  0.00000000e+00,  0.00000000e+00,  0.00000000e+00,\n",
            "        0.00000000e+00,  0.00000000e+00,  0.00000000e+00,  0.00000000e+00,\n",
            "        0.00000000e+00,  0.00000000e+00,  1.85282715e-05,  1.14875271e-04,\n",
            "        0.00000000e+00,  2.38333378e-05,  1.13298469e-04,  1.53226079e-04,\n",
            "        9.00060331e-05,  1.37062423e-04,  6.87133652e-05,  0.00000000e+00,\n",
            "        0.00000000e+00,  0.00000000e+00,  0.00000000e+00,  0.00000000e+00,\n",
            "        0.00000000e+00,  0.00000000e+00,  0.00000000e+00,  0.00000000e+00,\n",
            "        0.00000000e+00,  0.00000000e+00,  0.00000000e+00,  0.00000000e+00,\n",
            "        0.00000000e+00,  0.00000000e+00,  0.00000000e+00,  0.00000000e+00,\n",
            "        0.00000000e+00,  0.00000000e+00,  1.88657636e-04,  4.47213883e-04,\n",
            "        2.54396931e-04,  2.27206125e-04,  4.80351737e-04,  1.55913149e-04,\n",
            "       -2.31534155e-04,  2.61506153e-04,  2.23358657e-04,  1.12480717e-04,\n",
            "        4.88650840e-05,  7.41348413e-05,  3.75076852e-05,  7.11335190e-07,\n",
            "        0.00000000e+00,  0.00000000e+00,  0.00000000e+00,  0.00000000e+00,\n",
            "        0.00000000e+00,  0.00000000e+00,  0.00000000e+00,  0.00000000e+00,\n",
            "        0.00000000e+00,  0.00000000e+00,  2.73218052e-06,  5.29293247e-05,\n",
            "        1.85291847e-05,  3.33807075e-05,  4.87124082e-04,  6.17665937e-04,\n",
            "        6.06448390e-04,  9.32039926e-04,  6.77765522e-04,  1.08359847e-04,\n",
            "       -9.49354144e-05,  4.72303887e-04,  5.52545709e-04,  5.48976474e-04,\n",
            "        4.65135643e-04,  2.22721370e-04,  1.51944205e-05,  5.72160957e-07,\n",
            "        0.00000000e+00,  0.00000000e+00,  0.00000000e+00,  0.00000000e+00,\n",
            "        0.00000000e+00,  0.00000000e+00,  0.00000000e+00,  0.00000000e+00,\n",
            "       -3.11545009e-05, -4.37389535e-05,  9.42453844e-05,  2.40879323e-04,\n",
            "        1.34694070e-04, -5.65410242e-04, -3.27954418e-04,  4.75306471e-04,\n",
            "        1.28639769e-03,  1.12289109e-03,  4.33506706e-04,  3.54671211e-04,\n",
            "        6.51749433e-04,  1.40066608e-03,  1.51286228e-03,  1.00557425e-03,\n",
            "        2.12796411e-04,  9.01447056e-05, -1.22005418e-04, -9.13545955e-05,\n",
            "        4.49208665e-06,  0.00000000e+00,  0.00000000e+00,  0.00000000e+00,\n",
            "        0.00000000e+00,  0.00000000e+00,  0.00000000e+00, -5.30690977e-06,\n",
            "       -1.62156008e-04, -1.35751397e-04,  2.27736207e-04,  3.42765125e-04,\n",
            "       -9.82064885e-05, -1.15352811e-03, -1.32202299e-03, -2.45155476e-04,\n",
            "        7.80296396e-04,  5.88752679e-04, -2.88038136e-04,  3.10296105e-04,\n",
            "        3.08921037e-04,  3.02493572e-04,  9.42717132e-04,  9.45950975e-04,\n",
            "        3.92755086e-04, -8.79504543e-04, -1.37789082e-03, -1.73553871e-03,\n",
            "       -1.07758155e-03, -4.53531247e-04,  1.23273458e-05,  0.00000000e+00,\n",
            "        0.00000000e+00,  0.00000000e+00,  0.00000000e+00, -1.13952097e-04,\n",
            "       -2.80064589e-04, -3.81142192e-04,  2.34306004e-04,  4.55337256e-04,\n",
            "       -4.65591787e-04, -1.29809312e-03, -1.05876895e-03, -2.00538096e-04,\n",
            "        1.27044646e-03,  1.14975194e-03,  2.32745148e-03,  3.66912014e-03,\n",
            "        4.22219420e-03,  2.06731609e-03,  1.67170470e-03,  1.18468015e-03,\n",
            "        3.05052235e-05, -2.08760775e-03, -2.83433730e-03, -2.28101132e-03,\n",
            "       -7.97135057e-04, -3.58983350e-04, -6.89875451e-05,  4.72593638e-05,\n",
            "        0.00000000e+00,  0.00000000e+00,  2.44605803e-06, -3.28599563e-05,\n",
            "       -2.93369638e-04, -5.36139763e-04,  1.81579599e-04,  2.28890218e-04,\n",
            "       -7.26006983e-04, -4.38907213e-04,  4.70193976e-04,  8.74590711e-04,\n",
            "        1.74104259e-03,  3.41442414e-03,  4.87780524e-03,  6.98750932e-03,\n",
            "        5.86210890e-03,  3.12759914e-03,  1.37899839e-03,  1.59240421e-03,\n",
            "        8.36796244e-06, -1.22501107e-03, -2.24830583e-03, -1.75916799e-03,\n",
            "       -4.62839118e-04, -4.03049853e-06, -8.90328738e-06,  2.78583120e-05,\n",
            "        0.00000000e+00,  0.00000000e+00,  2.23258530e-06, -5.80336637e-05,\n",
            "       -4.15769988e-04, -3.34929820e-04, -4.18105104e-04, -4.27881576e-04,\n",
            "        6.10598654e-05,  3.90682049e-04,  9.31708491e-04,  1.17914181e-03,\n",
            "        2.24153395e-03,  3.05141858e-03,  4.38628392e-03,  6.12223428e-03,\n",
            "        3.79585405e-03,  1.89918792e-03,  3.25203710e-03,  1.88027718e-03,\n",
            "        1.39041897e-03,  3.11713695e-04, -1.30174344e-03, -9.45666863e-04,\n",
            "        9.95630864e-04,  5.41771995e-04,  1.00759018e-04,  0.00000000e+00,\n",
            "        0.00000000e+00,  2.88523534e-05,  7.40525720e-05,  5.21887378e-05,\n",
            "       -1.62715194e-04, -3.03733395e-04, -2.54448591e-04,  1.87953468e-04,\n",
            "        1.36772264e-03,  1.37567206e-03,  1.59386673e-03,  1.09118759e-03,\n",
            "        1.13001780e-03,  1.21388980e-03,  4.17479454e-03,  5.12906397e-03,\n",
            "        6.31971052e-04,  8.49185162e-04,  2.29774020e-03,  1.95167051e-03,\n",
            "        1.60201686e-03,  4.51442902e-04, -1.16696616e-03,  2.15660839e-04,\n",
            "        1.04221818e-03,  2.42724404e-04,  6.07121692e-05,  0.00000000e+00,\n",
            "        0.00000000e+00,  3.32911782e-06,  4.36453556e-04,  5.18037356e-04,\n",
            "        4.63832286e-04, -2.18063069e-04,  1.61087301e-05,  6.53738040e-04,\n",
            "        1.05396542e-03,  3.40897153e-04,  4.11024317e-04, -5.25012787e-04,\n",
            "       -1.25825312e-03,  7.93370302e-04,  3.28649790e-03,  3.71307484e-03,\n",
            "       -3.45596054e-04, -1.61674339e-04,  1.66913599e-03,  1.45325437e-03,\n",
            "        1.13716919e-03, -7.16609356e-05, -1.39494892e-03,  4.87264915e-04,\n",
            "        4.33138513e-04,  6.09431663e-05,  5.03362173e-07,  0.00000000e+00,\n",
            "        0.00000000e+00,  0.00000000e+00,  3.12696939e-04,  5.26188058e-04,\n",
            "        2.20605478e-04, -6.53702999e-04,  5.44890005e-04,  8.02974799e-04,\n",
            "        5.01169532e-04, -1.49469788e-03, -2.04905821e-03, -3.19752237e-03,\n",
            "       -1.49034045e-03,  9.50938091e-04,  3.10114794e-03,  2.10209144e-03,\n",
            "       -2.04561837e-03, -1.48553029e-03,  1.14118960e-03,  3.70839960e-04,\n",
            "        9.82570462e-04, -3.08316812e-04, -8.36793683e-04,  6.90675108e-04,\n",
            "        3.35841789e-04,  3.89611114e-06,  4.31961598e-06,  0.00000000e+00,\n",
            "        0.00000000e+00,  0.00000000e+00,  3.06043621e-05,  1.98969894e-04,\n",
            "       -6.55467447e-04, -9.97266616e-04,  4.63769276e-04, -1.86250720e-04,\n",
            "       -6.91340887e-04, -3.26594408e-03, -6.39581727e-03, -5.79673331e-03,\n",
            "       -2.96246214e-03, -1.02706894e-04,  1.96163170e-03, -1.26288505e-05,\n",
            "       -3.94444540e-03, -2.02878239e-03,  7.51122425e-04,  5.25778101e-04,\n",
            "        1.50789414e-03, -3.09675641e-04,  2.55071092e-04,  1.24570320e-03,\n",
            "        5.50441968e-04,  1.39819545e-04,  3.44374916e-06,  0.00000000e+00,\n",
            "        0.00000000e+00,  0.00000000e+00,  9.35702064e-06, -9.27985966e-05,\n",
            "       -8.71596334e-04, -5.44757466e-04, -6.02639280e-04, -1.62079185e-03,\n",
            "       -1.94659876e-03, -4.22705524e-03, -6.76467642e-03, -5.27356286e-03,\n",
            "       -2.25318735e-03,  1.01836829e-03,  1.61854213e-03, -4.98505076e-04,\n",
            "       -3.35811637e-03, -3.89985624e-03, -1.31255691e-03,  4.50613443e-05,\n",
            "       -7.81652285e-04, -1.15986250e-03, -3.81564634e-04,  8.88924056e-04,\n",
            "        4.87888348e-04,  2.95865088e-04,  3.98121301e-07,  0.00000000e+00,\n",
            "        0.00000000e+00,  0.00000000e+00,  0.00000000e+00, -6.22937223e-05,\n",
            "       -9.52275645e-04, -9.95505019e-04, -2.36486783e-03, -3.56975151e-03,\n",
            "       -2.51562893e-03, -1.38314837e-03, -1.60904450e-03, -2.37228535e-03,\n",
            "       -9.01135325e-04,  3.80109966e-04, -2.12179817e-04, -1.16989494e-03,\n",
            "       -3.78499390e-03, -6.00806018e-03, -1.73682184e-03, -1.62400666e-03,\n",
            "       -1.72945624e-03, -1.61682139e-03, -5.55908831e-04,  5.43140923e-04,\n",
            "        4.78083792e-04,  2.35722342e-04,  8.00339240e-06,  0.00000000e+00,\n",
            "        0.00000000e+00,  0.00000000e+00,  0.00000000e+00, -1.34896545e-04,\n",
            "       -8.96883139e-04, -7.92118837e-04, -1.56426663e-03, -3.93487560e-03,\n",
            "       -4.91308793e-03, -2.90348544e-03, -1.95451383e-03, -1.85397931e-03,\n",
            "       -1.93212647e-03, -2.42318027e-03, -1.60162244e-03, -2.68877158e-03,\n",
            "       -4.11587581e-03, -3.17368540e-03, -1.91655837e-03, -2.77383812e-03,\n",
            "       -1.44564442e-03, -8.71730503e-04, -4.53883898e-04,  4.94609878e-04,\n",
            "        4.67137957e-04,  3.37629666e-04,  1.50950989e-04,  0.00000000e+00,\n",
            "        0.00000000e+00,  0.00000000e+00,  2.12387768e-05,  2.08595575e-05,\n",
            "       -4.33381647e-04, -5.57490857e-04, -5.31915750e-04, -4.21771361e-03,\n",
            "       -4.49009612e-03, -2.79575773e-03, -1.65588688e-03, -6.31310395e-04,\n",
            "       -1.99903414e-04, -1.02241102e-04, -9.18490463e-04, -2.48957798e-03,\n",
            "       -3.00468225e-03, -1.57094072e-03, -2.17453204e-03, -1.26009516e-03,\n",
            "        3.43758555e-04,  4.91299550e-04, -7.70449755e-04, -3.02844361e-04,\n",
            "        2.91251519e-04,  1.67652091e-04,  6.83366598e-05,  0.00000000e+00,\n",
            "        0.00000000e+00,  0.00000000e+00,  1.10425208e-05,  8.18889239e-05,\n",
            "        3.14775010e-04,  4.51326137e-04, -1.27621715e-05, -1.91342749e-03,\n",
            "       -1.87837903e-03, -6.03296328e-04,  8.85675894e-04,  9.94380331e-04,\n",
            "       -1.01618841e-03, -2.03434308e-03, -2.48554954e-03, -2.94602755e-03,\n",
            "       -2.79405573e-03, -7.82210089e-04, -2.94362602e-04,  1.26474223e-03,\n",
            "        1.48866710e-03,  1.02092512e-03,  3.01169581e-04, -1.54672220e-04,\n",
            "        2.39125729e-04,  1.14899238e-04,  0.00000000e+00,  0.00000000e+00,\n",
            "        0.00000000e+00,  0.00000000e+00,  1.38474556e-04,  1.53979607e-04,\n",
            "        6.96952455e-04,  1.62002165e-03,  1.89685298e-03,  1.34654983e-03,\n",
            "       -2.95664475e-04, -8.18448607e-05,  1.10157451e-03,  5.97755658e-04,\n",
            "       -4.24673664e-04, -1.52511918e-03, -2.15859176e-03, -1.86857360e-03,\n",
            "       -9.13762662e-04,  2.94025638e-04,  1.13266951e-03,  1.47631322e-03,\n",
            "        8.37669824e-04,  3.23018001e-04,  4.99975693e-04,  4.07927029e-04,\n",
            "        2.99184263e-04,  4.91323190e-05,  0.00000000e+00,  0.00000000e+00,\n",
            "        0.00000000e+00,  0.00000000e+00,  2.10084880e-04,  1.54006513e-04,\n",
            "        7.03607686e-04,  1.63648324e-03,  2.52388115e-03,  2.70446204e-03,\n",
            "        3.00455117e-03,  2.87839677e-03,  2.23601190e-03,  2.13606376e-03,\n",
            "        1.46265398e-03,  1.01874757e-03,  1.45571190e-04, -1.02701935e-03,\n",
            "       -7.08645093e-04, -3.24108987e-06,  2.57627573e-04,  1.61858019e-03,\n",
            "        9.61111975e-04,  3.80435435e-04,  4.58451686e-04,  1.79424052e-04,\n",
            "        2.42455899e-05,  4.02096219e-07,  0.00000000e+00,  0.00000000e+00,\n",
            "        0.00000000e+00,  0.00000000e+00,  3.16889091e-05,  1.17992196e-04,\n",
            "        5.22382790e-04,  1.03849662e-03,  1.79549004e-03,  2.49436405e-03,\n",
            "        2.83148815e-03,  3.04917898e-03,  3.98397073e-03,  3.58143169e-03,\n",
            "        3.86043359e-03,  2.55946233e-03, -3.98920180e-04,  2.90902914e-04,\n",
            "        4.71655745e-04,  1.45733473e-04,  2.58248358e-04,  1.46069785e-03,\n",
            "        7.36507936e-04, -1.56795213e-04,  1.71537278e-04,  1.49487794e-04,\n",
            "        4.93758562e-05,  5.30682064e-06,  2.86647332e-06,  0.00000000e+00,\n",
            "        0.00000000e+00,  0.00000000e+00,  2.31253307e-05,  7.06486171e-05,\n",
            "        4.16107359e-04,  8.47689633e-04,  1.31612760e-03,  2.15415517e-03,\n",
            "        2.21529324e-03,  2.54002772e-03,  2.31855316e-03,  1.99271459e-03,\n",
            "        2.96208309e-03,  1.17990095e-03, -1.23415422e-03,  5.87767106e-04,\n",
            "        1.24742568e-04,  5.07884542e-05, -7.85864599e-04,  8.09268851e-04,\n",
            "        3.79899866e-04, -5.19113790e-04,  1.56839698e-04,  8.41396904e-05,\n",
            "        9.99074018e-06,  2.37159702e-06,  5.45387229e-06,  0.00000000e+00,\n",
            "        0.00000000e+00,  0.00000000e+00,  2.82250966e-07,  2.08549409e-05,\n",
            "        1.55011076e-04,  4.94233973e-04,  9.69704182e-04,  9.44407540e-04,\n",
            "        1.21372868e-03,  1.76211807e-03,  8.93647200e-04,  1.07249932e-03,\n",
            "        2.18871981e-03, -3.65488901e-04, -7.43259792e-04, -3.27307032e-04,\n",
            "       -4.46157035e-04, -5.00695198e-04, -1.31019205e-03,  1.97778456e-04,\n",
            "       -1.93595624e-05, -4.70609782e-04,  5.76102502e-06,  8.63003661e-05,\n",
            "        1.42059707e-05,  1.23417601e-06,  2.82666133e-06,  0.00000000e+00,\n",
            "        0.00000000e+00,  0.00000000e+00,  1.74127788e-08,  4.05693645e-05,\n",
            "        1.76505433e-04,  3.43291846e-04,  4.56678215e-04,  4.10608074e-04,\n",
            "        8.99612380e-04,  3.23491811e-04,  9.67731467e-06,  8.12325394e-04,\n",
            "        6.65280910e-04, -1.12128071e-03, -1.19513506e-03, -6.80951576e-04,\n",
            "        1.45697384e-04, -9.88462125e-04, -9.01827472e-04, -6.87070948e-04,\n",
            "       -6.56695687e-04, -5.41183908e-06,  4.38499665e-05,  7.13342379e-05,\n",
            "        4.51180022e-05,  0.00000000e+00,  0.00000000e+00,  0.00000000e+00,\n",
            "        0.00000000e+00,  0.00000000e+00,  0.00000000e+00,  5.50686527e-05,\n",
            "        2.09893071e-04,  3.07561597e-04, -6.92252361e-05,  4.38582210e-04,\n",
            "        1.29240379e-03, -3.61791230e-04,  8.50500714e-04,  9.04631801e-04,\n",
            "        1.31042860e-03, -4.47735627e-04,  2.69685697e-04,  2.15319404e-03,\n",
            "        4.95375134e-04, -4.50290245e-04, -6.04134519e-04, -8.13605438e-05,\n",
            "        3.45879758e-04,  2.75161699e-04,  5.89164301e-05,  7.13094414e-05,\n",
            "        4.47785533e-05,  0.00000000e+00,  0.00000000e+00,  0.00000000e+00,\n",
            "        0.00000000e+00,  0.00000000e+00,  0.00000000e+00,  2.54335782e-06,\n",
            "        8.82695167e-05,  2.29870406e-04,  4.78302623e-04,  9.63602448e-04,\n",
            "        8.04095238e-04,  5.67198731e-06,  2.01737601e-03,  2.29017111e-03,\n",
            "        2.05200305e-03,  1.79112586e-03,  1.81315769e-03,  1.96442334e-03,\n",
            "        1.70697889e-03,  9.79562406e-04,  1.05991948e-03,  5.67688316e-04,\n",
            "        3.57364566e-04,  9.82567581e-05,  7.34817222e-05,  9.34173222e-05,\n",
            "        2.04591652e-05,  0.00000000e+00,  0.00000000e+00,  0.00000000e+00,\n",
            "        0.00000000e+00,  0.00000000e+00,  0.00000000e+00,  4.90241200e-06,\n",
            "        4.52974746e-05,  7.71300547e-05,  1.49305779e-04,  1.45140817e-04,\n",
            "       -4.39003343e-04, -1.45150421e-04,  2.58682558e-04,  1.87831814e-04,\n",
            "        3.07604903e-04,  3.08273244e-04,  8.12045997e-04,  7.78096786e-04,\n",
            "        6.70436071e-04,  6.48871530e-04,  6.08674134e-04,  4.48112725e-04,\n",
            "        5.81758868e-05,  1.52660123e-05,  0.00000000e+00,  0.00000000e+00,\n",
            "        0.00000000e+00,  0.00000000e+00,  0.00000000e+00,  0.00000000e+00,\n",
            "        0.00000000e+00,  0.00000000e+00,  0.00000000e+00,  0.00000000e+00,\n",
            "        0.00000000e+00,  9.52104983e-06,  2.32087605e-05,  2.13450712e-05,\n",
            "        6.70558347e-06,  1.52155667e-06,  3.51199469e-06,  4.23192905e-05,\n",
            "        6.34395910e-05,  6.12356089e-05,  4.23677920e-05,  4.15362556e-05,\n",
            "        4.69199658e-05,  3.92228467e-05,  1.53590430e-04,  7.10161403e-05,\n",
            "        0.00000000e+00,  0.00000000e+00,  0.00000000e+00,  0.00000000e+00,\n",
            "        0.00000000e+00,  0.00000000e+00,  0.00000000e+00,  0.00000000e+00],\n",
            "      dtype=float32)]\n",
            "Época: 5/5, Perda: 0.4507, Acurácia: 90.40%\n",
            "Gradientes da classe 4: [array([ 0.00000000e+00,  0.00000000e+00,  0.00000000e+00,  0.00000000e+00,\n",
            "        0.00000000e+00,  0.00000000e+00,  0.00000000e+00,  0.00000000e+00,\n",
            "        0.00000000e+00,  0.00000000e+00,  0.00000000e+00,  0.00000000e+00,\n",
            "        0.00000000e+00,  0.00000000e+00,  0.00000000e+00,  0.00000000e+00,\n",
            "        0.00000000e+00,  0.00000000e+00,  0.00000000e+00,  0.00000000e+00,\n",
            "        0.00000000e+00,  0.00000000e+00,  0.00000000e+00,  0.00000000e+00,\n",
            "        0.00000000e+00,  0.00000000e+00,  0.00000000e+00,  0.00000000e+00,\n",
            "        0.00000000e+00,  0.00000000e+00,  0.00000000e+00,  0.00000000e+00,\n",
            "        0.00000000e+00,  0.00000000e+00,  0.00000000e+00,  0.00000000e+00,\n",
            "        0.00000000e+00,  0.00000000e+00,  1.84461896e-05,  1.14366376e-04,\n",
            "        0.00000000e+00,  2.29559610e-05,  1.11021007e-04,  1.51338623e-04,\n",
            "        8.74770485e-05,  1.33194713e-04,  6.67633285e-05,  0.00000000e+00,\n",
            "        0.00000000e+00,  0.00000000e+00,  0.00000000e+00,  0.00000000e+00,\n",
            "        0.00000000e+00,  0.00000000e+00,  0.00000000e+00,  0.00000000e+00,\n",
            "        0.00000000e+00,  0.00000000e+00,  0.00000000e+00,  0.00000000e+00,\n",
            "        0.00000000e+00,  0.00000000e+00,  0.00000000e+00,  0.00000000e+00,\n",
            "        0.00000000e+00,  0.00000000e+00,  1.87095357e-04,  4.41453711e-04,\n",
            "        2.49312754e-04,  2.23040959e-04,  4.74807282e-04,  1.49162399e-04,\n",
            "       -2.40499838e-04,  2.52556172e-04,  2.17084656e-04,  1.08760069e-04,\n",
            "        4.72665924e-05,  7.22178374e-05,  3.66497588e-05,  6.66569690e-07,\n",
            "        0.00000000e+00,  0.00000000e+00,  0.00000000e+00,  0.00000000e+00,\n",
            "        0.00000000e+00,  0.00000000e+00,  0.00000000e+00,  0.00000000e+00,\n",
            "        0.00000000e+00,  0.00000000e+00,  2.58665523e-06,  5.25786600e-05,\n",
            "        1.76557915e-05,  3.20790568e-05,  4.82885574e-04,  6.08650385e-04,\n",
            "        5.93777746e-04,  9.16160585e-04,  6.60585705e-04,  8.70608128e-05,\n",
            "       -1.17492513e-04,  4.49793268e-04,  5.35719097e-04,  5.34949591e-04,\n",
            "        4.56303620e-04,  2.18584421e-04,  1.53788078e-05,  5.36153891e-07,\n",
            "        0.00000000e+00,  0.00000000e+00,  0.00000000e+00,  0.00000000e+00,\n",
            "        0.00000000e+00,  0.00000000e+00,  0.00000000e+00,  0.00000000e+00,\n",
            "       -3.07734117e-05, -4.35848924e-05,  9.26436915e-05,  2.39518515e-04,\n",
            "        1.33382506e-04, -5.62423375e-04, -3.27467686e-04,  4.59687173e-04,\n",
            "        1.26210158e-03,  1.09482813e-03,  4.04263264e-04,  3.13856581e-04,\n",
            "        6.07682508e-04,  1.36410573e-03,  1.49165781e-03,  9.91172390e-04,\n",
            "        2.13094463e-04,  9.17013458e-05, -1.16734540e-04, -8.78894425e-05,\n",
            "        4.33394325e-06,  0.00000000e+00,  0.00000000e+00,  0.00000000e+00,\n",
            "        0.00000000e+00,  0.00000000e+00,  0.00000000e+00, -5.18787374e-06,\n",
            "       -1.60107622e-04, -1.35157883e-04,  2.27007666e-04,  3.41912470e-04,\n",
            "       -9.63647326e-05, -1.14056165e-03, -1.30999973e-03, -2.41913571e-04,\n",
            "        7.67968711e-04,  5.65661059e-04, -3.25571047e-04,  2.49191624e-04,\n",
            "        2.42387556e-04,  2.47197459e-04,  9.20913240e-04,  9.41889011e-04,\n",
            "        4.03560116e-04, -8.54075653e-04, -1.34868675e-03, -1.70914538e-03,\n",
            "       -1.05902471e-03, -4.46251914e-04,  1.19775250e-05,  0.00000000e+00,\n",
            "        0.00000000e+00,  0.00000000e+00,  0.00000000e+00, -1.11816880e-04,\n",
            "       -2.74612394e-04, -3.75706935e-04,  2.34694118e-04,  4.53303044e-04,\n",
            "       -4.60451527e-04, -1.28155493e-03, -1.03797868e-03, -1.81981770e-04,\n",
            "        1.25586672e-03,  1.11119612e-03,  2.23673577e-03,  3.53925093e-03,\n",
            "        4.09141602e-03,  1.96949835e-03,  1.62245473e-03,  1.17671222e-03,\n",
            "        4.89359663e-05, -2.04779510e-03, -2.79176096e-03, -2.24637333e-03,\n",
            "       -7.74422952e-04, -3.50108545e-04, -6.76074415e-05,  4.61446252e-05,\n",
            "        0.00000000e+00,  0.00000000e+00,  2.28618546e-06, -3.14293138e-05,\n",
            "       -2.87396339e-04, -5.26613789e-04,  1.79291936e-04,  2.24443531e-04,\n",
            "       -7.24124664e-04, -4.29620792e-04,  4.72952728e-04,  8.60819069e-04,\n",
            "        1.67992164e-03,  3.30704148e-03,  4.72123502e-03,  6.80077123e-03,\n",
            "        5.69369039e-03,  3.00707901e-03,  1.32221216e-03,  1.58480054e-03,\n",
            "        3.09623429e-05, -1.20078295e-03, -2.20940402e-03, -1.72316993e-03,\n",
            "       -4.41776821e-04,  4.33889363e-06, -8.90454794e-06,  2.71660028e-05,\n",
            "        0.00000000e+00,  0.00000000e+00,  2.09276664e-06, -5.74427759e-05,\n",
            "       -4.08941705e-04, -3.29526549e-04, -4.20578348e-04, -4.34787798e-04,\n",
            "        4.87463258e-05,  3.79125122e-04,  9.14120465e-04,  1.13117800e-03,\n",
            "        2.16347817e-03,  2.93413666e-03,  4.23709489e-03,  5.95805375e-03,\n",
            "        3.67325498e-03,  1.82524207e-03,  3.21369525e-03,  1.88827445e-03,\n",
            "        1.40827650e-03,  3.33529169e-04, -1.26443210e-03, -9.11286217e-04,\n",
            "        9.93361929e-04,  5.39815577e-04,  9.88090032e-05,  0.00000000e+00,\n",
            "        0.00000000e+00,  2.85561273e-05,  7.42442571e-05,  5.27618758e-05,\n",
            "       -1.59959411e-04, -3.03527690e-04, -2.61243025e-04,  1.70613188e-04,\n",
            "        1.34065130e-03,  1.35233486e-03,  1.55361148e-03,  1.05506077e-03,\n",
            "        1.09966088e-03,  1.15476258e-03,  4.06766497e-03,  5.01831342e-03,\n",
            "        5.75691869e-04,  8.23017093e-04,  2.28472822e-03,  1.95866707e-03,\n",
            "        1.62824022e-03,  4.81481547e-04, -1.13258441e-03,  2.29928235e-04,\n",
            "        1.04100141e-03,  2.40245950e-04,  5.97765684e-05,  0.00000000e+00,\n",
            "        0.00000000e+00,  3.29493787e-06,  4.38224233e-04,  5.17933571e-04,\n",
            "        4.62283642e-04, -2.21472423e-04,  8.88488285e-06,  6.39404636e-04,\n",
            "        1.04258931e-03,  3.28329392e-04,  4.18148848e-04, -4.92626918e-04,\n",
            "       -1.23278424e-03,  7.80652044e-04,  3.23178107e-03,  3.65251885e-03,\n",
            "       -3.53325740e-04, -1.40043732e-04,  1.68458908e-03,  1.47973571e-03,\n",
            "        1.16435997e-03, -5.35079744e-05, -1.37506530e-03,  4.96654131e-04,\n",
            "        4.39776806e-04,  6.15016324e-05,  4.71774712e-07,  0.00000000e+00,\n",
            "        0.00000000e+00,  0.00000000e+00,  3.13411467e-04,  5.26610762e-04,\n",
            "        2.20768998e-04, -6.54062431e-04,  5.39301371e-04,  8.05276271e-04,\n",
            "        4.99571674e-04, -1.47579901e-03, -1.96438469e-03, -3.10791098e-03,\n",
            "       -1.45662169e-03,  9.28642519e-04,  3.05369473e-03,  2.07770034e-03,\n",
            "       -2.00355891e-03, -1.41994806e-03,  1.17377657e-03,  3.88512039e-04,\n",
            "        9.93243419e-04, -3.03425157e-04, -8.18084285e-04,  7.01905927e-04,\n",
            "        3.39081162e-04,  3.79801759e-06,  4.11114206e-06,  0.00000000e+00,\n",
            "        0.00000000e+00,  0.00000000e+00,  2.96119015e-05,  2.00787923e-04,\n",
            "       -6.53181341e-04, -9.92991147e-04,  4.69320483e-04, -1.72598928e-04,\n",
            "       -6.68243389e-04, -3.18335020e-03, -6.26623956e-03, -5.69588365e-03,\n",
            "       -2.93638464e-03, -1.22361642e-04,  1.93214568e-03, -1.40700722e-05,\n",
            "       -3.88668245e-03, -1.96479773e-03,  7.83289142e-04,  5.31786936e-04,\n",
            "        1.49576250e-03, -3.07842914e-04,  2.64809409e-04,  1.24838529e-03,\n",
            "        5.48260869e-04,  1.39107869e-04,  3.27754628e-06,  0.00000000e+00,\n",
            "        0.00000000e+00,  0.00000000e+00,  9.03167256e-06, -9.06955465e-05,\n",
            "       -8.62740621e-04, -5.29855490e-04, -5.78725769e-04, -1.57885370e-03,\n",
            "       -1.87165465e-03, -4.11277777e-03, -6.63957186e-03, -5.20402705e-03,\n",
            "       -2.25093472e-03,  9.85196559e-04,  1.58118457e-03, -5.11137012e-04,\n",
            "       -3.30403470e-03, -3.83378798e-03, -1.28830620e-03,  4.27109189e-05,\n",
            "       -7.68980943e-04, -1.13907049e-03, -3.71229427e-04,  8.88407696e-04,\n",
            "        4.84499818e-04,  2.94397469e-04,  3.78907089e-07,  0.00000000e+00,\n",
            "        0.00000000e+00,  0.00000000e+00,  0.00000000e+00, -6.07600450e-05,\n",
            "       -9.36345023e-04, -9.67743807e-04, -2.31073680e-03, -3.47291655e-03,\n",
            "       -2.39477726e-03, -1.26608810e-03, -1.50288967e-03, -2.31072214e-03,\n",
            "       -8.86292080e-04,  3.60577891e-04, -2.28077188e-04, -1.15259341e-03,\n",
            "       -3.71079007e-03, -5.90889296e-03, -1.68903300e-03, -1.58918102e-03,\n",
            "       -1.68796710e-03, -1.59523450e-03, -5.48785611e-04,  5.44626731e-04,\n",
            "        4.73177730e-04,  2.34003586e-04,  7.99419649e-06,  0.00000000e+00,\n",
            "        0.00000000e+00,  0.00000000e+00,  0.00000000e+00, -1.32219211e-04,\n",
            "       -8.82156426e-04, -7.57061760e-04, -1.49185595e-03, -3.80833773e-03,\n",
            "       -4.77307197e-03, -2.77987635e-03, -1.84586085e-03, -1.76946167e-03,\n",
            "       -1.86517357e-03, -2.37572799e-03, -1.56681414e-03, -2.62003532e-03,\n",
            "       -4.01353836e-03, -3.09118070e-03, -1.85545231e-03, -2.71993759e-03,\n",
            "       -1.41227292e-03, -8.66301940e-04, -4.47235943e-04,  4.97104367e-04,\n",
            "        4.60426090e-04,  3.34038166e-04,  1.50532374e-04,  0.00000000e+00,\n",
            "        0.00000000e+00,  0.00000000e+00,  2.13657149e-05,  2.00925460e-05,\n",
            "       -4.23158315e-04, -5.23871626e-04, -4.73856082e-04, -4.11504321e-03,\n",
            "       -4.37001465e-03, -2.68129935e-03, -1.55752094e-03, -5.52805373e-04,\n",
            "       -1.32946647e-04, -4.25470498e-05, -8.57471547e-04, -2.39871978e-03,\n",
            "       -2.90632178e-03, -1.49985554e-03, -2.10049795e-03, -1.22612750e-03,\n",
            "        3.46472138e-04,  4.85846831e-04, -7.63886084e-04, -3.05753550e-04,\n",
            "        2.85545393e-04,  1.66567130e-04,  6.82581376e-05,  0.00000000e+00,\n",
            "        0.00000000e+00,  0.00000000e+00,  1.07798869e-05,  7.90524718e-05,\n",
            "        3.14648612e-04,  4.59943054e-04,  1.48135114e-05, -1.86293316e-03,\n",
            "       -1.82931905e-03, -5.69743919e-04,  9.06913076e-04,  1.02149462e-03,\n",
            "       -9.64958279e-04, -1.97801506e-03, -2.42459495e-03, -2.85761710e-03,\n",
            "       -2.72486056e-03, -7.51294545e-04, -2.67701660e-04,  1.26425887e-03,\n",
            "        1.47184986e-03,  9.95776849e-04,  2.84673413e-04, -1.63009783e-04,\n",
            "        2.33508879e-04,  1.13280912e-04,  0.00000000e+00,  0.00000000e+00,\n",
            "        0.00000000e+00,  0.00000000e+00,  1.38522242e-04,  1.50235806e-04,\n",
            "        6.88380038e-04,  1.60197157e-03,  1.87542266e-03,  1.32996449e-03,\n",
            "       -3.03488981e-04, -9.58502351e-05,  1.06834725e-03,  5.70615288e-04,\n",
            "       -4.37123817e-04, -1.51874439e-03, -2.13220972e-03, -1.83095259e-03,\n",
            "       -9.07740905e-04,  2.83523375e-04,  1.11670932e-03,  1.45080395e-03,\n",
            "        8.03229748e-04,  2.96454353e-04,  4.82450996e-04,  3.98980366e-04,\n",
            "        2.94815720e-04,  4.83621116e-05,  0.00000000e+00,  0.00000000e+00,\n",
            "        0.00000000e+00,  0.00000000e+00,  2.11035207e-04,  1.50386491e-04,\n",
            "        6.90293266e-04,  1.60844636e-03,  2.47573690e-03,  2.64645810e-03,\n",
            "        2.94194813e-03,  2.81054829e-03,  2.16787914e-03,  2.07217736e-03,\n",
            "        1.41497771e-03,  9.85376537e-04,  1.47701707e-04, -1.01994548e-03,\n",
            "       -7.17726885e-04, -2.88131414e-05,  2.35016894e-04,  1.58600789e-03,\n",
            "        9.41084698e-04,  3.64059175e-04,  4.46790480e-04,  1.74076384e-04,\n",
            "        2.31892082e-05,  3.70689520e-07,  0.00000000e+00,  0.00000000e+00,\n",
            "        0.00000000e+00,  0.00000000e+00,  3.10298019e-05,  1.13772126e-04,\n",
            "        5.06036740e-04,  1.00582861e-03,  1.74065330e-03,  2.42564781e-03,\n",
            "        2.75128009e-03,  2.96208216e-03,  3.88841191e-03,  3.49628762e-03,\n",
            "        3.78715829e-03,  2.50834622e-03, -4.09594300e-04,  2.79496948e-04,\n",
            "        4.48686827e-04,  1.21776524e-04,  2.40915862e-04,  1.44083844e-03,\n",
            "        7.22847821e-04, -1.64544646e-04,  1.64039157e-04,  1.44407270e-04,\n",
            "        4.74839835e-05,  5.14480507e-06,  2.72813122e-06,  0.00000000e+00,\n",
            "        0.00000000e+00,  0.00000000e+00,  2.26265001e-05,  6.81024685e-05,\n",
            "        4.02228296e-04,  8.20067595e-04,  1.27373612e-03,  2.09135725e-03,\n",
            "        2.14212737e-03,  2.45666108e-03,  2.23783590e-03,  1.92726054e-03,\n",
            "        2.90734950e-03,  1.15105277e-03, -1.23019458e-03,  5.86855749e-04,\n",
            "        9.97300958e-05,  3.34554352e-05, -7.90397346e-04,  7.96608685e-04,\n",
            "        3.68697190e-04, -5.22940536e-04,  1.49024374e-04,  8.09169578e-05,\n",
            "        9.43666237e-06,  2.25184567e-06,  5.19239939e-06,  0.00000000e+00,\n",
            "        0.00000000e+00,  0.00000000e+00,  2.66584891e-07,  1.98761318e-05,\n",
            "        1.48781808e-04,  4.76986868e-04,  9.39694059e-04,  9.06389032e-04,\n",
            "        1.16640795e-03,  1.70064066e-03,  8.50020093e-04,  1.04166835e-03,\n",
            "        2.16528028e-03, -3.62857303e-04, -7.16734678e-04, -3.14047240e-04,\n",
            "       -4.63595527e-04, -5.11907856e-04, -1.31028751e-03,  1.97585759e-04,\n",
            "       -1.85065219e-05, -4.71446867e-04,  2.16766807e-06,  8.32581864e-05,\n",
            "        1.36688968e-05,  1.17461195e-06,  2.69024054e-06,  0.00000000e+00,\n",
            "        0.00000000e+00,  0.00000000e+00,  1.63304534e-08,  3.95331226e-05,\n",
            "        1.71656779e-04,  3.33181990e-04,  4.41967160e-04,  3.89895664e-04,\n",
            "        8.63489462e-04,  2.95617967e-04, -1.15338480e-05,  7.96311302e-04,\n",
            "        6.54123141e-04, -1.10438431e-03, -1.16859586e-03, -6.70991023e-04,\n",
            "        1.27074891e-04, -9.89248161e-04, -8.93741264e-04, -6.70393871e-04,\n",
            "       -6.44255080e-04, -4.99763883e-06,  4.15142895e-05,  6.88260116e-05,\n",
            "        4.35830843e-05,  0.00000000e+00,  0.00000000e+00,  0.00000000e+00,\n",
            "        0.00000000e+00,  0.00000000e+00,  0.00000000e+00,  5.36846310e-05,\n",
            "        2.05654549e-04,  3.00432759e-04, -7.19399104e-05,  4.24711965e-04,\n",
            "        1.26997044e-03, -3.71788512e-04,  8.28498276e-04,  8.82832974e-04,\n",
            "        1.28689536e-03, -4.54099674e-04,  2.60803674e-04,  2.11369782e-03,\n",
            "        4.70869010e-04, -4.47007216e-04, -5.91815508e-04, -7.09534870e-05,\n",
            "        3.48999194e-04,  2.74387479e-04,  5.70570046e-05,  6.88833534e-05,\n",
            "        4.32615598e-05,  0.00000000e+00,  0.00000000e+00,  0.00000000e+00,\n",
            "        0.00000000e+00,  0.00000000e+00,  0.00000000e+00,  2.43721001e-06,\n",
            "        8.66221817e-05,  2.25613476e-04,  4.70921310e-04,  9.54277115e-04,\n",
            "        7.95093481e-04, -2.57650390e-06,  1.98451965e-03,  2.24805460e-03,\n",
            "        2.00828421e-03,  1.75678195e-03,  1.78554887e-03,  1.93104229e-03,\n",
            "        1.67588529e-03,  9.63369675e-04,  1.05078076e-03,  5.66498085e-04,\n",
            "        3.55055614e-04,  9.72440030e-05,  7.10280292e-05,  9.02525644e-05,\n",
            "        1.97660574e-05,  0.00000000e+00,  0.00000000e+00,  0.00000000e+00,\n",
            "        0.00000000e+00,  0.00000000e+00,  0.00000000e+00,  4.79917981e-06,\n",
            "        4.40730073e-05,  7.47533340e-05,  1.44403355e-04,  1.39424446e-04,\n",
            "       -4.44487174e-04, -1.53715533e-04,  2.48299737e-04,  1.80853458e-04,\n",
            "        2.99262872e-04,  2.98569794e-04,  7.99219357e-04,  7.65450299e-04,\n",
            "        6.57233351e-04,  6.37750141e-04,  6.03954191e-04,  4.44283389e-04,\n",
            "        5.62857531e-05,  1.47700202e-05,  0.00000000e+00,  0.00000000e+00,\n",
            "        0.00000000e+00,  0.00000000e+00,  0.00000000e+00,  0.00000000e+00,\n",
            "        0.00000000e+00,  0.00000000e+00,  0.00000000e+00,  0.00000000e+00,\n",
            "        0.00000000e+00,  9.04253830e-06,  2.21340979e-05,  2.03730378e-05,\n",
            "        6.32102001e-06,  1.41145699e-06,  3.34619472e-06,  4.07512744e-05,\n",
            "        6.09756753e-05,  5.87681789e-05,  4.06166691e-05,  3.95320239e-05,\n",
            "        4.46502672e-05,  3.77325196e-05,  1.52116903e-04,  7.05042985e-05,\n",
            "        0.00000000e+00,  0.00000000e+00,  0.00000000e+00,  0.00000000e+00,\n",
            "        0.00000000e+00,  0.00000000e+00,  0.00000000e+00,  0.00000000e+00],\n",
            "      dtype=float32)]\n"
          ]
        },
        {
          "output_type": "display_data",
          "data": {
            "text/plain": [
              "<Figure size 1800x600 with 0 Axes>"
            ]
          },
          "metadata": {}
        }
      ]
    },
    {
      "cell_type": "markdown",
      "metadata": {
        "id": "8UjOANOOe4Es"
      },
      "source": [
        "<details>\n",
        "<summary>Mostrar Resultado</summary>\n",
        "\n",
        "```python\n",
        "from IPython import display\n",
        "import numpy\n",
        "a = 5\n",
        "losses = []\n",
        "zs = []\n",
        "fig = plt.figure(figsize=(18, 6))\n",
        "\n",
        "try:\n",
        "    for i in range(epochs):\n",
        "        # Transforma a entrada para uma dimensão\n",
        "        inputs = Variable(x_train.view(-1, 28 * 28))\n",
        "        # Predict da rede\n",
        "        outputs = model(inputs)\n",
        "        zs.append(outputs[1].detach().numpy())\n",
        "\n",
        "        # calcula a perda\n",
        "        loss = criterion(outputs, Variable(y_train))\n",
        "\n",
        "        # zero, backpropagation, ajusta parâmetros pelo gradiente descendente\n",
        "        optimizer.zero_grad()\n",
        "        loss.backward()\n",
        "        optimizer.step()\n",
        "\n",
        "        losses.append(loss.data)\n",
        "        weights_d = model.weight.data[4].numpy().reshape(28,28)\n",
        "        weights_g = model.weight.grad.data[4].numpy().reshape(28,28)\n",
        "        ww = np.concatenate((weights_d,weights_g),1)\n",
        "        plt.imshow(ww.reshape((28,28*2)),cmap = 'gray')\n",
        "        display.display(fig)\n",
        "        display.clear_output(wait=True)\n",
        "        input(i)\n",
        "        \n",
        "        _, predicts = torch.max(outputs, 1)\n",
        "\n",
        "        y_pred = predicts.data\n",
        "        accuracy = (y_pred.numpy() == y_train.numpy()).mean()\n",
        "        print('Accuracy:', accuracy)\n",
        "        print(\"epoca: \" + str(i + 1))\n",
        "        print(\"perda: \" + str(loss.data.detach().numpy()))\n",
        "except KeyboardInterrupt:\n",
        "    pass\n",
        "```\n",
        "\n",
        "</details>\n",
        "\n"
      ]
    },
    {
      "cell_type": "markdown",
      "metadata": {
        "heading_collapsed": true,
        "id": "WNYt_-zhmvR7"
      },
      "source": [
        "## Perguntas"
      ]
    },
    {
      "cell_type": "markdown",
      "metadata": {
        "hidden": true,
        "id": "joaXY_W3mvR9"
      },
      "source": [
        "1. Qual é o shape da matriz de entrada na rede?\n",
        "        Resposta: 1000 x 28 x 28\n",
        "2. Qual é o shape da saída da rede?\n",
        "        Resposta: 1000 x 10\n",
        "3. Qual é o número total de parâmetros da rede, incluindo o bias?\n",
        "        Resposta: 28 x 28 x 10 + 10 =  7850"
      ]
    },
    {
      "cell_type": "markdown",
      "source": [],
      "metadata": {
        "id": "pAeqww_dxT3G"
      }
    },
    {
      "cell_type": "markdown",
      "metadata": {
        "id": "WzWdNQ6PmvR9"
      },
      "source": [
        "# Aprendizados\n",
        "\n",
        "Código de treinamento de uma rede neural para a classificação de dígitos MNIST, focando na visualização de perda, acurácia e gradientes da classe ao final de cada época."
      ]
    }
  ],
  "metadata": {
    "accelerator": "GPU",
    "colab": {
      "provenance": [],
      "include_colab_link": true
    },
    "kernelspec": {
      "display_name": "Python 3.10.2 64-bit",
      "language": "python",
      "name": "python3"
    },
    "language_info": {
      "name": "python",
      "version": "3.10.2"
    },
    "vscode": {
      "interpreter": {
        "hash": "5fe3e6f0cdaab8afdc61c52912fda83f7c0a71baaea1897dd7498e2df01e69ec"
      }
    }
  },
  "nbformat": 4,
  "nbformat_minor": 0
}